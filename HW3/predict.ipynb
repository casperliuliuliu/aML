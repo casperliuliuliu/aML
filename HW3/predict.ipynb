{
 "cells": [
  {
   "cell_type": "code",
   "execution_count": 8,
   "metadata": {},
   "outputs": [
    {
     "name": "stdout",
     "output_type": "stream",
     "text": [
      "(240, 10240)\n",
      "(240,)\n",
      "torch.Size([1, 1, 10240])\n"
     ]
    }
   ],
   "source": [
    "import torch\n",
    "import numpy as np\n",
    "from torch.utils.data import DataLoader\n",
    "from tqdm import tqdm\n",
    "\n",
    "# 讀取數據\n",
    "test_data = np.load('Data/test.npy')\n",
    "\n",
    "def resize_data(X_train, new_len):\n",
    "\n",
    "    if new_len > X_train.shape[1]:\n",
    "        print(f\"new_len {new_len} is greater than the current length {X_train.shape[1]}, returning original dataset.\")\n",
    "        return X_train\n",
    "    \n",
    "    X_resized = X_train[:, :new_len]\n",
    "    \n",
    "    return X_resized\n",
    "\n",
    "# 創建標籤\n",
    "test_label = np.zeros(len(test_data))\n",
    "\n",
    "# 合併數據和標籤\n",
    "X_test = resize_data(test_data, 10240)\n",
    "print(X_test.shape)\n",
    "print(test_label.shape)\n",
    "X_train_tensor = torch.tensor(X_test, dtype=torch.float).unsqueeze(1)  # Adding channel dimension\n",
    "y_train_tensor = torch.tensor(test_label, dtype=torch.long)  # Assuming classification task\n",
    "test_loader = DataLoader(X_train_tensor, shuffle=False)\n",
    "for ii in test_loader:\n",
    "    print(ii.shape)\n",
    "    break\n"
   ]
  },
  {
   "cell_type": "code",
   "execution_count": 9,
   "metadata": {},
   "outputs": [],
   "source": [
    "label_table = {\n",
    "    0: 'normal',\n",
    "    1: 'outer_break',\n",
    "    2: 'inner_break',\n",
    "}"
   ]
  },
  {
   "cell_type": "code",
   "execution_count": 15,
   "metadata": {},
   "outputs": [],
   "source": [
    "def test(model, test_loader):\n",
    "    model.eval()\n",
    "    model = model.cuda()\n",
    "    answer = []\n",
    "    for inputs in tqdm(test_loader):\n",
    "        inputs = inputs.cuda()\n",
    "        outputs = model(inputs)\n",
    "        _, predicted = torch.max(outputs, 1)\n",
    "        # print(predicted.item())\n",
    "        answer.append(predicted.item())\n",
    "    return answer"
   ]
  },
  {
   "cell_type": "code",
   "execution_count": 16,
   "metadata": {},
   "outputs": [
    {
     "name": "stdout",
     "output_type": "stream",
     "text": [
      "RecursiveScriptModule(\n",
      "  original_name=mod_resnet\n",
      "  (conv1): RecursiveScriptModule(original_name=Conv1d)\n",
      "  (bn1): RecursiveScriptModule(original_name=BatchNorm1d)\n",
      "  (maxpool): RecursiveScriptModule(original_name=MaxPool1d)\n",
      "  (avgpool): RecursiveScriptModule(original_name=AdaptiveAvgPool1d)\n",
      "  (fc): RecursiveScriptModule(original_name=Linear)\n",
      ")\n"
     ]
    },
    {
     "name": "stderr",
     "output_type": "stream",
     "text": [
      "100%|██████████| 240/240 [00:00<00:00, 3072.32it/s]\n"
     ]
    }
   ],
   "source": [
    "model = torch.jit.load('model_27.pt')\n",
    "print(model)\n",
    "answer = test(model, test_loader)"
   ]
  },
  {
   "cell_type": "code",
   "execution_count": 19,
   "metadata": {},
   "outputs": [],
   "source": [
    "import csv\n",
    "\n",
    "file_name = 'HW3.csv'\n",
    "\n",
    "with open(file_name, mode='w', newline='') as file:\n",
    "    writer = csv.writer(file)\n",
    "    for index in answer:\n",
    "        item = label_table[index]\n",
    "        writer.writerow([item])  # Write each item in its own row\n"
   ]
  }
 ],
 "metadata": {
  "kernelspec": {
   "display_name": "GPU",
   "language": "python",
   "name": "python3"
  },
  "language_info": {
   "codemirror_mode": {
    "name": "ipython",
    "version": 3
   },
   "file_extension": ".py",
   "mimetype": "text/x-python",
   "name": "python",
   "nbconvert_exporter": "python",
   "pygments_lexer": "ipython3",
   "version": "3.10.12"
  }
 },
 "nbformat": 4,
 "nbformat_minor": 2
}
