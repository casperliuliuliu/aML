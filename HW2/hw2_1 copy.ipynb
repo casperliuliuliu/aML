{
 "cells": [
  {
   "cell_type": "code",
   "execution_count": 1,
   "metadata": {},
   "outputs": [
    {
     "name": "stdout",
     "output_type": "stream",
     "text": [
      "Files and directories in 'D:\\Casper\\OTHER\\Data\\MNIST2\\HW2_MNIST_train':\n"
     ]
    }
   ],
   "source": [
    "import os\n",
    "from PIL import Image\n",
    "from torch.utils.data import DataLoader\n",
    "import torch.nn.functional as F\n",
    "import torch.nn as nn\n",
    "import torch.optim as optim\n",
    "import torch\n",
    "import torchvision.transforms as transforms\n",
    "import numpy as np\n",
    "# import aML.HW2.other.model_structure as model_structure\n",
    "path = \"/Users/liushiwen/Desktop/大四下/hw2/test_data\"\n",
    "path = \"D:\\Casper\\OTHER\\Data\\MNIST2\\HW2_MNIST_train\"\n",
    "dir_list = os.listdir(path)\n",
    "\n",
    "print(f\"Files and directories in '{path}':\")"
   ]
  },
  {
   "cell_type": "code",
   "execution_count": 2,
   "metadata": {},
   "outputs": [
    {
     "name": "stdout",
     "output_type": "stream",
     "text": [
      "0\t0.7734375\t0.4296875\t0.21875\t0.21875\n",
      "\n",
      "(128, 128, 4)\n"
     ]
    },
    {
     "data": {
      "image/png": "[encoded data removed]",
      "text/plain": [
       "<PIL.Image.Image image mode=L size=128x128>"
      ]
     },
     "metadata": {},
     "output_type": "display_data"
    }
   ],
   "source": [
    "f = open(f\"{path}/0000002.txt\", \"r\")\n",
    "print(f.read())\n",
    "img = Image.open(f'{path}/0121744.png')\n",
    "img = np.array(img)\n",
    "print(img.shape)\n",
    "img = Image.fromarray(img[:,:,2])\n",
    "display(img)"
   ]
  },
  {
   "cell_type": "code",
   "execution_count": 3,
   "metadata": {},
   "outputs": [
    {
     "data": {
      "text/plain": [
       "True"
      ]
     },
     "execution_count": 3,
     "metadata": {},
     "output_type": "execute_result"
    }
   ],
   "source": [
    "img = Image.open(f'{path}/0121700.png')\n",
    "r, g, b, trash = img.split()\n",
    "\n",
    "r_array = np.array(r)\n",
    "g_array = np.array(g)\n",
    "b_array = np.array(b)\n",
    "\n",
    "# Check if all channels have the same array values\n",
    "are_channels_same = np.array_equal(r_array, g_array) and np.array_equal(g_array, b_array)\n",
    "are_channels_same"
   ]
  },
  {
   "cell_type": "code",
   "execution_count": null,
   "metadata": {},
   "outputs": [],
   "source": []
  },
  {
   "cell_type": "code",
   "execution_count": 4,
   "metadata": {},
   "outputs": [],
   "source": [
    "import os\n",
    "import pandas as pd\n",
    "from torch.utils.data import Dataset\n",
    "from torchvision.io import read_image\n",
    "\n",
    "class CustomImageDataset(Dataset):\n",
    "    def __init__(self, data_folder, transform=None):\n",
    "        self.data_folder = data_folder\n",
    "        self.image_files = [f for f in os.listdir(data_folder) if f.endswith(\".png\")]\n",
    "        self.transform = transform\n",
    "\n",
    "    def __len__(self):\n",
    "        return len(self.image_files)\n",
    "\n",
    "    def __getitem__(self, idx):\n",
    "        image_path = os.path.join(self.data_folder, self.image_files[idx])\n",
    "        image = read_image(image_path)\n",
    "        image = image[0:3].float()\n",
    "        # image = image.reshape(1, 128, 128)\n",
    "        \n",
    "        txt_file = os.path.splitext(self.image_files[idx])[0] + \".txt\"\n",
    "        txt_path = os.path.join(self.data_folder, txt_file)\n",
    "        with open(txt_path, \"r\") as f:\n",
    "            first_line = f.readline().strip()\n",
    "            class_label = int(first_line.split()[0])\n",
    "\n",
    "        if self.transform:\n",
    "            image = self.transform(image)\n",
    "\n",
    "        return image, class_label\n",
    "    \n",
    "transform = transforms.Compose([])\n",
    "data_folder = path\n",
    "custom_dataset = CustomImageDataset(data_folder, transform)\n"
   ]
  },
  {
   "cell_type": "code",
   "execution_count": 5,
   "metadata": {},
   "outputs": [],
   "source": [
    "import random\n",
    "from torch.utils.data import DataLoader, Subset\n",
    "def get_dataloaders(data_folder, transform, train_ratio, val_ratio, batch_size):\n",
    "    # Create a single merged dataset\n",
    "    train_dataset = CustomImageDataset(data_folder, transform)\n",
    "    val_dataset = CustomImageDataset(data_folder, transform)\n",
    "    test_dataset = CustomImageDataset(data_folder, transform)\n",
    "\n",
    "    # obtain training indices that will be used for validation\n",
    "    num_train = len(test_dataset)\n",
    "    indices = list(range(num_train))\n",
    "    print(\"--------- INDEX checking ---------\")\n",
    "    print(f\"Original: {indices[:5]}\")\n",
    "    random.shuffle(indices)\n",
    "    print(f\"Shuffled: {indices[:5]}\")\n",
    "    print(\"--------- INDEX shuffled ---------\\n\")\n",
    "\n",
    "    split_train = int(np.floor(train_ratio * num_train))\n",
    "    split_val = split_train + int(np.floor(val_ratio * (num_train-split_train)))\n",
    "    train_idx, val_idx, test_idx = indices[0:split_train], indices[split_train:split_val], indices[split_val:]\n",
    "    merge_dataset = Subset(train_dataset, train_idx)\n",
    "\n",
    "    train_loader = DataLoader(merge_dataset, batch_size=batch_size)\n",
    "    val_loader = DataLoader(Subset(val_dataset, val_idx), batch_size=batch_size)\n",
    "    test_loader = DataLoader(Subset(test_dataset, test_idx), batch_size=batch_size)\n",
    "    \n",
    "    # check dataset\n",
    "    print(f\"Total number of samples: {num_train} datapoints\")\n",
    "    print(f\"Number of train samples: {len(train_loader)} batches/ {len(train_loader.dataset)} datapoints\")\n",
    "    print(f\"Number of val samples: {len(val_loader)} batches/ {len(val_loader.dataset)} datapoints\")\n",
    "    print(f\"Number of test samples: {len(test_loader)} batches/ {len(test_loader.dataset)} datapoints\")\n",
    "    print(f\"Data Transform: {transform}\")\n",
    "    print(f\"\")\n",
    "    \n",
    "    dataloaders = {\n",
    "        \"train\": train_loader,\n",
    "        \"val\": val_loader,\n",
    "        \"test\": test_loader,\n",
    "    }\n",
    "    return dataloaders"
   ]
  },
  {
   "cell_type": "code",
   "execution_count": 6,
   "metadata": {},
   "outputs": [
    {
     "name": "stdout",
     "output_type": "stream",
     "text": [
      "--------- INDEX checking ---------\n",
      "Original: [0, 1, 2, 3, 4]\n",
      "Shuffled: [21750, 45583, 42951, 36952, 40070]\n",
      "--------- INDEX shuffled ---------\n",
      "\n",
      "Total number of samples: 97396 datapoints\n",
      "Number of train samples: 1522 batches/ 97396 datapoints\n",
      "Number of val samples: 0 batches/ 0 datapoints\n",
      "Number of test samples: 0 batches/ 0 datapoints\n",
      "Data Transform: Compose(\n",
      ")\n",
      "\n"
     ]
    }
   ],
   "source": [
    "loaders = get_dataloaders(data_folder, transform, 1, 0.5, 64)"
   ]
  },
  {
   "cell_type": "code",
   "execution_count": 7,
   "metadata": {},
   "outputs": [],
   "source": [
    "def count_parameters(model):\n",
    "    total_num = 0\n",
    "    for parameter in model.parameters():\n",
    "        if parameter.requires_grad:\n",
    "            total_num += parameter.numel() \n",
    "    return total_num\n"
   ]
  },
  {
   "cell_type": "code",
   "execution_count": null,
   "metadata": {},
   "outputs": [],
   "source": []
  },
  {
   "cell_type": "code",
   "execution_count": 8,
   "metadata": {},
   "outputs": [
    {
     "name": "stdout",
     "output_type": "stream",
     "text": [
      "OFFICIAL START, Focus on the 1st problem\n"
     ]
    }
   ],
   "source": [
    "from datetime import datetime\n",
    "\n",
    "def pprint(output = '\\n', show_time = False): # print and fprint at the same time\n",
    "    filename = \"hw2-1-3-MAR24-1.txt\"\n",
    "    print(output)\n",
    "    with open(filename, 'a') as f:\n",
    "        if show_time:\n",
    "            f.write(datetime.now().strftime(\"[%Y-%m-%d %H:%M:%S] \"))\n",
    "\n",
    "        f.write(str(output))\n",
    "        f.write('\\n')\n",
    "pprint(\"OFFICIAL START, Focus on the 1st problem\", True)"
   ]
  },
  {
   "cell_type": "code",
   "execution_count": 11,
   "metadata": {},
   "outputs": [],
   "source": [
    "import time\n",
    "from torch import nn, optim\n",
    "from tqdm import tqdm\n",
    "\n",
    "def train(model_lists, model_name):\n",
    "    model = model_lists[model_name]()\n",
    "    if 'res' in model_name:\n",
    "        pprint(\"modify to 10 with res\")\n",
    "        num_features = model.fc.in_features\n",
    "        model.fc = torch.nn.Linear(num_features, 10)\n",
    "    elif 'swin' in model_name:\n",
    "        pprint(\"modify to 10 with swin\")\n",
    "        num_features = model.head.in_features\n",
    "        model.head = torch.nn.Linear(num_features, 10)\n",
    "\n",
    "\n",
    "    pprint(f\"Training model: {model_name}\", True)\n",
    "    model_parameters_amount = count_parameters(model)\n",
    "    pprint(f\"Total parameters: {model_parameters_amount:,}\")\n",
    "\n",
    "    model = model.cuda()\n",
    "    criterion = nn.CrossEntropyLoss()\n",
    "    lr= 0.005\n",
    "    optimizer = optim.Adam(model.parameters(), lr=lr)\n",
    "    # scheduler = optim.lr_scheduler.StepLR(optimizer, step_size=2, gamma=0.2)\n",
    "    pprint(f\"Learning rate={lr}\")\n",
    "    iteration = 0\n",
    "    best_accuracy = 99.75\n",
    "    epochs = 50\n",
    "    start = time.time()\n",
    "    phases = ['train']\n",
    "    for epoch in range(epochs):\n",
    "        for phase in phases:\n",
    "            running_loss = 0.0\n",
    "            correct_predictions = 0\n",
    "            correct_top3_predictions = 0\n",
    "            total_samples = 0\n",
    "            if phase == 'train':\n",
    "                model.train()  # Set model to training mode\n",
    "            else:\n",
    "                model.eval()   # Set model to evaluate mode\n",
    "            for images, labels in tqdm(loaders[phase]): # Iterate over data.\n",
    "                images, labels = images.cuda(), labels.cuda()\n",
    "                outputs = model(images)\n",
    "                loss = criterion(outputs, labels)\n",
    "\n",
    "                with torch.set_grad_enabled(phase == 'train'):\n",
    "                    if phase == 'train': # backward + optimize only if in training phase\n",
    "                        optimizer.zero_grad()\n",
    "                        loss.backward()\n",
    "                        optimizer.step()\n",
    "                        # scheduler.step()\n",
    "                running_loss += loss.item()\n",
    "                _, predicted = torch.max(outputs, 1)\n",
    "                correct_predictions += (predicted == labels).sum().item()\n",
    "                \n",
    "                _, top3_preds = outputs.topk(3, 1, True, True)\n",
    "                correct_top3_predictions += sum([labels[i] in top3_preds[i] for i in range(labels.size(0))])\n",
    "\n",
    "                total_samples += labels.size(0)\n",
    "                iteration += 1\n",
    "\n",
    "            avg_loss = running_loss / total_samples\n",
    "            top1_accuracy = correct_predictions / total_samples * 100\n",
    "            top3_accuracy = correct_top3_predictions / total_samples * 100\n",
    "            pprint(f\"Epoch [{epoch+1}/{epochs}], phase: {phase}, samples: {total_samples}, Loss: {avg_loss:.4f}, Top-1 Accuracy: {top1_accuracy:.2f}%, Top-3 Accuracy: {top3_accuracy:.2f}%\")\n",
    "            if top1_accuracy > best_accuracy:\n",
    "                best_accuracy = top1_accuracy\n",
    "                model_scripted = torch.jit.script(model) # Export to TorchScript\n",
    "                model_scripted.save(f'{model_name}_{best_accuracy}.pt') # Save\n",
    "                pprint(f\"weight saved as: {model_name}_{best_accuracy}.pt\")\n",
    "                \n",
    "    end = time.time()\n",
    "    duration = end - start\n",
    "    pprint(f\"Elapsed time: {duration} seconds\")\n",
    "    model_scripted = torch.jit.script(model) # Export to TorchScript\n",
    "    model_scripted.save(f'{model_name}.pt') # Save\n",
    "    pprint(f\"weight saved as: {model_name}.pt\")"
   ]
  },
  {
   "cell_type": "code",
   "execution_count": 12,
   "metadata": {},
   "outputs": [
    {
     "name": "stdout",
     "output_type": "stream",
     "text": [
      "modify to 10 with res\n",
      "Training model: resnet152_hw1\n",
      "Total parameters: 58,164,298\n",
      "Learning rate=0.005\n"
     ]
    },
    {
     "name": "stderr",
     "output_type": "stream",
     "text": [
      "100%|██████████| 1522/1522 [03:28<00:00,  7.29it/s]\n"
     ]
    },
    {
     "name": "stdout",
     "output_type": "stream",
     "text": [
      "Epoch [1/50], phase: train, samples: 97396, Loss: 0.0048, Top-1 Accuracy: 90.10%, Top-3 Accuracy: 97.49%\n"
     ]
    },
    {
     "name": "stderr",
     "output_type": "stream",
     "text": [
      "100%|██████████| 1522/1522 [03:28<00:00,  7.29it/s]\n"
     ]
    },
    {
     "name": "stdout",
     "output_type": "stream",
     "text": [
      "Epoch [2/50], phase: train, samples: 97396, Loss: 0.0022, Top-1 Accuracy: 95.92%, Top-3 Accuracy: 99.41%\n"
     ]
    },
    {
     "name": "stderr",
     "output_type": "stream",
     "text": [
      "100%|██████████| 1522/1522 [03:29<00:00,  7.25it/s]\n"
     ]
    },
    {
     "name": "stdout",
     "output_type": "stream",
     "text": [
      "Epoch [3/50], phase: train, samples: 97396, Loss: 0.0011, Top-1 Accuracy: 97.86%, Top-3 Accuracy: 99.80%\n"
     ]
    },
    {
     "name": "stderr",
     "output_type": "stream",
     "text": [
      "100%|██████████| 1522/1522 [03:29<00:00,  7.25it/s]\n"
     ]
    },
    {
     "name": "stdout",
     "output_type": "stream",
     "text": [
      "Epoch [4/50], phase: train, samples: 97396, Loss: 0.0009, Top-1 Accuracy: 98.23%, Top-3 Accuracy: 99.86%\n"
     ]
    },
    {
     "name": "stderr",
     "output_type": "stream",
     "text": [
      "100%|██████████| 1522/1522 [03:30<00:00,  7.22it/s]\n"
     ]
    },
    {
     "name": "stdout",
     "output_type": "stream",
     "text": [
      "Epoch [5/50], phase: train, samples: 97396, Loss: 0.0008, Top-1 Accuracy: 98.45%, Top-3 Accuracy: 99.89%\n"
     ]
    },
    {
     "name": "stderr",
     "output_type": "stream",
     "text": [
      "100%|██████████| 1522/1522 [03:32<00:00,  7.15it/s]\n"
     ]
    },
    {
     "name": "stdout",
     "output_type": "stream",
     "text": [
      "Epoch [6/50], phase: train, samples: 97396, Loss: 0.0007, Top-1 Accuracy: 98.62%, Top-3 Accuracy: 99.92%\n"
     ]
    },
    {
     "name": "stderr",
     "output_type": "stream",
     "text": [
      "100%|██████████| 1522/1522 [03:35<00:00,  7.06it/s]\n"
     ]
    },
    {
     "name": "stdout",
     "output_type": "stream",
     "text": [
      "Epoch [7/50], phase: train, samples: 97396, Loss: 0.0006, Top-1 Accuracy: 98.79%, Top-3 Accuracy: 99.93%\n"
     ]
    },
    {
     "name": "stderr",
     "output_type": "stream",
     "text": [
      "100%|██████████| 1522/1522 [03:32<00:00,  7.17it/s]\n"
     ]
    },
    {
     "name": "stdout",
     "output_type": "stream",
     "text": [
      "Epoch [8/50], phase: train, samples: 97396, Loss: 0.0005, Top-1 Accuracy: 98.95%, Top-3 Accuracy: 99.95%\n"
     ]
    },
    {
     "name": "stderr",
     "output_type": "stream",
     "text": [
      "100%|██████████| 1522/1522 [03:32<00:00,  7.17it/s]\n"
     ]
    },
    {
     "name": "stdout",
     "output_type": "stream",
     "text": [
      "Epoch [9/50], phase: train, samples: 97396, Loss: 0.0004, Top-1 Accuracy: 99.12%, Top-3 Accuracy: 99.96%\n"
     ]
    },
    {
     "name": "stderr",
     "output_type": "stream",
     "text": [
      "100%|██████████| 1522/1522 [03:32<00:00,  7.18it/s]\n"
     ]
    },
    {
     "name": "stdout",
     "output_type": "stream",
     "text": [
      "Epoch [10/50], phase: train, samples: 97396, Loss: 0.0004, Top-1 Accuracy: 99.18%, Top-3 Accuracy: 99.97%\n"
     ]
    },
    {
     "name": "stderr",
     "output_type": "stream",
     "text": [
      "100%|██████████| 1522/1522 [03:32<00:00,  7.18it/s]\n"
     ]
    },
    {
     "name": "stdout",
     "output_type": "stream",
     "text": [
      "Epoch [11/50], phase: train, samples: 97396, Loss: 0.0004, Top-1 Accuracy: 99.30%, Top-3 Accuracy: 99.98%\n"
     ]
    },
    {
     "name": "stderr",
     "output_type": "stream",
     "text": [
      "100%|██████████| 1522/1522 [03:32<00:00,  7.17it/s]\n"
     ]
    },
    {
     "name": "stdout",
     "output_type": "stream",
     "text": [
      "Epoch [12/50], phase: train, samples: 97396, Loss: 0.0003, Top-1 Accuracy: 99.32%, Top-3 Accuracy: 99.98%\n"
     ]
    },
    {
     "name": "stderr",
     "output_type": "stream",
     "text": [
      "100%|██████████| 1522/1522 [03:32<00:00,  7.17it/s]\n"
     ]
    },
    {
     "name": "stdout",
     "output_type": "stream",
     "text": [
      "Epoch [13/50], phase: train, samples: 97396, Loss: 0.0003, Top-1 Accuracy: 99.38%, Top-3 Accuracy: 99.99%\n"
     ]
    },
    {
     "name": "stderr",
     "output_type": "stream",
     "text": [
      "100%|██████████| 1522/1522 [03:31<00:00,  7.18it/s]\n"
     ]
    },
    {
     "name": "stdout",
     "output_type": "stream",
     "text": [
      "Epoch [14/50], phase: train, samples: 97396, Loss: 0.0003, Top-1 Accuracy: 99.43%, Top-3 Accuracy: 99.98%\n"
     ]
    },
    {
     "name": "stderr",
     "output_type": "stream",
     "text": [
      "100%|██████████| 1522/1522 [03:32<00:00,  7.18it/s]\n"
     ]
    },
    {
     "name": "stdout",
     "output_type": "stream",
     "text": [
      "Epoch [15/50], phase: train, samples: 97396, Loss: 0.0003, Top-1 Accuracy: 99.48%, Top-3 Accuracy: 99.98%\n"
     ]
    },
    {
     "name": "stderr",
     "output_type": "stream",
     "text": [
      "100%|██████████| 1522/1522 [03:32<00:00,  7.15it/s]\n"
     ]
    },
    {
     "name": "stdout",
     "output_type": "stream",
     "text": [
      "Epoch [16/50], phase: train, samples: 97396, Loss: 0.0002, Top-1 Accuracy: 99.52%, Top-3 Accuracy: 99.99%\n"
     ]
    },
    {
     "name": "stderr",
     "output_type": "stream",
     "text": [
      "100%|██████████| 1522/1522 [03:32<00:00,  7.18it/s]\n"
     ]
    },
    {
     "name": "stdout",
     "output_type": "stream",
     "text": [
      "Epoch [17/50], phase: train, samples: 97396, Loss: 0.0002, Top-1 Accuracy: 99.52%, Top-3 Accuracy: 99.99%\n"
     ]
    },
    {
     "name": "stderr",
     "output_type": "stream",
     "text": [
      "100%|██████████| 1522/1522 [03:31<00:00,  7.18it/s]\n"
     ]
    },
    {
     "name": "stdout",
     "output_type": "stream",
     "text": [
      "Epoch [18/50], phase: train, samples: 97396, Loss: 0.0002, Top-1 Accuracy: 99.62%, Top-3 Accuracy: 99.99%\n"
     ]
    },
    {
     "name": "stderr",
     "output_type": "stream",
     "text": [
      "100%|██████████| 1522/1522 [03:31<00:00,  7.19it/s]\n"
     ]
    },
    {
     "name": "stdout",
     "output_type": "stream",
     "text": [
      "Epoch [19/50], phase: train, samples: 97396, Loss: 0.0002, Top-1 Accuracy: 99.57%, Top-3 Accuracy: 99.99%\n"
     ]
    },
    {
     "name": "stderr",
     "output_type": "stream",
     "text": [
      "100%|██████████| 1522/1522 [03:31<00:00,  7.18it/s]\n"
     ]
    },
    {
     "name": "stdout",
     "output_type": "stream",
     "text": [
      "Epoch [20/50], phase: train, samples: 97396, Loss: 0.0002, Top-1 Accuracy: 99.64%, Top-3 Accuracy: 99.99%\n"
     ]
    },
    {
     "name": "stderr",
     "output_type": "stream",
     "text": [
      "100%|██████████| 1522/1522 [03:32<00:00,  7.17it/s]\n"
     ]
    },
    {
     "name": "stdout",
     "output_type": "stream",
     "text": [
      "Epoch [21/50], phase: train, samples: 97396, Loss: 0.0002, Top-1 Accuracy: 99.67%, Top-3 Accuracy: 99.99%\n"
     ]
    },
    {
     "name": "stderr",
     "output_type": "stream",
     "text": [
      "100%|██████████| 1522/1522 [03:32<00:00,  7.16it/s]\n"
     ]
    },
    {
     "name": "stdout",
     "output_type": "stream",
     "text": [
      "Epoch [22/50], phase: train, samples: 97396, Loss: 0.0002, Top-1 Accuracy: 99.63%, Top-3 Accuracy: 99.99%\n"
     ]
    },
    {
     "name": "stderr",
     "output_type": "stream",
     "text": [
      "100%|██████████| 1522/1522 [03:34<00:00,  7.11it/s]\n"
     ]
    },
    {
     "name": "stdout",
     "output_type": "stream",
     "text": [
      "Epoch [23/50], phase: train, samples: 97396, Loss: 0.0002, Top-1 Accuracy: 99.69%, Top-3 Accuracy: 99.99%\n"
     ]
    },
    {
     "name": "stderr",
     "output_type": "stream",
     "text": [
      "100%|██████████| 1522/1522 [03:34<00:00,  7.11it/s]\n"
     ]
    },
    {
     "name": "stdout",
     "output_type": "stream",
     "text": [
      "Epoch [24/50], phase: train, samples: 97396, Loss: 0.0002, Top-1 Accuracy: 99.70%, Top-3 Accuracy: 99.99%\n"
     ]
    },
    {
     "name": "stderr",
     "output_type": "stream",
     "text": [
      "100%|██████████| 1522/1522 [03:32<00:00,  7.17it/s]\n"
     ]
    },
    {
     "name": "stdout",
     "output_type": "stream",
     "text": [
      "Epoch [25/50], phase: train, samples: 97396, Loss: 0.0001, Top-1 Accuracy: 99.74%, Top-3 Accuracy: 100.00%\n"
     ]
    },
    {
     "name": "stderr",
     "output_type": "stream",
     "text": [
      "100%|██████████| 1522/1522 [03:32<00:00,  7.16it/s]\n"
     ]
    },
    {
     "name": "stdout",
     "output_type": "stream",
     "text": [
      "Epoch [26/50], phase: train, samples: 97396, Loss: 0.0001, Top-1 Accuracy: 99.75%, Top-3 Accuracy: 100.00%\n"
     ]
    },
    {
     "name": "stderr",
     "output_type": "stream",
     "text": [
      "100%|██████████| 1522/1522 [03:32<00:00,  7.16it/s]\n"
     ]
    },
    {
     "name": "stdout",
     "output_type": "stream",
     "text": [
      "Epoch [27/50], phase: train, samples: 97396, Loss: 0.0002, Top-1 Accuracy: 99.70%, Top-3 Accuracy: 100.00%\n"
     ]
    },
    {
     "name": "stderr",
     "output_type": "stream",
     "text": [
      "100%|██████████| 1522/1522 [03:32<00:00,  7.16it/s]\n"
     ]
    },
    {
     "name": "stdout",
     "output_type": "stream",
     "text": [
      "Epoch [28/50], phase: train, samples: 97396, Loss: 0.0001, Top-1 Accuracy: 99.75%, Top-3 Accuracy: 100.00%\n",
      "weight saved as: resnet152_hw1_99.75255657316522.pt\n"
     ]
    },
    {
     "name": "stderr",
     "output_type": "stream",
     "text": [
      "100%|██████████| 1522/1522 [03:32<00:00,  7.15it/s]\n"
     ]
    },
    {
     "name": "stdout",
     "output_type": "stream",
     "text": [
      "Epoch [29/50], phase: train, samples: 97396, Loss: 0.0001, Top-1 Accuracy: 99.75%, Top-3 Accuracy: 99.99%\n"
     ]
    },
    {
     "name": "stderr",
     "output_type": "stream",
     "text": [
      "100%|██████████| 1522/1522 [03:32<00:00,  7.16it/s]\n"
     ]
    },
    {
     "name": "stdout",
     "output_type": "stream",
     "text": [
      "Epoch [30/50], phase: train, samples: 97396, Loss: 0.0001, Top-1 Accuracy: 99.76%, Top-3 Accuracy: 100.00%\n",
      "weight saved as: resnet152_hw1_99.7576902542199.pt\n"
     ]
    },
    {
     "name": "stderr",
     "output_type": "stream",
     "text": [
      "100%|██████████| 1522/1522 [03:32<00:00,  7.15it/s]\n"
     ]
    },
    {
     "name": "stdout",
     "output_type": "stream",
     "text": [
      "Epoch [31/50], phase: train, samples: 97396, Loss: 0.0001, Top-1 Accuracy: 99.75%, Top-3 Accuracy: 100.00%\n"
     ]
    },
    {
     "name": "stderr",
     "output_type": "stream",
     "text": [
      "100%|██████████| 1522/1522 [03:32<00:00,  7.16it/s]\n"
     ]
    },
    {
     "name": "stdout",
     "output_type": "stream",
     "text": [
      "Epoch [32/50], phase: train, samples: 97396, Loss: 0.0001, Top-1 Accuracy: 99.76%, Top-3 Accuracy: 100.00%\n"
     ]
    },
    {
     "name": "stderr",
     "output_type": "stream",
     "text": [
      "100%|██████████| 1522/1522 [03:32<00:00,  7.15it/s]\n"
     ]
    },
    {
     "name": "stdout",
     "output_type": "stream",
     "text": [
      "Epoch [33/50], phase: train, samples: 97396, Loss: 0.0001, Top-1 Accuracy: 99.79%, Top-3 Accuracy: 100.00%\n",
      "weight saved as: resnet152_hw1_99.79362602160253.pt\n"
     ]
    },
    {
     "name": "stderr",
     "output_type": "stream",
     "text": [
      "100%|██████████| 1522/1522 [03:32<00:00,  7.16it/s]\n"
     ]
    },
    {
     "name": "stdout",
     "output_type": "stream",
     "text": [
      "Epoch [34/50], phase: train, samples: 97396, Loss: 0.0001, Top-1 Accuracy: 99.82%, Top-3 Accuracy: 99.99%\n",
      "weight saved as: resnet152_hw1_99.81621421824305.pt\n"
     ]
    },
    {
     "name": "stderr",
     "output_type": "stream",
     "text": [
      "100%|██████████| 1522/1522 [03:32<00:00,  7.17it/s]\n"
     ]
    },
    {
     "name": "stdout",
     "output_type": "stream",
     "text": [
      "Epoch [35/50], phase: train, samples: 97396, Loss: 0.0001, Top-1 Accuracy: 99.79%, Top-3 Accuracy: 99.99%\n"
     ]
    },
    {
     "name": "stderr",
     "output_type": "stream",
     "text": [
      "100%|██████████| 1522/1522 [03:32<00:00,  7.15it/s]\n"
     ]
    },
    {
     "name": "stdout",
     "output_type": "stream",
     "text": [
      "Epoch [36/50], phase: train, samples: 97396, Loss: 0.0001, Top-1 Accuracy: 99.84%, Top-3 Accuracy: 100.00%\n",
      "weight saved as: resnet152_hw1_99.8398291510945.pt\n"
     ]
    },
    {
     "name": "stderr",
     "output_type": "stream",
     "text": [
      "100%|██████████| 1522/1522 [03:32<00:00,  7.16it/s]\n"
     ]
    },
    {
     "name": "stdout",
     "output_type": "stream",
     "text": [
      "Epoch [37/50], phase: train, samples: 97396, Loss: 0.0001, Top-1 Accuracy: 99.80%, Top-3 Accuracy: 100.00%\n"
     ]
    },
    {
     "name": "stderr",
     "output_type": "stream",
     "text": [
      "100%|██████████| 1522/1522 [03:32<00:00,  7.16it/s]\n"
     ]
    },
    {
     "name": "stdout",
     "output_type": "stream",
     "text": [
      "Epoch [38/50], phase: train, samples: 97396, Loss: 0.0001, Top-1 Accuracy: 99.77%, Top-3 Accuracy: 100.00%\n"
     ]
    },
    {
     "name": "stderr",
     "output_type": "stream",
     "text": [
      "100%|██████████| 1522/1522 [03:32<00:00,  7.15it/s]\n"
     ]
    },
    {
     "name": "stdout",
     "output_type": "stream",
     "text": [
      "Epoch [39/50], phase: train, samples: 97396, Loss: 0.0001, Top-1 Accuracy: 99.78%, Top-3 Accuracy: 100.00%\n"
     ]
    },
    {
     "name": "stderr",
     "output_type": "stream",
     "text": [
      "100%|██████████| 1522/1522 [03:33<00:00,  7.12it/s]\n"
     ]
    },
    {
     "name": "stdout",
     "output_type": "stream",
     "text": [
      "Epoch [40/50], phase: train, samples: 97396, Loss: 0.0001, Top-1 Accuracy: 99.79%, Top-3 Accuracy: 100.00%\n"
     ]
    },
    {
     "name": "stderr",
     "output_type": "stream",
     "text": [
      "100%|██████████| 1522/1522 [03:34<00:00,  7.10it/s]\n"
     ]
    },
    {
     "name": "stdout",
     "output_type": "stream",
     "text": [
      "Epoch [41/50], phase: train, samples: 97396, Loss: 0.0001, Top-1 Accuracy: 99.87%, Top-3 Accuracy: 100.00%\n",
      "weight saved as: resnet152_hw1_99.87268470984435.pt\n"
     ]
    },
    {
     "name": "stderr",
     "output_type": "stream",
     "text": [
      "100%|██████████| 1522/1522 [03:32<00:00,  7.18it/s]\n"
     ]
    },
    {
     "name": "stdout",
     "output_type": "stream",
     "text": [
      "Epoch [42/50], phase: train, samples: 97396, Loss: 0.0001, Top-1 Accuracy: 99.82%, Top-3 Accuracy: 100.00%\n"
     ]
    },
    {
     "name": "stderr",
     "output_type": "stream",
     "text": [
      "100%|██████████| 1522/1522 [03:32<00:00,  7.15it/s]\n"
     ]
    },
    {
     "name": "stdout",
     "output_type": "stream",
     "text": [
      "Epoch [43/50], phase: train, samples: 97396, Loss: 0.0001, Top-1 Accuracy: 99.82%, Top-3 Accuracy: 100.00%\n"
     ]
    },
    {
     "name": "stderr",
     "output_type": "stream",
     "text": [
      "100%|██████████| 1522/1522 [03:32<00:00,  7.16it/s]\n"
     ]
    },
    {
     "name": "stdout",
     "output_type": "stream",
     "text": [
      "Epoch [44/50], phase: train, samples: 97396, Loss: 0.0001, Top-1 Accuracy: 99.84%, Top-3 Accuracy: 100.00%\n"
     ]
    },
    {
     "name": "stderr",
     "output_type": "stream",
     "text": [
      "100%|██████████| 1522/1522 [03:32<00:00,  7.16it/s]\n"
     ]
    },
    {
     "name": "stdout",
     "output_type": "stream",
     "text": [
      "Epoch [45/50], phase: train, samples: 97396, Loss: 0.0001, Top-1 Accuracy: 99.86%, Top-3 Accuracy: 100.00%\n"
     ]
    },
    {
     "name": "stderr",
     "output_type": "stream",
     "text": [
      "100%|██████████| 1522/1522 [03:32<00:00,  7.16it/s]\n"
     ]
    },
    {
     "name": "stdout",
     "output_type": "stream",
     "text": [
      "Epoch [46/50], phase: train, samples: 97396, Loss: 0.0001, Top-1 Accuracy: 99.85%, Top-3 Accuracy: 100.00%\n"
     ]
    },
    {
     "name": "stderr",
     "output_type": "stream",
     "text": [
      "100%|██████████| 1522/1522 [03:32<00:00,  7.17it/s]\n"
     ]
    },
    {
     "name": "stdout",
     "output_type": "stream",
     "text": [
      "Epoch [47/50], phase: train, samples: 97396, Loss: 0.0001, Top-1 Accuracy: 99.87%, Top-3 Accuracy: 100.00%\n"
     ]
    },
    {
     "name": "stderr",
     "output_type": "stream",
     "text": [
      "100%|██████████| 1522/1522 [03:32<00:00,  7.16it/s]\n"
     ]
    },
    {
     "name": "stdout",
     "output_type": "stream",
     "text": [
      "Epoch [48/50], phase: train, samples: 97396, Loss: 0.0001, Top-1 Accuracy: 99.86%, Top-3 Accuracy: 100.00%\n"
     ]
    },
    {
     "name": "stderr",
     "output_type": "stream",
     "text": [
      "100%|██████████| 1522/1522 [03:32<00:00,  7.17it/s]\n"
     ]
    },
    {
     "name": "stdout",
     "output_type": "stream",
     "text": [
      "Epoch [49/50], phase: train, samples: 97396, Loss: 0.0001, Top-1 Accuracy: 99.82%, Top-3 Accuracy: 99.99%\n"
     ]
    },
    {
     "name": "stderr",
     "output_type": "stream",
     "text": [
      "100%|██████████| 1522/1522 [03:32<00:00,  7.15it/s]\n"
     ]
    },
    {
     "name": "stdout",
     "output_type": "stream",
     "text": [
      "Epoch [50/50], phase: train, samples: 97396, Loss: 0.0001, Top-1 Accuracy: 99.87%, Top-3 Accuracy: 100.00%\n",
      "Elapsed time: 10621.786568641663 seconds\n",
      "weight saved as: resnet152_hw1.pt\n"
     ]
    }
   ],
   "source": [
    "import torchvision.models as models\n",
    "\n",
    "model_lists = {\n",
    "    'resnet152_hw1': lambda: models.resnet152(weights=models.ResNet152_Weights.DEFAULT),\n",
    "}\n",
    "\n",
    "model_names = [\n",
    "    'resnet152_hw1',\n",
    "]\n",
    "for model_name in model_names:\n",
    "    train(model_lists, model_name)"
   ]
  },
  {
   "cell_type": "code",
   "execution_count": null,
   "metadata": {},
   "outputs": [],
   "source": [
    "def majority_voting(output_list):\n",
    "    stacked_outputs = torch.stack(output_list)\n",
    "    avg_probs = torch.mean(stacked_outputs, dim=0)\n",
    "    \n",
    "    return avg_probs"
   ]
  },
  {
   "cell_type": "code",
   "execution_count": null,
   "metadata": {},
   "outputs": [],
   "source": [
    "import time\n",
    "from torch import nn, optim\n",
    "from tqdm import tqdm\n",
    "\n",
    "def eval(model_list):\n",
    "    for model in model_list:\n",
    "        model.cuda()\n",
    "        model.eval()\n",
    "    criterion = nn.CrossEntropyLoss()\n",
    "    start = time.time()\n",
    "    phases = ['val']\n",
    "    num_class = 10\n",
    "    for phase in phases:\n",
    "        running_loss = 0.0\n",
    "        correct_predictions = 0\n",
    "        correct_top3_predictions = 0\n",
    "        total_samples = 0\n",
    "        confus = torch.zeros(num_class, num_class,dtype=int)            \n",
    "        for images, labels in tqdm(loaders[phase]): # Iterate over data.\n",
    "            images, labels = images.cuda(), labels.cuda()\n",
    "            model_outputs = []\n",
    "            for model in model_list:\n",
    "                with torch.no_grad():\n",
    "                    outputs = model(images)\n",
    "                    model_outputs.append(outputs)\n",
    "            vote_outputs = majority_voting(model_outputs)\n",
    "            loss = criterion(vote_outputs, labels)\n",
    "            running_loss += loss.item()\n",
    "            _, predicted = torch.max(vote_outputs, 1)\n",
    "            correct_predictions += (predicted == labels).sum().item()\n",
    "            \n",
    "            _, top3_preds = outputs.topk(3, 1, True, True)\n",
    "            correct_top3_predictions += sum([labels[i] in top3_preds[i] for i in range(labels.size(0))])\n",
    "            total_samples += labels.size(0)\n",
    "\n",
    "            for ii in range(len(predicted)):\n",
    "                confus[ labels.data[ii] ][ predicted[ii] ]+=1\n",
    "\n",
    "        avg_loss = running_loss / total_samples\n",
    "        top1_accuracy = correct_predictions / total_samples * 100\n",
    "        top3_accuracy = correct_top3_predictions / total_samples * 100\n",
    "        pprint(f\"Phase: {phase}, samples: {total_samples}, Loss: {avg_loss:.4f}, Top-1 Accuracy: {top1_accuracy:.2f}%, Top-3 Accuracy: {top3_accuracy:.2f}%\")\n",
    "        for ii in range(num_class) :\n",
    "            pprint(f\"class {ii}:{confus.numpy()[ii]}\")\n",
    "        # pprint(confus)\n",
    "\n",
    "    end = time.time()\n",
    "    duration = end - start\n",
    "    pprint(f\"Elapsed time: {duration} seconds\")"
   ]
  },
  {
   "cell_type": "code",
   "execution_count": null,
   "metadata": {},
   "outputs": [
    {
     "name": "stderr",
     "output_type": "stream",
     "text": [
      "  0%|          | 0/2 [00:00<?, ?it/s]"
     ]
    },
    {
     "name": "stderr",
     "output_type": "stream",
     "text": [
      "100%|██████████| 2/2 [00:00<00:00,  4.04it/s]"
     ]
    },
    {
     "name": "stdout",
     "output_type": "stream",
     "text": [
      "Phase: val, samples: 487, Loss: 0.0006, Top-1 Accuracy: 95.89%, Top-3 Accuracy: 99.59%\n",
      "class 0:[42  0  0  0  0  0  0  0  0  0]\n",
      "class 1:[ 1 56  0  0  0  0  0  0  0  0]\n",
      "class 2:[ 0  0 40  0  0  0  0  0  2  1]\n",
      "class 3:[ 1  0  0 36  0  0  0  1  0  0]\n",
      "class 4:[ 0  0  0  0 51  0  0  0  0  1]\n",
      "class 5:[ 0  1  0  0  0 51  0  0  2  0]\n",
      "class 6:[ 0  0  0  0  0  0 48  0  0  0]\n",
      "class 7:[ 1  0  0  0  0  0  0 56  0  2]\n",
      "class 8:[ 6  0  0  0  0  0  0  0 47  1]\n",
      "class 9:[ 0  0  0  0  0  0  0  0  0 40]\n",
      "Elapsed time: 0.4988720417022705 seconds\n"
     ]
    },
    {
     "name": "stderr",
     "output_type": "stream",
     "text": [
      "\n"
     ]
    }
   ],
   "source": [
    "# import torchvision.models as models\n",
    "# path = \"D:\\\\Casper\\\\aML\\\\HW2\\\\aML\\\\\"\n",
    "# model_list = [\n",
    "#     # torch.jit.load(f'{path}R6_btnk_4ch8n4.pt'),\n",
    "#     torch.jit.load(f'{path}R6_btnk_ch8(hw2).pt'),\n",
    "#     # torch.jit.load(f'{path}resnet6.pt'),\n",
    "#     # models.resnet18(weights=True),\n",
    "#     # models.resnet50(weights=True),\n",
    "#     # models.resnet101(weights=True),\n",
    "#     # models.resnet152(weights=True),\n",
    "#     # models.swin_v2_t(weights=True),\n",
    "#     # models.swin_v2_s(weights=True),\n",
    "#     # models.swin_v2_b(weights=True),\n",
    "#     # models.vit_h_14(weights=models.ViT_H_14_Weights.IMAGENET1K_SWAG_E2E_V1),\n",
    "# ]\n",
    "\n",
    "# model_name = [\n",
    "#     'resnet18',\n",
    "#     # 'resnet50',\n",
    "#     # 'resnet101',\n",
    "#     # 'resnet152',\n",
    "#     # 'swin_v2_t',\n",
    "#     # 'swin_v2_s',\n",
    "#     # 'swin_v2_b',\n",
    "#     # 'vit_h_14',\n",
    "# ]\n",
    "# eval(model_list)"
   ]
  },
  {
   "cell_type": "markdown",
   "metadata": {},
   "source": []
  }
 ],
 "metadata": {
  "kernelspec": {
   "display_name": "casper_env",
   "language": "python",
   "name": "python3"
  },
  "language_info": {
   "codemirror_mode": {
    "name": "ipython",
    "version": 3
   },
   "file_extension": ".py",
   "mimetype": "text/x-python",
   "name": "python",
   "nbconvert_exporter": "python",
   "pygments_lexer": "ipython3",
   "version": "3.10.12"
  }
 },
 "nbformat": 4,
 "nbformat_minor": 2
}
