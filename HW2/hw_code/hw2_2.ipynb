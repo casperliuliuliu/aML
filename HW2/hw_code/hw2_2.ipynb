{
 "cells": [
  {
   "cell_type": "code",
   "execution_count": 2,
   "metadata": {},
   "outputs": [
    {
     "name": "stdout",
     "output_type": "stream",
     "text": [
      "tensor(295.1775, grad_fn=<MseLossBackward0>)\n",
      "None\n",
      "Gradient with respect to w11: -3.2137789726257324\n",
      "Gradient of the input feature a00: -1.0458778142929077\n"
     ]
    },
    {
     "name": "stderr",
     "output_type": "stream",
     "text": [
      "c:\\Users\\User\\anaconda3\\envs\\GPU\\lib\\site-packages\\torch\\nn\\modules\\loss.py:535: UserWarning: Using a target size (torch.Size([1, 1, 1])) that is different to the input size (torch.Size([1, 1])). This will likely lead to incorrect results due to broadcasting. Please ensure they have the same size.\n",
      "  return F.mse_loss(input, target, reduction=self.reduction)\n"
     ]
    }
   ],
   "source": [
    "import torch\n",
    "import torch.nn as nn\n",
    "import torch.nn.functional as F\n",
    "from sympy import symbols, Function, diff\n",
    "\n",
    "# Define a neural network structure based on HW2-2\n",
    "class SimpleConvNet(nn.Module):\n",
    "    def __init__(self):\n",
    "        super(SimpleConvNet, self).__init__()\n",
    "        self.conv = nn.Conv2d(1, 1, kernel_size=3, stride=1, padding=0, bias=False)\n",
    "        self.fc = nn.Linear(4, 1, bias=False)\n",
    "\n",
    "    def forward(self, x):\n",
    "        global R_matrix, O_matrix\n",
    "        x = self.conv(x)\n",
    "        x = F.sigmoid(x)\n",
    "        x = torch.flatten(x, 1)\n",
    "        x = self.fc(x)\n",
    "        return x\n",
    "\n",
    "model = SimpleConvNet()\n",
    "\n",
    "input_feature_map = torch.randn(1, 1, 4, 4, requires_grad=True)\n",
    "true_label = torch.tensor([[[17.]]])\n",
    "\n",
    "output = model(input_feature_map)\n",
    "loss_fn = nn.MSELoss()\n",
    "loss = loss_fn(output, true_label)\n",
    "print(loss)\n",
    "print(model.conv.weight.grad)\n",
    "\n",
    "model.zero_grad()\n",
    "loss.backward()\n",
    "\n",
    "gradient_weight_w11 = model.conv.weight.grad[0, 0, 1, 1]\n",
    "gradient_input_a00 = input_feature_map.grad[0, 0, 0, 0]\n",
    "\n",
    "print(f\"Gradient with respect to w11: {gradient_weight_w11}\")\n",
    "print(f\"Gradient of the input feature a00: {gradient_input_a00}\")\n"
   ]
  },
  {
   "cell_type": "code",
   "execution_count": 3,
   "metadata": {},
   "outputs": [],
   "source": [
    "def sigmoid(x):\n",
    "    return 1 / (1 + torch.exp(-x))\n",
    "\n",
    "def sigmoid_prime(x):\n",
    "    return sigmoid(x) * (1 - sigmoid(x))"
   ]
  },
  {
   "cell_type": "code",
   "execution_count": 4,
   "metadata": {},
   "outputs": [
    {
     "name": "stdout",
     "output_type": "stream",
     "text": [
      "Manual calculated gradient of w11: -3.213778495788574\n",
      "Gradient with respect to conv w11: -3.2137789726257324\n"
     ]
    }
   ],
   "source": [
    "\n",
    "# w11\n",
    "\n",
    "value = 2*(output - true_label)\n",
    "input_aa = [\n",
    "    input_feature_map[0][0][1][1], input_feature_map[0][0][1][2],\n",
    "    input_feature_map[0][0][2][1], input_feature_map[0][0][2][2],\n",
    "    ]\n",
    "temp = 0\n",
    "for ii in range(4):\n",
    "    ww = model.fc.weight[0][ii]\n",
    "    rr = model.conv(input_feature_map)[0][0][ii//2][ii%2]\n",
    "    aa = input_aa[ii]\n",
    "    temp += ww*sigmoid_prime(rr)*aa\n",
    "gradient = value*temp\n",
    "print(f\"Manual calculated gradient of w11: {gradient.item()}\")\n",
    "print(f\"Gradient with respect to conv w11: {gradient_weight_w11}\")\n"
   ]
  },
  {
   "cell_type": "code",
   "execution_count": 5,
   "metadata": {},
   "outputs": [
    {
     "name": "stdout",
     "output_type": "stream",
     "text": [
      "Manual calculated gradient of a00: -1.0458778142929077\n",
      "Gradient of the input feature a00: -1.0458778142929077\n"
     ]
    }
   ],
   "source": [
    "# a00\n",
    "\n",
    "value = 2*(output - true_label)\n",
    "wa = model.fc.weight[0][0]\n",
    "rr = model.conv(input_feature_map)[0][0][0][0]\n",
    "w00 = model.conv.weight[0][0][0][0]\n",
    "# print(w00)\n",
    "gradient_a00 = value * wa * sigmoid_prime(rr) * w00\n",
    "print(f\"Manual calculated gradient of a00: {gradient_a00.item()}\")\n",
    "print(f\"Gradient of the input feature a00: {gradient_input_a00}\")\n"
   ]
  },
  {
   "cell_type": "code",
   "execution_count": 11,
   "metadata": {},
   "outputs": [
    {
     "data": {
      "text/latex": [
       "$\\displaystyle 2 \\left(output - yy\\right) \\left(a_{00} w_{fc0} \\operatorname{{sigmoid}'}{\\left(r_{0} \\right)} + a_{01} w_{fc1} \\operatorname{{sigmoid}'}{\\left(r_{1} \\right)} + a_{10} w_{fc2} \\operatorname{{sigmoid}'}{\\left(r_{2} \\right)} + a_{11} w_{fc3} \\operatorname{{sigmoid}'}{\\left(r_{3} \\right)}\\right)$"
      ],
      "text/plain": [
       "2*(output - yy)*(a00*w_fc0*sigmoidprime(r0) + a01*w_fc1*sigmoidprime(r1) + a10*w_fc2*sigmoidprime(r2) + a11*w_fc3*sigmoidprime(r3))"
      ]
     },
     "execution_count": 11,
     "metadata": {},
     "output_type": "execute_result"
    }
   ],
   "source": [
    "# w11\n",
    "\n",
    "o, y, w11, a00, a01, a10, a11 = symbols('output yy w11 a00 a01 a10 a11')\n",
    "w_fc = symbols('w_fc:4')\n",
    "r = symbols('r:4')\n",
    "\n",
    "sigmoid_prime = Function('sigmoidprime')\n",
    "\n",
    "value = 2 * (o - y)\n",
    "temp = sum(w_fc[ii] * sigmoid_prime(r[ii]) * symbols(f'a{ii//2}{ii%2}') for ii in range(4))\n",
    "gradient = value * temp\n",
    "\n",
    "gradient.simplify()\n"
   ]
  },
  {
   "cell_type": "code",
   "execution_count": 12,
   "metadata": {},
   "outputs": [
    {
     "data": {
      "text/latex": [
       "$\\displaystyle 2 w_{00} wa \\left(output - yy\\right) \\operatorname{{sigmoid}'}{\\left(r_{0} \\right)}$"
      ],
      "text/plain": [
       "2*w00*wa*(output - yy)*sigmoidprime(r0)"
      ]
     },
     "execution_count": 12,
     "metadata": {},
     "output_type": "execute_result"
    }
   ],
   "source": [
    "# a00\n",
    "\n",
    "wa, w00 = symbols('wa w00')\n",
    "\n",
    "gradient_a00 = 2 * (o - y) * wa * sigmoid_prime(r[0]) * w00\n",
    "\n",
    "gradient_a00.simplify()\n"
   ]
  },
  {
   "cell_type": "code",
   "execution_count": null,
   "metadata": {},
   "outputs": [],
   "source": []
  }
 ],
 "metadata": {
  "kernelspec": {
   "display_name": "GPU",
   "language": "python",
   "name": "python3"
  },
  "language_info": {
   "codemirror_mode": {
    "name": "ipython",
    "version": 3
   },
   "file_extension": ".py",
   "mimetype": "text/x-python",
   "name": "python",
   "nbconvert_exporter": "python",
   "pygments_lexer": "ipython3",
   "version": "3.10.12"
  }
 },
 "nbformat": 4,
 "nbformat_minor": 2
}
