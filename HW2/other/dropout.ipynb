{
 "cells": [
  {
   "cell_type": "code",
   "execution_count": 32,
   "metadata": {},
   "outputs": [
    {
     "name": "stdout",
     "output_type": "stream",
     "text": [
      "tensor([[[[-0.5220,  0.2682],\n",
      "          [-0.2238, -0.4157]]],\n",
      "\n",
      "\n",
      "        [[[ 0.0000, -0.1349],\n",
      "          [ 0.0806,  0.0000]]],\n",
      "\n",
      "\n",
      "        [[[-0.0728, -1.1338],\n",
      "          [ 0.0460, -0.7639]]]], grad_fn=<MulBackward0>)\n"
     ]
    }
   ],
   "source": [
    "import torch.nn as nn\n",
    "import torch\n",
    "# conv_1 = nn.Conv2d(2, 1, (3,3))\n",
    "conv_1 = nn.Conv2d(1, 1, (3,3))\n",
    "r = nn.ReLU()\n",
    "m = nn.Dropout(p=0.2)\n",
    "input = torch.randn(3, 1, 4, 4)\n",
    "output = conv_1(input)\n",
    "# output = r(output)\n",
    "output = m(output)\n",
    "print(output)"
   ]
  },
  {
   "cell_type": "code",
   "execution_count": null,
   "metadata": {},
   "outputs": [],
   "source": []
  }
 ],
 "metadata": {
  "kernelspec": {
   "display_name": "GPU",
   "language": "python",
   "name": "python3"
  },
  "language_info": {
   "codemirror_mode": {
    "name": "ipython",
    "version": 3
   },
   "file_extension": ".py",
   "mimetype": "text/x-python",
   "name": "python",
   "nbconvert_exporter": "python",
   "pygments_lexer": "ipython3",
   "version": "3.10.12"
  }
 },
 "nbformat": 4,
 "nbformat_minor": 2
}
