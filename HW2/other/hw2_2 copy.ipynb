{
 "cells": [
  {
   "cell_type": "code",
   "execution_count": 112,
   "metadata": {},
   "outputs": [
    {
     "name": "stdout",
     "output_type": "stream",
     "text": [
      "R matrix: tensor([[[[-0.0665, -0.1705],\n",
      "          [ 0.1903, -0.5043]]]], grad_fn=<ConvolutionBackward0>)\n",
      "O matrix: tensor([[[[0.4834, 0.4575],\n",
      "          [0.5474, 0.3765]]]], grad_fn=<SigmoidBackward0>)\n",
      "Flatten: tensor([[0.4834, 0.4575, 0.5474, 0.3765]], grad_fn=<ViewBackward0>)\n"
     ]
    }
   ],
   "source": [
    "import torch\n",
    "import torch.nn as nn\n",
    "import torch.nn.functional as F\n",
    "R_matrix = 0\n",
    "O_matrix = 0\n",
    "\n",
    "# Define a simple neural network structure\n",
    "class SimpleConvNet(nn.Module):\n",
    "    def __init__(self):\n",
    "        super(SimpleConvNet, self).__init__()\n",
    "        self.conv = nn.Conv2d(1, 1, kernel_size=3, stride=1, padding=0, bias=False)\n",
    "        self.fc = nn.Linear(4, 1, bias=False)  # Assuming the output of conv is flattened to 4 elements\n",
    "\n",
    "    def forward(self, x):\n",
    "        global R_matrix, O_matrix\n",
    "        x = self.conv(x)\n",
    "        R_matrix = x\n",
    "        print(\"R matrix:\", x)\n",
    "        x = F.sigmoid(x)\n",
    "        O_matrix = x\n",
    "        print(\"O matrix:\", x)\n",
    "        x = torch.flatten(x, 1)\n",
    "        print(\"Flatten:\", x)\n",
    "        x = self.fc(x)\n",
    "        return x\n",
    "\n",
    "# Initialize the model\n",
    "model = SimpleConvNet()\n",
    "\n",
    "# Define inputs\n",
    "input_feature_map = torch.randn(1, 1, 4, 4)  # Batch size of 1, 1 channel, 4x4 feature map\n",
    "true_label = torch.tensor([[[17.]]])  # Placeholder for 'yy'\n",
    "\n",
    "# Forward pass\n",
    "output = model(input_feature_map)\n"
   ]
  },
  {
   "cell_type": "code",
   "execution_count": 113,
   "metadata": {},
   "outputs": [
    {
     "name": "stdout",
     "output_type": "stream",
     "text": [
      "tensor([[-0.3745]], grad_fn=<MmBackward0>)\n",
      "tensor(301.8732, grad_fn=<MseLossBackward0>)\n",
      "None\n",
      "tensor([[[[-0.5801, -0.8634,  2.1364],\n",
      "          [ 4.7123, -5.6404, -0.9008],\n",
      "          [ 1.1170,  0.3789, -0.7894]]]])\n",
      "Gradient with respect to w11: -5.6403937339782715\n"
     ]
    }
   ],
   "source": [
    "print(output)\n",
    "loss_fn = nn.MSELoss()\n",
    "loss = loss_fn(output, true_label)\n",
    "print(loss)\n",
    "print(model.conv.weight.grad)\n",
    "\n",
    "# Backward pass\n",
    "model.zero_grad()\n",
    "loss.backward()\n",
    "print(model.conv.weight.grad)\n",
    "\n",
    "# Gradients with respect to the weight and input feature\n",
    "gradient_wrt_w11 = model.conv.weight.grad[0, 0, 1, 1]\n",
    "# gradient_wrt_a00 = input_feature_map.grad[0, 0, 0, 0]\n",
    "\n",
    "print(f\"Gradient with respect to w11: {gradient_wrt_w11}\")\n",
    "# print(f\"Gradient with respect to input feature a00: {gradient_wrt_a00}\")\n"
   ]
  },
  {
   "cell_type": "code",
   "execution_count": 114,
   "metadata": {},
   "outputs": [
    {
     "name": "stdout",
     "output_type": "stream",
     "text": [
      "tensor([[[[-0.5801, -0.8634,  2.1364],\n",
      "          [ 4.7123, -5.6404, -0.9008],\n",
      "          [ 1.1170,  0.3789, -0.7894]]]])\n"
     ]
    }
   ],
   "source": [
    "print(model.conv.weight.grad)\n",
    "# print(model.fc.weight.grad)\n",
    "# print(model.conv.weight)\n",
    "# print(input_feature_map.grad)"
   ]
  },
  {
   "cell_type": "code",
   "execution_count": 115,
   "metadata": {},
   "outputs": [],
   "source": [
    "# print(model.conv.weight)\n",
    "# print(model.fc.weight)\n",
    "# print(model.fc.weight[0][0])\n",
    "# print(\"==output\",model.conv(input_feature_map))\n",
    "# print(\"==sigmoid\",F.sigmoid(model.conv(input_feature_map)))\n",
    "\n",
    "# print(model.conv(input_feature_map)[0][0][1][1])\n",
    "# print(input_feature_map[0][0][1][1])"
   ]
  },
  {
   "cell_type": "code",
   "execution_count": 116,
   "metadata": {},
   "outputs": [],
   "source": [
    "def sigmoid(x):\n",
    "    return 1 / (1 + torch.exp(-x))\n",
    "\n",
    "def sigmoid_prime(x):\n",
    "    return sigmoid(x) * (1 - sigmoid(x))"
   ]
  },
  {
   "cell_type": "code",
   "execution_count": 117,
   "metadata": {},
   "outputs": [
    {
     "name": "stdout",
     "output_type": "stream",
     "text": [
      "tensor([[[[-0.0665, -0.1705],\n",
      "          [ 0.1903, -0.5043]]]], grad_fn=<ConvolutionBackward0>) tensor([[[[0.4834, 0.4575],\n",
      "          [0.5474, 0.3765]]]], grad_fn=<SigmoidBackward0>)\n"
     ]
    }
   ],
   "source": [
    "print(R_matrix, O_matrix)"
   ]
  },
  {
   "cell_type": "code",
   "execution_count": 123,
   "metadata": {},
   "outputs": [
    {
     "name": "stdout",
     "output_type": "stream",
     "text": [
      "tensor([[[-5.6404]]], grad_fn=<MulBackward0>)\n",
      "Gradient with respect to w11: -5.6403937339782715\n"
     ]
    }
   ],
   "source": [
    "\n",
    "# w11\n",
    "value = -2*(true_label - output)\n",
    "input_aa = [\n",
    "    input_feature_map[0][0][1][1], input_feature_map[0][0][1][2],\n",
    "    input_feature_map[0][0][2][1], input_feature_map[0][0][2][2],\n",
    "    ]\n",
    "temp = 0\n",
    "for ii in range(4):\n",
    "    ww = model.fc.weight[0][ii]\n",
    "    rr = model.conv(input_feature_map)[0][0][ii//2][ii%2]\n",
    "    aa = input_aa[ii]\n",
    "    temp += ww*sigmoid_prime(rr)*aa\n",
    "value *= temp\n",
    "print(value)\n",
    "print(f\"Gradient with respect to w11: {gradient_wrt_w11}\")\n"
   ]
  },
  {
   "cell_type": "code",
   "execution_count": null,
   "metadata": {},
   "outputs": [],
   "source": []
  },
  {
   "cell_type": "code",
   "execution_count": 109,
   "metadata": {},
   "outputs": [
    {
     "name": "stdout",
     "output_type": "stream",
     "text": [
      "tensor([[[-33.5925]]], grad_fn=<MulBackward0>)\n",
      "0.09723788453266025\n",
      "Manual gradient calculation of conv's weight[1][1]: -3.266460955142975\n"
     ]
    }
   ],
   "source": [
    "\n",
    "\n",
    "# Assuming the model and inputs are already defined\n",
    "model.eval()  # Evaluation mode\n",
    "\n",
    "# Forward pass through the convolutional layer\n",
    "conv_output = model.conv(input_feature_map)\n",
    "sigmoid_output = F.sigmoid(conv_output)\n",
    "\n",
    "# Calculate the derivative of the loss w.r.t. the output\n",
    "dL_do = 2 * (output - true_label)\n",
    "dL_do = 2*(output - true_label)\n",
    "print(dL_do)\n",
    "# Forward pass through the rest of the network to get to the output\n",
    "conv_output_flattened = torch.flatten(sigmoid_output, 1)\n",
    "fc_output = model.fc(conv_output_flattened)\n",
    "\n",
    "# Now, calculate the gradient of `weight[1][1]` in the conv layer\n",
    "# Identify the contributions of weight[1][1] to the convolution output\n",
    "# Note: This requires understanding which input pixels affect weight[1][1]\n",
    "\n",
    "grad_w11 = 0\n",
    "temp = 0\n",
    "for i in range(2):  # Assuming a 4x4 input, the kernel affects positions [1, 2] for both i and j\n",
    "    for j in range(2):\n",
    "        # Get the derivative of the sigmoid activation w.r.t. the conv output\n",
    "        dAct_dConv = sigmoid_prime(conv_output[0][0][i][j])\n",
    "        # The input that corresponds to weight[1][1] for this position\n",
    "        input_contrib = input_feature_map[0][0][i+1][j+1]\n",
    "        \n",
    "        # Gradient contribution for this position\n",
    "        # Multiply by the derivative of the loss w.r.t. fc output (chain through fc weights)\n",
    "        for ii in range(4):\n",
    "            grad_w11 += (dL_do * model.fc.weight[0][ii] * dAct_dConv * input_contrib).item()\n",
    "            temp += (model.fc.weight[0][ii] * dAct_dConv * input_contrib).item()\n",
    "\n",
    "            # print(model.fc.weight[0][ii])\n",
    "\n",
    "# This is a simplified and not fully accurate calculation,\n",
    "# it illustrates the approach but skips over batch handling and complete chaining through the network\n",
    "print(temp)\n",
    "print(f\"Manual gradient calculation of conv's weight[1][1]: {grad_w11}\")\n"
   ]
  },
  {
   "cell_type": "code",
   "execution_count": null,
   "metadata": {},
   "outputs": [],
   "source": [
    "value = 2*(true_label - output)\n",
    "o00 = F.sigmoid(model.conv(input_feature_map)[0][0][0][0])\n",
    "print(value * o00)"
   ]
  },
  {
   "cell_type": "code",
   "execution_count": 4,
   "metadata": {},
   "outputs": [
    {
     "data": {
      "text/plain": [
       "(a00*(-yy + 1/(1 + exp(-a00*w11)))*exp(-a00*w11)/(1 + exp(-a00*w11))**2,\n",
       " w11*(-yy + 1/(1 + exp(-a00*w11)))*exp(-a00*w11)/(1 + exp(-a00*w11))**2)"
      ]
     },
     "execution_count": 4,
     "metadata": {},
     "output_type": "execute_result"
    }
   ],
   "source": [
    "from sympy import symbols, diff, exp, Function\n",
    "\n",
    "# Define symbols\n",
    "w11, a00, yy = symbols('w11 a00 yy')\n",
    "x = symbols('x')\n",
    "sigma = Function('sigma')(x)\n",
    "y_pred = symbols('y_pred')  # Placeholder for the output of the network\n",
    "\n",
    "# Define the sigmoid function and its derivative\n",
    "sigma = 1 / (1 + exp(-x))\n",
    "d_sigma_dx = diff(sigma, x)\n",
    "\n",
    "# Assuming the output y_pred is a function of w11 and a00 through some operation, we need to define y_pred\n",
    "# For simplicity, let's assume y_pred = sigma(w11 * a00), which is not the actual case but simplifies the gradient computation\n",
    "# In reality, y_pred would depend on the entire convolution operation and all weights\n",
    "\n",
    "# MSE Loss\n",
    "mse = (y_pred - yy)**2 / 2\n",
    "# Gradient of MSE loss w.r.t. y_pred\n",
    "d_mse_dy_pred = diff(mse, y_pred)\n",
    "\n",
    "# Let's simplify the gradients with the assumptions\n",
    "# Assuming a direct relation for simplification: y_pred = sigma(w11 * a00)\n",
    "y_pred_simple = sigma.subs(x, w11 * a00)\n",
    "\n",
    "# Gradients of interest\n",
    "d_loss_dw11 = diff(mse.subs(y_pred, y_pred_simple), w11)\n",
    "d_loss_da00 = diff(mse.subs(y_pred, y_pred_simple), a00)\n",
    "\n",
    "d_loss_dw11, d_loss_da00\n"
   ]
  },
  {
   "cell_type": "code",
   "execution_count": 7,
   "metadata": {},
   "outputs": [
    {
     "data": {
      "text/plain": [
       "(tensor(-1.0904), tensor(-0.0037))"
      ]
     },
     "execution_count": 7,
     "metadata": {},
     "output_type": "execute_result"
    }
   ],
   "source": [
    "import torch\n",
    "import torch.nn as nn\n",
    "import torch.nn.functional as F\n",
    "\n",
    "yy=10.\n",
    "\n",
    "# Assume a00 and w11 are the parameters of interest\n",
    "# Initialize input feature map and convolution kernel\n",
    "input_feature = torch.randn(1, 1, 4, 4, requires_grad=True)  # 1 input channel, 4x4 size, requires_grad enabled for input\n",
    "conv_kernel = torch.randn(1, 1, 3, 3, requires_grad=True)  # 1 output channel, 1 input channel, 3x3 kernel size\n",
    "target = torch.tensor([yy])  # Assuming yy is a known scalar value\n",
    "\n",
    "# Convolution operation\n",
    "conv = F.conv2d(input_feature, conv_kernel, bias=None)\n",
    "# Sigmoid activation\n",
    "activated_output = torch.sigmoid(conv)\n",
    "# Flatten\n",
    "flattened_output = activated_output.view(-1)\n",
    "# Assume a simple direct regression value from the flattened output for simplicity\n",
    "# In practice, this would involve a fully connected layer with weights\n",
    "regression_value = flattened_output.sum()\n",
    "\n",
    "# MSE Loss\n",
    "loss = F.mse_loss(regression_value.unsqueeze(0), target)  # Unsqueezing to match dimensions\n",
    "# Backpropagate\n",
    "loss.backward()\n",
    "\n",
    "# Gradients\n",
    "grad_w11 = conv_kernel.grad[0, 0, 1, 1]  # Gradient with respect to w11, the middle value of the kernel\n",
    "grad_a00 = input_feature.grad[0, 0, 0, 0]  # Gradient with respect to a00, the top-left value of the input feature\n",
    "\n",
    "grad_w11, grad_a00\n"
   ]
  },
  {
   "cell_type": "code",
   "execution_count": null,
   "metadata": {},
   "outputs": [],
   "source": []
  }
 ],
 "metadata": {
  "kernelspec": {
   "display_name": "GPU",
   "language": "python",
   "name": "python3"
  },
  "language_info": {
   "codemirror_mode": {
    "name": "ipython",
    "version": 3
   },
   "file_extension": ".py",
   "mimetype": "text/x-python",
   "name": "python",
   "nbconvert_exporter": "python",
   "pygments_lexer": "ipython3",
   "version": "3.10.12"
  }
 },
 "nbformat": 4,
 "nbformat_minor": 2
}
