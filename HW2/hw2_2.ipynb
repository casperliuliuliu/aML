{
 "cells": [
  {
   "cell_type": "code",
   "execution_count": null,
   "metadata": {},
   "outputs": [],
   "source": [
    "import torch\n",
    "\n",
    "# feature_map = torch."
   ]
  },
  {
   "cell_type": "code",
   "execution_count": 3,
   "metadata": {},
   "outputs": [
    {
     "name": "stderr",
     "output_type": "stream",
     "text": [
      "/opt/miniconda3/envs/casper_env/lib/python3.10/site-packages/torch/nn/modules/loss.py:535: UserWarning: Using a target size (torch.Size([1, 1, 1])) that is different to the input size (torch.Size([1, 1])). This will likely lead to incorrect results due to broadcasting. Please ensure they have the same size.\n",
      "  return F.mse_loss(input, target, reduction=self.reduction)\n"
     ]
    },
    {
     "ename": "TypeError",
     "evalue": "'NoneType' object is not subscriptable",
     "output_type": "error",
     "traceback": [
      "\u001b[0;31m---------------------------------------------------------------------------\u001b[0m",
      "\u001b[0;31mTypeError\u001b[0m                                 Traceback (most recent call last)",
      "Cell \u001b[0;32mIn[3], line 36\u001b[0m\n\u001b[1;32m     34\u001b[0m \u001b[38;5;66;03m# Gradients with respect to the weight and input feature\u001b[39;00m\n\u001b[1;32m     35\u001b[0m gradient_wrt_w11 \u001b[38;5;241m=\u001b[39m model\u001b[38;5;241m.\u001b[39mconv\u001b[38;5;241m.\u001b[39mweight\u001b[38;5;241m.\u001b[39mgrad[\u001b[38;5;241m0\u001b[39m, \u001b[38;5;241m0\u001b[39m, \u001b[38;5;241m0\u001b[39m, \u001b[38;5;241m0\u001b[39m]\n\u001b[0;32m---> 36\u001b[0m gradient_wrt_a00 \u001b[38;5;241m=\u001b[39m \u001b[43minput_feature_map\u001b[49m\u001b[38;5;241;43m.\u001b[39;49m\u001b[43mgrad\u001b[49m\u001b[43m[\u001b[49m\u001b[38;5;241;43m0\u001b[39;49m\u001b[43m,\u001b[49m\u001b[43m \u001b[49m\u001b[38;5;241;43m0\u001b[39;49m\u001b[43m,\u001b[49m\u001b[43m \u001b[49m\u001b[38;5;241;43m0\u001b[39;49m\u001b[43m,\u001b[49m\u001b[43m \u001b[49m\u001b[38;5;241;43m0\u001b[39;49m\u001b[43m]\u001b[49m\n\u001b[1;32m     38\u001b[0m \u001b[38;5;28mprint\u001b[39m(\u001b[38;5;124mf\u001b[39m\u001b[38;5;124m\"\u001b[39m\u001b[38;5;124mGradient with respect to w11: \u001b[39m\u001b[38;5;132;01m{\u001b[39;00mgradient_wrt_w11\u001b[38;5;132;01m}\u001b[39;00m\u001b[38;5;124m\"\u001b[39m)\n\u001b[1;32m     39\u001b[0m \u001b[38;5;28mprint\u001b[39m(\u001b[38;5;124mf\u001b[39m\u001b[38;5;124m\"\u001b[39m\u001b[38;5;124mGradient with respect to input feature a00: \u001b[39m\u001b[38;5;132;01m{\u001b[39;00mgradient_wrt_a00\u001b[38;5;132;01m}\u001b[39;00m\u001b[38;5;124m\"\u001b[39m)\n",
      "\u001b[0;31mTypeError\u001b[0m: 'NoneType' object is not subscriptable"
     ]
    }
   ],
   "source": [
    "import torch\n",
    "import torch.nn as nn\n",
    "import torch.nn.functional as F\n",
    "\n",
    "# Define a simple neural network structure\n",
    "class SimpleConvNet(nn.Module):\n",
    "    def __init__(self):\n",
    "        super(SimpleConvNet, self).__init__()\n",
    "        self.conv = nn.Conv2d(1, 1, kernel_size=3, stride=1, padding=0)\n",
    "        self.fc = nn.Linear(4, 1)  # Assuming the output of conv is flattened to 4 elements\n",
    "\n",
    "    def forward(self, x):\n",
    "        x = F.sigmoid(self.conv(x))\n",
    "        x = torch.flatten(x, 1)\n",
    "        x = self.fc(x)\n",
    "        return x\n",
    "\n",
    "# Initialize the model\n",
    "model = SimpleConvNet()\n",
    "\n",
    "# Define inputs\n",
    "input_feature_map = torch.randn(1, 1, 4, 4)  # Batch size of 1, 1 channel, 4x4 feature map\n",
    "true_label = torch.tensor([[[17.]]])  # Placeholder for 'yy'\n",
    "\n",
    "# Forward pass\n",
    "output = model(input_feature_map)\n",
    "loss_fn = nn.MSELoss()\n",
    "loss = loss_fn(output, true_label)\n",
    "\n",
    "# Backward pass\n",
    "model.zero_grad()\n",
    "loss.backward()\n",
    "\n",
    "# Gradients with respect to the weight and input feature\n",
    "gradient_wrt_w11 = model.conv.weight.grad[0, 0, 0, 0]\n",
    "gradient_wrt_a00 = input_feature_map.grad[0, 0, 0, 0]\n",
    "\n",
    "print(f\"Gradient with respect to w11: {gradient_wrt_w11}\")\n",
    "print(f\"Gradient with respect to input feature a00: {gradient_wrt_a00}\")\n"
   ]
  },
  {
   "cell_type": "code",
   "execution_count": 4,
   "metadata": {},
   "outputs": [
    {
     "data": {
      "text/plain": [
       "(a00*(-yy + 1/(1 + exp(-a00*w11)))*exp(-a00*w11)/(1 + exp(-a00*w11))**2,\n",
       " w11*(-yy + 1/(1 + exp(-a00*w11)))*exp(-a00*w11)/(1 + exp(-a00*w11))**2)"
      ]
     },
     "execution_count": 4,
     "metadata": {},
     "output_type": "execute_result"
    }
   ],
   "source": [
    "from sympy import symbols, diff, exp, Function\n",
    "\n",
    "# Define symbols\n",
    "w11, a00, yy = symbols('w11 a00 yy')\n",
    "x = symbols('x')\n",
    "sigma = Function('sigma')(x)\n",
    "y_pred = symbols('y_pred')  # Placeholder for the output of the network\n",
    "\n",
    "# Define the sigmoid function and its derivative\n",
    "sigma = 1 / (1 + exp(-x))\n",
    "d_sigma_dx = diff(sigma, x)\n",
    "\n",
    "# Assuming the output y_pred is a function of w11 and a00 through some operation, we need to define y_pred\n",
    "# For simplicity, let's assume y_pred = sigma(w11 * a00), which is not the actual case but simplifies the gradient computation\n",
    "# In reality, y_pred would depend on the entire convolution operation and all weights\n",
    "\n",
    "# MSE Loss\n",
    "mse = (y_pred - yy)**2 / 2\n",
    "# Gradient of MSE loss w.r.t. y_pred\n",
    "d_mse_dy_pred = diff(mse, y_pred)\n",
    "\n",
    "# Let's simplify the gradients with the assumptions\n",
    "# Assuming a direct relation for simplification: y_pred = sigma(w11 * a00)\n",
    "y_pred_simple = sigma.subs(x, w11 * a00)\n",
    "\n",
    "# Gradients of interest\n",
    "d_loss_dw11 = diff(mse.subs(y_pred, y_pred_simple), w11)\n",
    "d_loss_da00 = diff(mse.subs(y_pred, y_pred_simple), a00)\n",
    "\n",
    "d_loss_dw11, d_loss_da00\n"
   ]
  },
  {
   "cell_type": "code",
   "execution_count": 7,
   "metadata": {},
   "outputs": [
    {
     "data": {
      "text/plain": [
       "(tensor(-1.0904), tensor(-0.0037))"
      ]
     },
     "execution_count": 7,
     "metadata": {},
     "output_type": "execute_result"
    }
   ],
   "source": [
    "import torch\n",
    "import torch.nn as nn\n",
    "import torch.nn.functional as F\n",
    "\n",
    "yy=10.\n",
    "\n",
    "# Assume a00 and w11 are the parameters of interest\n",
    "# Initialize input feature map and convolution kernel\n",
    "input_feature = torch.randn(1, 1, 4, 4, requires_grad=True)  # 1 input channel, 4x4 size, requires_grad enabled for input\n",
    "conv_kernel = torch.randn(1, 1, 3, 3, requires_grad=True)  # 1 output channel, 1 input channel, 3x3 kernel size\n",
    "target = torch.tensor([yy])  # Assuming yy is a known scalar value\n",
    "\n",
    "# Convolution operation\n",
    "conv = F.conv2d(input_feature, conv_kernel, bias=None)\n",
    "# Sigmoid activation\n",
    "activated_output = torch.sigmoid(conv)\n",
    "# Flatten\n",
    "flattened_output = activated_output.view(-1)\n",
    "# Assume a simple direct regression value from the flattened output for simplicity\n",
    "# In practice, this would involve a fully connected layer with weights\n",
    "regression_value = flattened_output.sum()\n",
    "\n",
    "# MSE Loss\n",
    "loss = F.mse_loss(regression_value.unsqueeze(0), target)  # Unsqueezing to match dimensions\n",
    "# Backpropagate\n",
    "loss.backward()\n",
    "\n",
    "# Gradients\n",
    "grad_w11 = conv_kernel.grad[0, 0, 1, 1]  # Gradient with respect to w11, the middle value of the kernel\n",
    "grad_a00 = input_feature.grad[0, 0, 0, 0]  # Gradient with respect to a00, the top-left value of the input feature\n",
    "\n",
    "grad_w11, grad_a00\n"
   ]
  }
 ],
 "metadata": {
  "kernelspec": {
   "display_name": "GPU",
   "language": "python",
   "name": "python3"
  },
  "language_info": {
   "codemirror_mode": {
    "name": "ipython",
    "version": 3
   },
   "file_extension": ".py",
   "mimetype": "text/x-python",
   "name": "python",
   "nbconvert_exporter": "python",
   "pygments_lexer": "ipython3",
   "version": "3.10.13"
  }
 },
 "nbformat": 4,
 "nbformat_minor": 2
}
