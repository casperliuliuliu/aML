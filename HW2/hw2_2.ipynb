{
 "cells": [
  {
   "cell_type": "code",
   "execution_count": 1,
   "metadata": {},
   "outputs": [
    {
     "name": "stdout",
     "output_type": "stream",
     "text": [
      "R matrix: tensor([[[[-0.0900, -0.4393],\n",
      "          [ 0.2129,  0.3955]]]], grad_fn=<ConvolutionBackward0>)\n",
      "O matrix: tensor([[[[0.4775, 0.3919],\n",
      "          [0.5530, 0.5976]]]], grad_fn=<SigmoidBackward0>)\n",
      "Flatten: tensor([[0.4775, 0.3919, 0.5530, 0.5976]], grad_fn=<ViewBackward0>)\n"
     ]
    }
   ],
   "source": [
    "import torch\n",
    "import torch.nn as nn\n",
    "import torch.nn.functional as F\n",
    "R_matrix = 0\n",
    "O_matrix = 0\n",
    "\n",
    "# Define a simple neural network structure\n",
    "class SimpleConvNet(nn.Module):\n",
    "    def __init__(self):\n",
    "        super(SimpleConvNet, self).__init__()\n",
    "        self.conv = nn.Conv2d(1, 1, kernel_size=3, stride=1, padding=0, bias=False)\n",
    "        self.fc = nn.Linear(4, 1, bias=False)  # Assuming the output of conv is flattened to 4 elements\n",
    "\n",
    "    def forward(self, x):\n",
    "        global R_matrix, O_matrix\n",
    "        x = self.conv(x)\n",
    "        R_matrix = x\n",
    "        print(\"R matrix:\", x)\n",
    "        x = F.sigmoid(x)\n",
    "        O_matrix = x\n",
    "        print(\"O matrix:\", x)\n",
    "        x = torch.flatten(x, 1)\n",
    "        print(\"Flatten:\", x)\n",
    "        x = self.fc(x)\n",
    "        return x\n",
    "\n",
    "# Initialize the model\n",
    "model = SimpleConvNet()\n",
    "\n",
    "# Define inputs\n",
    "input_feature_map = torch.randn(1, 1, 4, 4, requires_grad=True)  # Batch size of 1, 1 channel, 4x4 feature map\n",
    "true_label = torch.tensor([[[17.]]])  # Placeholder for 'yy'\n",
    "\n",
    "# Forward pass\n",
    "output = model(input_feature_map)\n"
   ]
  },
  {
   "cell_type": "code",
   "execution_count": 2,
   "metadata": {},
   "outputs": [
    {
     "name": "stdout",
     "output_type": "stream",
     "text": [
      "tensor([[-0.1215]], grad_fn=<MmBackward0>)\n",
      "tensor(293.1454, grad_fn=<MseLossBackward0>)\n",
      "None\n",
      "Gradient with respect to w11: 0.6260359287261963\n",
      "Gradient of the input feature map at position [0][0]: -0.03959649056196213\n"
     ]
    },
    {
     "name": "stderr",
     "output_type": "stream",
     "text": [
      "c:\\Users\\User\\anaconda3\\envs\\GPU\\lib\\site-packages\\torch\\nn\\modules\\loss.py:535: UserWarning: Using a target size (torch.Size([1, 1, 1])) that is different to the input size (torch.Size([1, 1])). This will likely lead to incorrect results due to broadcasting. Please ensure they have the same size.\n",
      "  return F.mse_loss(input, target, reduction=self.reduction)\n"
     ]
    }
   ],
   "source": [
    "print(output)\n",
    "loss_fn = nn.MSELoss()\n",
    "loss = loss_fn(output, true_label)\n",
    "print(loss)\n",
    "print(model.conv.weight.grad)\n",
    "\n",
    "# Backward pass\n",
    "model.zero_grad()\n",
    "loss.backward()\n",
    "\n",
    "# Gradients with respect to the weight and input feature\n",
    "gradient_wrt_w11 = model.conv.weight.grad[0, 0, 1, 1]\n",
    "\n",
    "print(f\"Gradient with respect to w11: {gradient_wrt_w11}\")\n",
    "print(f\"Gradient of the input feature map at position [0][0]: {input_feature_map.grad[0, 0, 0, 0]}\")"
   ]
  },
  {
   "cell_type": "code",
   "execution_count": 3,
   "metadata": {},
   "outputs": [],
   "source": [
    "def sigmoid(x):\n",
    "    return 1 / (1 + torch.exp(-x))\n",
    "\n",
    "def sigmoid_prime(x):\n",
    "    return sigmoid(x) * (1 - sigmoid(x))"
   ]
  },
  {
   "cell_type": "code",
   "execution_count": 4,
   "metadata": {},
   "outputs": [
    {
     "name": "stdout",
     "output_type": "stream",
     "text": [
      "Manual calculated gradient of w11: 0.6260358691215515\n",
      "Gradient with respect to conv w11: 0.6260359287261963\n"
     ]
    }
   ],
   "source": [
    "\n",
    "# w11\n",
    "value = 2*(output - true_label)\n",
    "input_aa = [\n",
    "    input_feature_map[0][0][1][1], input_feature_map[0][0][1][2],\n",
    "    input_feature_map[0][0][2][1], input_feature_map[0][0][2][2],\n",
    "    ]\n",
    "temp = 0\n",
    "for ii in range(4):\n",
    "    ww = model.fc.weight[0][ii]\n",
    "    rr = model.conv(input_feature_map)[0][0][ii//2][ii%2]\n",
    "    aa = input_aa[ii]\n",
    "    temp += ww*sigmoid_prime(rr)*aa\n",
    "gradient = value*temp\n",
    "print(f\"Manual calculated gradient of w11: {gradient.item()}\")\n",
    "print(f\"Gradient with respect to conv w11: {gradient_wrt_w11}\")\n"
   ]
  },
  {
   "cell_type": "code",
   "execution_count": 5,
   "metadata": {},
   "outputs": [
    {
     "name": "stdout",
     "output_type": "stream",
     "text": [
      "Manual calculated gradient of wa: -16.351242065429688\n",
      "Gradient with respect to fc wa:   -16.351242065429688\n"
     ]
    }
   ],
   "source": [
    "# wa\n",
    "\n",
    "value = 2*(output - true_label)\n",
    "o00 = F.sigmoid(model.conv(input_feature_map)[0][0][0][0])\n",
    "gradient_wa = value * o00\n",
    "print(f\"Manual calculated gradient of wa: {gradient_wa.item()}\")\n",
    "print(f\"Gradient with respect to fc wa:   {model.fc.weight.grad[0][0]}\")\n"
   ]
  },
  {
   "cell_type": "code",
   "execution_count": 6,
   "metadata": {},
   "outputs": [
    {
     "name": "stdout",
     "output_type": "stream",
     "text": [
      "Manual calculated gradient of a00: -0.039596494287252426\n",
      "Gradient of the input feature a00: -0.03959649056196213\n"
     ]
    }
   ],
   "source": [
    "# a00\n",
    "\n",
    "value = 2*(output - true_label)\n",
    "wa = model.fc.weight[0][0]\n",
    "rr = model.conv(input_feature_map)[0][0][0][0]\n",
    "w00 = model.conv.weight[0][0][0][0]\n",
    "# print(w00)\n",
    "gradient_a00 = value * wa * sigmoid_prime(rr) * w00\n",
    "print(f\"Manual calculated gradient of a00: {gradient_a00.item()}\")\n",
    "print(f\"Gradient of the input feature a00: {input_feature_map.grad[0, 0, 0, 0]}\")\n"
   ]
  },
  {
   "cell_type": "code",
   "execution_count": 6,
   "metadata": {},
   "outputs": [
    {
     "data": {
      "text/plain": [
       "(a00*(-yy + 1/(1 + exp(-a00*w11)))*exp(-a00*w11)/(1 + exp(-a00*w11))**2,\n",
       " w11*(-yy + 1/(1 + exp(-a00*w11)))*exp(-a00*w11)/(1 + exp(-a00*w11))**2)"
      ]
     },
     "execution_count": 6,
     "metadata": {},
     "output_type": "execute_result"
    }
   ],
   "source": [
    "from sympy import symbols, diff, exp, Function\n",
    "\n",
    "# Define symbols\n",
    "w11, a00, yy = symbols('w11 a00 yy')\n",
    "x = symbols('x')\n",
    "sigma = Function('sigma')(x)\n",
    "y_pred = symbols('y_pred')  # Placeholder for the output of the network\n",
    "\n",
    "# Define the sigmoid function and its derivative\n",
    "sigma = 1 / (1 + exp(-x))\n",
    "d_sigma_dx = diff(sigma, x)\n",
    "\n",
    "# Assuming the output y_pred is a function of w11 and a00 through some operation, we need to define y_pred\n",
    "# For simplicity, let's assume y_pred = sigma(w11 * a00), which is not the actual case but simplifies the gradient computation\n",
    "# In reality, y_pred would depend on the entire convolution operation and all weights\n",
    "\n",
    "# MSE Loss\n",
    "mse = (y_pred - yy)**2 / 2\n",
    "# Gradient of MSE loss w.r.t. y_pred\n",
    "d_mse_dy_pred = diff(mse, y_pred)\n",
    "\n",
    "# Let's simplify the gradients with the assumptions\n",
    "# Assuming a direct relation for simplification: y_pred = sigma(w11 * a00)\n",
    "y_pred_simple = sigma.subs(x, w11 * a00)\n",
    "\n",
    "# Gradients of interest\n",
    "d_loss_dw11 = diff(mse.subs(y_pred, y_pred_simple), w11)\n",
    "d_loss_da00 = diff(mse.subs(y_pred, y_pred_simple), a00)\n",
    "\n",
    "d_loss_dw11, d_loss_da00\n"
   ]
  },
  {
   "cell_type": "code",
   "execution_count": null,
   "metadata": {},
   "outputs": [],
   "source": []
  }
 ],
 "metadata": {
  "kernelspec": {
   "display_name": "GPU",
   "language": "python",
   "name": "python3"
  },
  "language_info": {
   "codemirror_mode": {
    "name": "ipython",
    "version": 3
   },
   "file_extension": ".py",
   "mimetype": "text/x-python",
   "name": "python",
   "nbconvert_exporter": "python",
   "pygments_lexer": "ipython3",
   "version": "3.10.12"
  }
 },
 "nbformat": 4,
 "nbformat_minor": 2
}
