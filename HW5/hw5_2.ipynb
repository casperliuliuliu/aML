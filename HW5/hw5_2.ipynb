{
 "cells": [
  {
   "cell_type": "code",
   "execution_count": 4,
   "metadata": {},
   "outputs": [],
   "source": [
    "import chromadb\n",
    "\n",
    "client = chromadb.Client()\n",
    "\n",
    "collection = client.create_collection(\"knowledge_base\")\n",
    "\n",
    "collection.add(\n",
    "    documents=[\n",
    "        \"Python is a high-level programming language known for its readability.\",\n",
    "        \"The Pacific Ocean is the largest ocean on Earth, spanning more than 63 million square miles.\",\n",
    "        \"Machine learning is a subset of artificial intelligence focused on building systems that learn from data.\"\n",
    "    ],\n",
    "    metadatas=[\n",
    "        {\"topic\": \"Technology\", \"source\": \"Wikipedia\"},\n",
    "        {\"topic\": \"Geography\", \"source\": \"Encyclopedia\"},\n",
    "        {\"topic\": \"AI\", \"source\": \"Tech Blog\"}\n",
    "    ],\n",
    "    ids=[\"doc_python\", \"doc_pacific\", \"doc_ml\"]\n",
    ")\n"
   ]
  },
  {
   "cell_type": "code",
   "execution_count": 23,
   "metadata": {},
   "outputs": [
    {
     "name": "stdout",
     "output_type": "stream",
     "text": [
      "Most relevant information:\n",
      "Document ID: doc_ml\n",
      "Content: Machine learning is a subset of artificial intelligence focused on building systems that learn from data.\n",
      "Metadata: {'source': 'Tech Blog', 'topic': 'AI'}\n",
      "-----\n",
      "Most relevant information:\n",
      "Document ID: doc_pacific\n",
      "Content: The Pacific Ocean is the largest ocean on Earth, spanning more than 63 million square miles.\n",
      "Metadata: {'source': 'Encyclopedia', 'topic': 'Geography'}\n",
      "-----\n",
      "Most relevant information:\n",
      "Document ID: doc_python\n",
      "Content: Python is a high-level programming language known for its readability.\n",
      "Metadata: {'source': 'Wikipedia', 'topic': 'Technology'}\n",
      "-----\n"
     ]
    }
   ],
   "source": [
    "def answer_question(question):\n",
    "    results = collection.query(\n",
    "        query_texts=[question],\n",
    "        n_results=1 \n",
    "    )\n",
    "\n",
    "    print(\"Most relevant information:\")\n",
    "    print(f\"Document ID: {results['ids'][0][0]}\")\n",
    "    print(f\"Content: {results['documents'][0][0]}\")\n",
    "    print(f\"Metadata: {results['metadatas'][0][0]}\")\n",
    "    print(\"-----\")\n",
    "\n",
    "answer_question(\"What is machine learning?\")\n",
    "answer_question(\"Provide some fun fact about water.\")\n",
    "answer_question(\"Is there any recommended coding language?\")\n"
   ]
  },
  {
   "cell_type": "code",
   "execution_count": null,
   "metadata": {},
   "outputs": [],
   "source": []
  }
 ],
 "metadata": {
  "kernelspec": {
   "display_name": "GPU",
   "language": "python",
   "name": "python3"
  },
  "language_info": {
   "codemirror_mode": {
    "name": "ipython",
    "version": 3
   },
   "file_extension": ".py",
   "mimetype": "text/x-python",
   "name": "python",
   "nbconvert_exporter": "python",
   "pygments_lexer": "ipython3",
   "version": "3.10.12"
  }
 },
 "nbformat": 4,
 "nbformat_minor": 2
}
