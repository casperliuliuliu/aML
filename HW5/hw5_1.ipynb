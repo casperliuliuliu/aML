{
 "cells": [
  {
   "cell_type": "markdown",
   "metadata": {},
   "source": [
    "# Package and datasets"
   ]
  },
  {
   "cell_type": "code",
   "execution_count": 4,
   "metadata": {},
   "outputs": [
    {
     "name": "stdout",
     "output_type": "stream",
     "text": [
      "Device: cuda\n"
     ]
    }
   ],
   "source": [
    "import torch\n",
    "import random\n",
    "import numpy as np\n",
    "from tqdm import tqdm\n",
    "import torch.nn as nn\n",
    "import torch.optim as optim\n",
    "import torch.nn.functional as F\n",
    "import matplotlib.pyplot as plt\n",
    "from torchvision import datasets, transforms\n",
    "from sklearn.ensemble import IsolationForest\n",
    "from torch.utils.data import DataLoader, Subset\n",
    "from sklearn.metrics import classification_report\n",
    "dataset_path = \"D:\\\\Casper\\\\OTHER\\\\Data\\\\MNIST_data\"\n",
    "device = torch.device('cuda' if torch.cuda.is_available() else 'cpu')\n",
    "print(f\"Device: {device}\")"
   ]
  },
  {
   "cell_type": "code",
   "execution_count": 5,
   "metadata": {},
   "outputs": [
    {
     "name": "stdout",
     "output_type": "stream",
     "text": [
      "Full dataset: 60000\n",
      "Filtered dataset: 24559\n"
     ]
    }
   ],
   "source": [
    "def filter_indices(dataset, classes):\n",
    "    indices = []\n",
    "    for i in range(len(dataset)):\n",
    "        if dataset.targets[i] in classes:\n",
    "            indices.append(i)\n",
    "    return indices\n",
    "\n",
    "transform = transforms.Compose([\n",
    "    transforms.ToTensor(), \n",
    "    # transforms.Normalize((0.5,), (0.5,))\n",
    "    ])\n",
    "full_dataset = datasets.MNIST(root=dataset_path, train=True, download=False, transform=transform)\n",
    "\n",
    "filtered_indices = filter_indices(full_dataset, [1, 3, 5, 7])\n",
    "filtered_dataset = Subset(full_dataset, filtered_indices)\n",
    "print(f\"Full dataset: {len(full_dataset)}\")\n",
    "print(f\"Filtered dataset: {len(filtered_dataset)}\")\n"
   ]
  },
  {
   "cell_type": "code",
   "execution_count": 6,
   "metadata": {},
   "outputs": [
    {
     "name": "stdout",
     "output_type": "stream",
     "text": [
      "Label: 0\n"
     ]
    },
    {
     "data": {
      "image/png": "[encoded data removed]",
      "text/plain": [
       "<Figure size 640x480 with 1 Axes>"
      ]
     },
     "metadata": {},
     "output_type": "display_data"
    },
    {
     "name": "stdout",
     "output_type": "stream",
     "text": [
      "Label: 1\n"
     ]
    },
    {
     "data": {
      "image/png": "[encoded data removed]",
      "text/plain": [
       "<Figure size 640x480 with 1 Axes>"
      ]
     },
     "metadata": {},
     "output_type": "display_data"
    }
   ],
   "source": [
    "def display_image_and_tensor(dataset, index):\n",
    "    image, label = dataset[index]  # Get the first image and its label\n",
    "    \n",
    "    print(\"Label:\", label)\n",
    "    image_np = image.squeeze().numpy()  \n",
    "\n",
    "    plt.imshow(image_np, cmap='gray')\n",
    "    plt.title(f'Label: {label}')\n",
    "    plt.show()\n",
    "\n",
    "display_image_and_tensor(full_dataset, 1)\n",
    "display_image_and_tensor(filtered_dataset, 1)"
   ]
  },
  {
   "cell_type": "code",
   "execution_count": 7,
   "metadata": {},
   "outputs": [
    {
     "data": {
      "image/png": "[encoded data removed]",
      "text/plain": [
       "<Figure size 1000x400 with 2 Axes>"
      ]
     },
     "metadata": {},
     "output_type": "display_data"
    }
   ],
   "source": [
    "def plot_two_tensors(tensor1, tensor2):\n",
    "    fig, axes = plt.subplots(1, 2, figsize=(10, 4))  # Create a figure with two subplots\n",
    "\n",
    "    axes[0].imshow(tensor1.squeeze(), cmap='gray')  # Remove channel dimension if exists and plot\n",
    "    axes[0].set_title(f'Before:')\n",
    "    axes[0].axis('off')  # Hide axes ticks\n",
    "\n",
    "    axes[1].imshow(tensor2.squeeze(), cmap='gray')\n",
    "    axes[1].set_title(f'After:')\n",
    "    axes[1].axis('off')\n",
    "\n",
    "    plt.show()\n",
    "plot_two_tensors(full_dataset[0][0], full_dataset[1][0])  "
   ]
  },
  {
   "cell_type": "code",
   "execution_count": 8,
   "metadata": {},
   "outputs": [
    {
     "name": "stdout",
     "output_type": "stream",
     "text": [
      "--------- INDEX checking ---------\n",
      "Original: [0, 1, 2, 3, 4]\n",
      "Shuffled: [7928, 6963, 6078, 12524, 11416]\n",
      "--------- INDEX shuffled ---------\n",
      "\n",
      "Total number of samples: 24559 datapoints\n",
      "Number of train samples: 307 batches/ 19647 datapoints\n",
      "Number of val samples: 77 batches/ 4912 datapoints\n",
      "Number of test samples: 0 batches/ 0 datapoints\n",
      "\n",
      "--------- INDEX checking ---------\n",
      "Original: [0, 1, 2, 3, 4]\n",
      "Shuffled: [41608, 20621, 29401, 29192, 11631]\n",
      "--------- INDEX shuffled ---------\n",
      "\n",
      "Total number of samples: 60000 datapoints\n",
      "Number of train samples: 750 batches/ 48000 datapoints\n",
      "Number of val samples: 188 batches/ 12000 datapoints\n",
      "Number of test samples: 0 batches/ 0 datapoints\n",
      "\n"
     ]
    }
   ],
   "source": [
    "\n",
    "def get_dataloaders(dataset, train_ratio, val_ratio, batch_size, seed):\n",
    "    torch.manual_seed(seed)\n",
    "    np.random.seed(seed)\n",
    "    random.seed(seed)\n",
    "\n",
    "    train_dataset = dataset\n",
    "    val_dataset = dataset\n",
    "    test_dataset = dataset\n",
    "    # obtain training indices that will be used for validation\n",
    "    num_train = len(test_dataset)\n",
    "    indices = list(range(num_train))\n",
    "    print(\"--------- INDEX checking ---------\")\n",
    "    print(f\"Original: {indices[:5]}\")\n",
    "    random.shuffle(indices)\n",
    "    print(f\"Shuffled: {indices[:5]}\")\n",
    "    print(\"--------- INDEX shuffled ---------\\n\")\n",
    "\n",
    "    split_train = int(np.floor(train_ratio * num_train))\n",
    "    split_val = split_train + int(np.floor(val_ratio * (num_train-split_train)))\n",
    "    train_idx, val_idx, test_idx = indices[0:split_train], indices[split_train:split_val], indices[split_val:]\n",
    "    merge_dataset = Subset(train_dataset, train_idx)\n",
    "\n",
    "    train_loader = DataLoader(merge_dataset, batch_size=batch_size)\n",
    "    val_loader = DataLoader(Subset(val_dataset, val_idx), batch_size=batch_size)\n",
    "    test_loader = DataLoader(Subset(test_dataset, test_idx), batch_size=batch_size)\n",
    "    \n",
    "    # check dataset\n",
    "    print(f\"Total number of samples: {num_train} datapoints\")\n",
    "    print(f\"Number of train samples: {len(train_loader)} batches/ {len(train_loader.dataset)} datapoints\")\n",
    "    print(f\"Number of val samples: {len(val_loader)} batches/ {len(val_loader.dataset)} datapoints\")\n",
    "    print(f\"Number of test samples: {len(test_loader)} batches/ {len(test_loader.dataset)} datapoints\")\n",
    "    print(f\"\")\n",
    "    \n",
    "    dataloaders = {\n",
    "        \"train\": train_loader,\n",
    "        \"val\": val_loader,\n",
    "        \"test\": test_loader,\n",
    "    }\n",
    "    return dataloaders\n",
    "dataloaders = get_dataloaders(filtered_dataset, 0.8, 1, 64, 666)\n",
    "full_dataloaders = get_dataloaders(full_dataset, 0.8, 1, 64, 666)\n"
   ]
  },
  {
   "cell_type": "code",
   "execution_count": 9,
   "metadata": {},
   "outputs": [],
   "source": [
    "def count_parameters(model):\n",
    "    total_num = 0\n",
    "\n",
    "    for parameter in model.parameters():\n",
    "        if parameter.requires_grad:\n",
    "            total_num += parameter.numel() \n",
    "    return total_num"
   ]
  },
  {
   "cell_type": "markdown",
   "metadata": {},
   "source": [
    "## 1. Image Classifier"
   ]
  },
  {
   "cell_type": "code",
   "execution_count": 18,
   "metadata": {},
   "outputs": [],
   "source": [
    "class DigitClassifier(nn.Module):\n",
    "    def __init__(self):\n",
    "        super(DigitClassifier, self).__init__()\n",
    "        self.conv_net = nn.Sequential(\n",
    "            nn.Conv2d(1, 16, kernel_size=3, stride=1, padding=1),  # Output: 16 x 28 x 28\n",
    "            nn.ReLU(),\n",
    "            nn.MaxPool2d(kernel_size=2, stride=2),                # Output: 16 x 14 x 14\n",
    "            nn.Conv2d(16, 32, kernel_size=3, stride=1, padding=1),# Output: 32 x 14 x 14\n",
    "            nn.ReLU(),\n",
    "            nn.MaxPool2d(kernel_size=2, stride=2)\n",
    "        )\n",
    "        self.fc_net = nn.Sequential(\n",
    "            nn.Linear(32 * 7 * 7, 128),\n",
    "            nn.ReLU(),\n",
    "        )\n",
    "        self.fc = nn.Linear(128, len([1, 3, 5, 7]))\n",
    "\n",
    "    def forward(self, x):\n",
    "        x = self.conv_net(x)\n",
    "        x = x.view(x.size(0), -1)\n",
    "        x = self.fc_net(x)\n",
    "        x = self.fc(x)\n",
    "        return x\n"
   ]
  },
  {
   "cell_type": "markdown",
   "metadata": {},
   "source": [
    "### Train image classifier"
   ]
  },
  {
   "cell_type": "code",
   "execution_count": 84,
   "metadata": {},
   "outputs": [],
   "source": [
    "label_mapping = {1: 0, 3: 1, 5: 2, 7: 3}\n",
    "\n",
    "def transform_labels(labels):\n",
    "    transformed_labels = torch.tensor([label_mapping[label.item()] for label in labels])\n",
    "    return transformed_labels\n"
   ]
  },
  {
   "cell_type": "code",
   "execution_count": 85,
   "metadata": {},
   "outputs": [
    {
     "name": "stdout",
     "output_type": "stream",
     "text": [
      "Model: DigitClassifier\n",
      "model total parameters: 206,148\n"
     ]
    },
    {
     "name": "stderr",
     "output_type": "stream",
     "text": [
      "100%|██████████| 307/307 [00:02<00:00, 109.27it/s]\n"
     ]
    },
    {
     "name": "stdout",
     "output_type": "stream",
     "text": [
      "Epoch 1\n",
      "[TRAIN] Accuracy: 96.60%, Loss: 0.001476280243835085\n"
     ]
    },
    {
     "name": "stderr",
     "output_type": "stream",
     "text": [
      "100%|██████████| 77/77 [00:00<00:00, 163.83it/s]\n"
     ]
    },
    {
     "name": "stdout",
     "output_type": "stream",
     "text": [
      "[VALID] Accuracy: 99.17%, Loss: 0.000462797638519928\n",
      "\n"
     ]
    },
    {
     "name": "stderr",
     "output_type": "stream",
     "text": [
      "100%|██████████| 307/307 [00:02<00:00, 118.08it/s]\n"
     ]
    },
    {
     "name": "stdout",
     "output_type": "stream",
     "text": [
      "Epoch 2\n",
      "[TRAIN] Accuracy: 99.33%, Loss: 0.000332061496989632\n"
     ]
    },
    {
     "name": "stderr",
     "output_type": "stream",
     "text": [
      "100%|██████████| 77/77 [00:00<00:00, 208.11it/s]\n"
     ]
    },
    {
     "name": "stdout",
     "output_type": "stream",
     "text": [
      "[VALID] Accuracy: 99.25%, Loss: 0.0004173415026690334\n",
      "\n"
     ]
    },
    {
     "name": "stderr",
     "output_type": "stream",
     "text": [
      "100%|██████████| 307/307 [00:02<00:00, 123.79it/s]\n"
     ]
    },
    {
     "name": "stdout",
     "output_type": "stream",
     "text": [
      "Epoch 3\n",
      "[TRAIN] Accuracy: 99.44%, Loss: 0.00027719731000243775\n"
     ]
    },
    {
     "name": "stderr",
     "output_type": "stream",
     "text": [
      "100%|██████████| 77/77 [00:00<00:00, 202.63it/s]\n"
     ]
    },
    {
     "name": "stdout",
     "output_type": "stream",
     "text": [
      "[VALID] Accuracy: 99.12%, Loss: 0.0005808669945393343\n",
      "\n"
     ]
    },
    {
     "name": "stderr",
     "output_type": "stream",
     "text": [
      "100%|██████████| 307/307 [00:02<00:00, 128.45it/s]\n"
     ]
    },
    {
     "name": "stdout",
     "output_type": "stream",
     "text": [
      "Epoch 4\n",
      "[TRAIN] Accuracy: 99.61%, Loss: 0.00015913603088181364\n"
     ]
    },
    {
     "name": "stderr",
     "output_type": "stream",
     "text": [
      "100%|██████████| 77/77 [00:00<00:00, 167.38it/s]\n"
     ]
    },
    {
     "name": "stdout",
     "output_type": "stream",
     "text": [
      "[VALID] Accuracy: 99.39%, Loss: 0.0004007304664943676\n",
      "\n"
     ]
    },
    {
     "name": "stderr",
     "output_type": "stream",
     "text": [
      "100%|██████████| 307/307 [00:02<00:00, 122.80it/s]\n"
     ]
    },
    {
     "name": "stdout",
     "output_type": "stream",
     "text": [
      "Epoch 5\n",
      "[TRAIN] Accuracy: 99.68%, Loss: 0.000154874956995257\n"
     ]
    },
    {
     "name": "stderr",
     "output_type": "stream",
     "text": [
      "100%|██████████| 77/77 [00:00<00:00, 240.63it/s]\n"
     ]
    },
    {
     "name": "stdout",
     "output_type": "stream",
     "text": [
      "[VALID] Accuracy: 99.19%, Loss: 0.0006171989073236572\n",
      "\n"
     ]
    },
    {
     "name": "stderr",
     "output_type": "stream",
     "text": [
      "100%|██████████| 307/307 [00:02<00:00, 114.13it/s]\n"
     ]
    },
    {
     "name": "stdout",
     "output_type": "stream",
     "text": [
      "Epoch 6\n",
      "[TRAIN] Accuracy: 99.69%, Loss: 0.0001647646231939415\n"
     ]
    },
    {
     "name": "stderr",
     "output_type": "stream",
     "text": [
      "100%|██████████| 77/77 [00:00<00:00, 175.00it/s]\n"
     ]
    },
    {
     "name": "stdout",
     "output_type": "stream",
     "text": [
      "[VALID] Accuracy: 99.04%, Loss: 0.0007820705905848429\n",
      "\n"
     ]
    },
    {
     "name": "stderr",
     "output_type": "stream",
     "text": [
      "100%|██████████| 307/307 [00:02<00:00, 120.87it/s]\n"
     ]
    },
    {
     "name": "stdout",
     "output_type": "stream",
     "text": [
      "Epoch 7\n",
      "[TRAIN] Accuracy: 99.66%, Loss: 0.0001605367180623339\n"
     ]
    },
    {
     "name": "stderr",
     "output_type": "stream",
     "text": [
      "100%|██████████| 77/77 [00:00<00:00, 256.67it/s]\n"
     ]
    },
    {
     "name": "stdout",
     "output_type": "stream",
     "text": [
      "[VALID] Accuracy: 99.17%, Loss: 0.0006000938243537808\n",
      "\n"
     ]
    },
    {
     "name": "stderr",
     "output_type": "stream",
     "text": [
      "100%|██████████| 307/307 [00:02<00:00, 116.29it/s]\n"
     ]
    },
    {
     "name": "stdout",
     "output_type": "stream",
     "text": [
      "Epoch 8\n",
      "[TRAIN] Accuracy: 99.73%, Loss: 0.00012714832299670726\n"
     ]
    },
    {
     "name": "stderr",
     "output_type": "stream",
     "text": [
      "100%|██████████| 77/77 [00:00<00:00, 202.63it/s]\n"
     ]
    },
    {
     "name": "stdout",
     "output_type": "stream",
     "text": [
      "[VALID] Accuracy: 99.35%, Loss: 0.000623743294167161\n",
      "\n"
     ]
    },
    {
     "name": "stderr",
     "output_type": "stream",
     "text": [
      "100%|██████████| 307/307 [00:02<00:00, 126.34it/s]\n"
     ]
    },
    {
     "name": "stdout",
     "output_type": "stream",
     "text": [
      "Epoch 9\n",
      "[TRAIN] Accuracy: 99.81%, Loss: 0.00010010011794269735\n"
     ]
    },
    {
     "name": "stderr",
     "output_type": "stream",
     "text": [
      "100%|██████████| 77/77 [00:00<00:00, 256.67it/s]\n"
     ]
    },
    {
     "name": "stdout",
     "output_type": "stream",
     "text": [
      "[VALID] Accuracy: 99.14%, Loss: 0.0005613523454503548\n",
      "\n"
     ]
    },
    {
     "name": "stderr",
     "output_type": "stream",
     "text": [
      "100%|██████████| 307/307 [00:02<00:00, 135.24it/s]\n"
     ]
    },
    {
     "name": "stdout",
     "output_type": "stream",
     "text": [
      "Epoch 10\n",
      "[TRAIN] Accuracy: 99.91%, Loss: 3.8295681671658965e-05\n"
     ]
    },
    {
     "name": "stderr",
     "output_type": "stream",
     "text": [
      "100%|██████████| 77/77 [00:00<00:00, 256.67it/s]\n"
     ]
    },
    {
     "name": "stdout",
     "output_type": "stream",
     "text": [
      "[VALID] Accuracy: 99.29%, Loss: 0.0006048665941830522\n",
      "\n"
     ]
    },
    {
     "name": "stderr",
     "output_type": "stream",
     "text": [
      "100%|██████████| 307/307 [00:02<00:00, 124.80it/s]\n"
     ]
    },
    {
     "name": "stdout",
     "output_type": "stream",
     "text": [
      "Epoch 11\n",
      "[TRAIN] Accuracy: 99.83%, Loss: 7.107943000411764e-05\n"
     ]
    },
    {
     "name": "stderr",
     "output_type": "stream",
     "text": [
      "100%|██████████| 77/77 [00:00<00:00, 163.83it/s]\n"
     ]
    },
    {
     "name": "stdout",
     "output_type": "stream",
     "text": [
      "[VALID] Accuracy: 99.43%, Loss: 0.0007090218739110645\n",
      "\n"
     ]
    },
    {
     "name": "stderr",
     "output_type": "stream",
     "text": [
      "100%|██████████| 307/307 [00:02<00:00, 116.29it/s]\n"
     ]
    },
    {
     "name": "stdout",
     "output_type": "stream",
     "text": [
      "Epoch 12\n",
      "[TRAIN] Accuracy: 99.69%, Loss: 0.00012840658532531138\n"
     ]
    },
    {
     "name": "stderr",
     "output_type": "stream",
     "text": [
      "100%|██████████| 77/77 [00:00<00:00, 175.00it/s]\n"
     ]
    },
    {
     "name": "stdout",
     "output_type": "stream",
     "text": [
      "[VALID] Accuracy: 99.29%, Loss: 0.0008017047235645561\n",
      "\n"
     ]
    },
    {
     "name": "stderr",
     "output_type": "stream",
     "text": [
      "100%|██████████| 307/307 [00:02<00:00, 120.87it/s]\n"
     ]
    },
    {
     "name": "stdout",
     "output_type": "stream",
     "text": [
      "Epoch 13\n",
      "[TRAIN] Accuracy: 99.80%, Loss: 9.268568126569696e-05\n"
     ]
    },
    {
     "name": "stderr",
     "output_type": "stream",
     "text": [
      "100%|██████████| 77/77 [00:00<00:00, 171.11it/s]\n"
     ]
    },
    {
     "name": "stdout",
     "output_type": "stream",
     "text": [
      "[VALID] Accuracy: 99.49%, Loss: 0.0006176646055741184\n",
      "\n"
     ]
    },
    {
     "name": "stderr",
     "output_type": "stream",
     "text": [
      "100%|██████████| 307/307 [00:02<00:00, 127.91it/s]\n"
     ]
    },
    {
     "name": "stdout",
     "output_type": "stream",
     "text": [
      "Epoch 14\n",
      "[TRAIN] Accuracy: 99.84%, Loss: 6.698195227559004e-05\n"
     ]
    },
    {
     "name": "stderr",
     "output_type": "stream",
     "text": [
      "100%|██████████| 77/77 [00:00<00:00, 179.07it/s]\n"
     ]
    },
    {
     "name": "stdout",
     "output_type": "stream",
     "text": [
      "[VALID] Accuracy: 99.57%, Loss: 0.0005384372929249028\n",
      "\n"
     ]
    },
    {
     "name": "stderr",
     "output_type": "stream",
     "text": [
      "100%|██████████| 307/307 [00:02<00:00, 127.92it/s]\n"
     ]
    },
    {
     "name": "stdout",
     "output_type": "stream",
     "text": [
      "Epoch 15\n",
      "[TRAIN] Accuracy: 99.89%, Loss: 5.7285271152931635e-05\n"
     ]
    },
    {
     "name": "stderr",
     "output_type": "stream",
     "text": [
      "100%|██████████| 77/77 [00:00<00:00, 157.14it/s]\n"
     ]
    },
    {
     "name": "stdout",
     "output_type": "stream",
     "text": [
      "[VALID] Accuracy: 99.31%, Loss: 0.0007006610046797455\n",
      "\n"
     ]
    },
    {
     "name": "stderr",
     "output_type": "stream",
     "text": [
      "100%|██████████| 307/307 [00:02<00:00, 120.87it/s]\n"
     ]
    },
    {
     "name": "stdout",
     "output_type": "stream",
     "text": [
      "Epoch 16\n",
      "[TRAIN] Accuracy: 99.79%, Loss: 0.0001264447900043468\n"
     ]
    },
    {
     "name": "stderr",
     "output_type": "stream",
     "text": [
      "100%|██████████| 77/77 [00:00<00:00, 192.50it/s]\n"
     ]
    },
    {
     "name": "stdout",
     "output_type": "stream",
     "text": [
      "[VALID] Accuracy: 99.43%, Loss: 0.0006493377341250359\n",
      "\n"
     ]
    },
    {
     "name": "stderr",
     "output_type": "stream",
     "text": [
      "100%|██████████| 307/307 [00:02<00:00, 130.08it/s]\n"
     ]
    },
    {
     "name": "stdout",
     "output_type": "stream",
     "text": [
      "Epoch 17\n",
      "[TRAIN] Accuracy: 99.90%, Loss: 5.4634662063376906e-05\n"
     ]
    },
    {
     "name": "stderr",
     "output_type": "stream",
     "text": [
      "100%|██████████| 77/77 [00:00<00:00, 171.11it/s]\n"
     ]
    },
    {
     "name": "stdout",
     "output_type": "stream",
     "text": [
      "[VALID] Accuracy: 99.53%, Loss: 0.0005508033263459112\n",
      "\n"
     ]
    },
    {
     "name": "stderr",
     "output_type": "stream",
     "text": [
      "100%|██████████| 307/307 [00:02<00:00, 116.73it/s]\n"
     ]
    },
    {
     "name": "stdout",
     "output_type": "stream",
     "text": [
      "Epoch 18\n",
      "[TRAIN] Accuracy: 99.93%, Loss: 3.298686145770722e-05\n"
     ]
    },
    {
     "name": "stderr",
     "output_type": "stream",
     "text": [
      "100%|██████████| 77/77 [00:00<00:00, 240.63it/s]\n"
     ]
    },
    {
     "name": "stdout",
     "output_type": "stream",
     "text": [
      "[VALID] Accuracy: 99.47%, Loss: 0.0008189570451003433\n",
      "\n"
     ]
    },
    {
     "name": "stderr",
     "output_type": "stream",
     "text": [
      "100%|██████████| 307/307 [00:02<00:00, 138.29it/s]\n"
     ]
    },
    {
     "name": "stdout",
     "output_type": "stream",
     "text": [
      "Epoch 19\n",
      "[TRAIN] Accuracy: 99.91%, Loss: 5.096133018306114e-05\n"
     ]
    },
    {
     "name": "stderr",
     "output_type": "stream",
     "text": [
      "100%|██████████| 77/77 [00:00<00:00, 192.50it/s]\n"
     ]
    },
    {
     "name": "stdout",
     "output_type": "stream",
     "text": [
      "[VALID] Accuracy: 99.63%, Loss: 0.0006104458307364895\n",
      "\n"
     ]
    },
    {
     "name": "stderr",
     "output_type": "stream",
     "text": [
      "100%|██████████| 307/307 [00:02<00:00, 118.53it/s]\n"
     ]
    },
    {
     "name": "stdout",
     "output_type": "stream",
     "text": [
      "Epoch 20\n",
      "[TRAIN] Accuracy: 99.84%, Loss: 0.00011279166199204552\n"
     ]
    },
    {
     "name": "stderr",
     "output_type": "stream",
     "text": [
      "100%|██████████| 77/77 [00:00<00:00, 137.50it/s]"
     ]
    },
    {
     "name": "stdout",
     "output_type": "stream",
     "text": [
      "[VALID] Accuracy: 99.39%, Loss: 0.00047607632021803007\n",
      "\n"
     ]
    },
    {
     "name": "stderr",
     "output_type": "stream",
     "text": [
      "\n"
     ]
    }
   ],
   "source": [
    "device = torch.device('cuda' if torch.cuda.is_available() else 'cpu')\n",
    "model = DigitClassifier().to(device)\n",
    "print(f\"Model: DigitClassifier\")\n",
    "model_parameters_amount = count_parameters(model)\n",
    "print(f\"model total parameters: {model_parameters_amount:,}\")\n",
    "\n",
    "criterion = nn.CrossEntropyLoss()\n",
    "optimizer = optim.Adam(model.parameters(), lr=0.005)\n",
    "epochs = 20\n",
    "\n",
    "for epoch in range(epochs):\n",
    "    model.train()\n",
    "    correct, total = 0, 0\n",
    "    running_loss = 0.0\n",
    "    for images, labels in tqdm(dataloaders['train']):\n",
    "        labels = transform_labels(labels)\n",
    "        images, labels = images.to(device), labels.to(device)\n",
    "        outputs = model(images)\n",
    "        loss = criterion(outputs, labels)\n",
    "\n",
    "        optimizer.zero_grad()\n",
    "        loss.backward()\n",
    "        optimizer.step()\n",
    "\n",
    "        _, predicted = torch.max(outputs.data, 1)\n",
    "        total += labels.size(0)\n",
    "        correct += (predicted == labels).sum().item()\n",
    "        running_loss += loss.item()\n",
    "\n",
    "    print(f'Epoch {epoch+1}\\n[TRAIN] Accuracy: {100 * correct / total:.2f}%, Loss: {running_loss / total}')\n",
    "\n",
    "    model.eval()\n",
    "    correct, total = 0, 0\n",
    "    running_loss = 0.0\n",
    "    with torch.no_grad():\n",
    "        for images, labels in tqdm(dataloaders['val']):\n",
    "            labels = transform_labels(labels)\n",
    "            images, labels = images.to(device), labels.to(device)\n",
    "            outputs = model(images)\n",
    "            _, predicted = torch.max(outputs.data, 1)\n",
    "            total += labels.size(0)\n",
    "            correct += (predicted == labels).sum().item()\n",
    "            loss = criterion(outputs, labels)\n",
    "            running_loss += loss.item()\n",
    "\n",
    "    print(f'[VALID] Accuracy: {100 * correct / total:.2f}%, Loss: {running_loss / total}\\n')\n",
    "\n",
    "model_scripted = torch.jit.script(model.cpu()) # Export to TorchScript\n",
    "model_scripted.save('model_image_classifier.pt') # Save"
   ]
  },
  {
   "cell_type": "markdown",
   "metadata": {},
   "source": [
    "### Abnormal Detection"
   ]
  },
  {
   "cell_type": "code",
   "execution_count": null,
   "metadata": {},
   "outputs": [
    {
     "name": "stderr",
     "output_type": "stream",
     "text": [
      "100%|██████████| 188/188 [00:01<00:00, 167.91it/s]\n"
     ]
    },
    {
     "name": "stdout",
     "output_type": "stream",
     "text": [
      "Anomaly detection accuracy: 57.96% \n",
      "Anomaly_threshold: 0.0\n",
      "\n"
     ]
    },
    {
     "name": "stderr",
     "output_type": "stream",
     "text": [
      "100%|██████████| 188/188 [00:01<00:00, 167.91it/s]"
     ]
    },
    {
     "name": "stdout",
     "output_type": "stream",
     "text": [
      "Anomaly detection accuracy: 56.97% \n",
      "Anomaly_threshold: 0.5\n",
      "\n",
      "Anomaly detection accuracy: 57.96% \n",
      "Anomaly_threshold: 0.0\n"
     ]
    },
    {
     "name": "stderr",
     "output_type": "stream",
     "text": [
      "\n"
     ]
    }
   ],
   "source": [
    "\n",
    "normal_labels = torch.tensor([1, 3, 5, 7], device=device)\n",
    "best_acc = 0\n",
    "best_anomaly_threshold = 0\n",
    "\n",
    "segment_size = 2\n",
    "for ii in range(segment_size):\n",
    "    anomaly_threshold = ii / float(segment_size)\n",
    "\n",
    "    model.eval()\n",
    "    total, correct = 0, 0\n",
    "    anomalies = []\n",
    "    with torch.no_grad():\n",
    "        for images, labels in tqdm(full_dataloaders['val']):\n",
    "            images, labels = images.to(device), labels.to(device)\n",
    "\n",
    "            outputs = model(images)\n",
    "            probabilities = F.softmax(outputs, dim=1)\n",
    "            max_probs, predictions = torch.max(probabilities, dim=1)\n",
    "            anomaly_mask = max_probs > anomaly_threshold\n",
    "\n",
    "            # Check if each label in the batch is from the trained set (1, 3, 5, 7)\n",
    "            is_normal = torch.isin(labels, normal_labels)\n",
    "\n",
    "            correct_preds = (is_normal & ~anomaly_mask) | (~is_normal & anomaly_mask)\n",
    "            correct += correct_preds.sum().item()\n",
    "            total += labels.size(0)\n",
    "    accuracy = 100 * correct / total\n",
    "    if accuracy > best_acc:\n",
    "        best_acc = accuracy\n",
    "        best_anomaly_threshold = anomaly_threshold\n",
    "    print(f'Anomaly detection accuracy: {accuracy:.2f}% \\nAnomaly_threshold: {anomaly_threshold}\\n')\n",
    "\n",
    "print(f'Anomaly detection accuracy: {best_acc:.2f}% \\nAnomaly_threshold: {best_anomaly_threshold}')"
   ]
  },
  {
   "cell_type": "markdown",
   "metadata": {},
   "source": [
    "## 2. Normal Autoencoder"
   ]
  },
  {
   "cell_type": "code",
   "execution_count": 59,
   "metadata": {},
   "outputs": [],
   "source": [
    "class Autoencoder(nn.Module):\n",
    "    def __init__(self):\n",
    "        super(Autoencoder, self).__init__()\n",
    "        self.encoder = nn.Sequential(\n",
    "            nn.Linear(28 * 28, 128),\n",
    "            nn.ReLU(True),\n",
    "            nn.Linear(128, 64),\n",
    "            nn.ReLU(True),\n",
    "            nn.Linear(64, 12),\n",
    "        )\n",
    "        self.decoder = nn.Sequential(\n",
    "            nn.Linear(12, 64),\n",
    "            nn.ReLU(True),\n",
    "            nn.Linear(64, 128),\n",
    "            nn.ReLU(True),\n",
    "            nn.Linear(128, 28 * 28),\n",
    "            nn.Sigmoid()  # Sigmoid activation to output values between 0 and 1\n",
    "        )\n",
    "\n",
    "    def forward(self, x):\n",
    "        x = self.encoder(x)\n",
    "        x = self.decoder(x)\n",
    "        return x\n"
   ]
  },
  {
   "cell_type": "markdown",
   "metadata": {},
   "source": [
    "### Train normal autoencoder"
   ]
  },
  {
   "cell_type": "code",
   "execution_count": 22,
   "metadata": {},
   "outputs": [
    {
     "name": "stdout",
     "output_type": "stream",
     "text": [
      "Model: Autoencoder\n",
      "model total parameters: 219,804\n"
     ]
    },
    {
     "name": "stderr",
     "output_type": "stream",
     "text": [
      "100%|██████████| 307/307 [00:02<00:00, 134.06it/s]\n"
     ]
    },
    {
     "name": "stdout",
     "output_type": "stream",
     "text": [
      "Epoch 1\n",
      "[TRAIN] Loss: 0.0009712617382260808\n"
     ]
    },
    {
     "name": "stderr",
     "output_type": "stream",
     "text": [
      "100%|██████████| 77/77 [00:00<00:00, 248.39it/s]\n"
     ]
    },
    {
     "name": "stdout",
     "output_type": "stream",
     "text": [
      "[VALID] Loss: 0.0006130127371243332\n",
      "\n"
     ]
    },
    {
     "name": "stderr",
     "output_type": "stream",
     "text": [
      "100%|██████████| 307/307 [00:02<00:00, 132.90it/s]\n"
     ]
    },
    {
     "name": "stdout",
     "output_type": "stream",
     "text": [
      "Epoch 2\n",
      "[TRAIN] Loss: 0.0004822666321982984\n"
     ]
    },
    {
     "name": "stderr",
     "output_type": "stream",
     "text": [
      "100%|██████████| 77/77 [00:00<00:00, 175.00it/s]\n"
     ]
    },
    {
     "name": "stdout",
     "output_type": "stream",
     "text": [
      "[VALID] Loss: 0.0004117119851058003\n",
      "\n"
     ]
    },
    {
     "name": "stderr",
     "output_type": "stream",
     "text": [
      "100%|██████████| 307/307 [00:02<00:00, 132.90it/s]\n"
     ]
    },
    {
     "name": "stdout",
     "output_type": "stream",
     "text": [
      "Epoch 3\n",
      "[TRAIN] Loss: 0.00037238030028084116\n"
     ]
    },
    {
     "name": "stderr",
     "output_type": "stream",
     "text": [
      "100%|██████████| 77/77 [00:00<00:00, 213.89it/s]\n"
     ]
    },
    {
     "name": "stdout",
     "output_type": "stream",
     "text": [
      "[VALID] Loss: 0.000347565846284093\n",
      "\n"
     ]
    },
    {
     "name": "stderr",
     "output_type": "stream",
     "text": [
      "100%|██████████| 307/307 [00:02<00:00, 137.05it/s]\n"
     ]
    },
    {
     "name": "stdout",
     "output_type": "stream",
     "text": [
      "Epoch 4\n",
      "[TRAIN] Loss: 0.0003246845969590982\n"
     ]
    },
    {
     "name": "stderr",
     "output_type": "stream",
     "text": [
      "100%|██████████| 77/77 [00:00<00:00, 220.00it/s]\n"
     ]
    },
    {
     "name": "stdout",
     "output_type": "stream",
     "text": [
      "[VALID] Loss: 0.0003076923706990451\n",
      "\n"
     ]
    },
    {
     "name": "stderr",
     "output_type": "stream",
     "text": [
      "100%|██████████| 307/307 [00:02<00:00, 130.64it/s]\n"
     ]
    },
    {
     "name": "stdout",
     "output_type": "stream",
     "text": [
      "Epoch 5\n",
      "[TRAIN] Loss: 0.00029230593778725803\n"
     ]
    },
    {
     "name": "stderr",
     "output_type": "stream",
     "text": [
      "100%|██████████| 77/77 [00:00<00:00, 175.00it/s]\n"
     ]
    },
    {
     "name": "stdout",
     "output_type": "stream",
     "text": [
      "[VALID] Loss: 0.000280437401551996\n",
      "\n"
     ]
    },
    {
     "name": "stderr",
     "output_type": "stream",
     "text": [
      "100%|██████████| 307/307 [00:02<00:00, 130.08it/s]\n"
     ]
    },
    {
     "name": "stdout",
     "output_type": "stream",
     "text": [
      "Epoch 6\n",
      "[TRAIN] Loss: 0.00027071089864584146\n"
     ]
    },
    {
     "name": "stderr",
     "output_type": "stream",
     "text": [
      "100%|██████████| 77/77 [00:00<00:00, 248.38it/s]\n"
     ]
    },
    {
     "name": "stdout",
     "output_type": "stream",
     "text": [
      "[VALID] Loss: 0.00026198755456771736\n",
      "\n"
     ]
    },
    {
     "name": "stderr",
     "output_type": "stream",
     "text": [
      "100%|██████████| 307/307 [00:02<00:00, 130.09it/s]\n"
     ]
    },
    {
     "name": "stdout",
     "output_type": "stream",
     "text": [
      "Epoch 7\n",
      "[TRAIN] Loss: 0.0002548785832046783\n"
     ]
    },
    {
     "name": "stderr",
     "output_type": "stream",
     "text": [
      "100%|██████████| 77/77 [00:00<00:00, 233.33it/s]\n"
     ]
    },
    {
     "name": "stdout",
     "output_type": "stream",
     "text": [
      "[VALID] Loss: 0.00024977523730370044\n",
      "\n"
     ]
    },
    {
     "name": "stderr",
     "output_type": "stream",
     "text": [
      "100%|██████████| 307/307 [00:02<00:00, 140.83it/s]\n"
     ]
    },
    {
     "name": "stdout",
     "output_type": "stream",
     "text": [
      "Epoch 8\n",
      "[TRAIN] Loss: 0.00024271955454905307\n"
     ]
    },
    {
     "name": "stderr",
     "output_type": "stream",
     "text": [
      "100%|██████████| 77/77 [00:00<00:00, 187.81it/s]\n"
     ]
    },
    {
     "name": "stdout",
     "output_type": "stream",
     "text": [
      "[VALID] Loss: 0.00024037175290043852\n",
      "\n"
     ]
    },
    {
     "name": "stderr",
     "output_type": "stream",
     "text": [
      "100%|██████████| 307/307 [00:02<00:00, 136.44it/s]\n"
     ]
    },
    {
     "name": "stdout",
     "output_type": "stream",
     "text": [
      "Epoch 9\n",
      "[TRAIN] Loss: 0.00023214606325609808\n"
     ]
    },
    {
     "name": "stderr",
     "output_type": "stream",
     "text": [
      "100%|██████████| 77/77 [00:00<00:00, 213.88it/s]\n"
     ]
    },
    {
     "name": "stdout",
     "output_type": "stream",
     "text": [
      "[VALID] Loss: 0.00023082806975262222\n",
      "\n"
     ]
    },
    {
     "name": "stderr",
     "output_type": "stream",
     "text": [
      "100%|██████████| 307/307 [00:02<00:00, 149.03it/s]\n"
     ]
    },
    {
     "name": "stdout",
     "output_type": "stream",
     "text": [
      "Epoch 10\n",
      "[TRAIN] Loss: 0.0002233603876401688\n"
     ]
    },
    {
     "name": "stderr",
     "output_type": "stream",
     "text": [
      "100%|██████████| 77/77 [00:00<00:00, 248.39it/s]\n"
     ]
    },
    {
     "name": "stdout",
     "output_type": "stream",
     "text": [
      "[VALID] Loss: 0.0002232209725475321\n",
      "\n"
     ]
    },
    {
     "name": "stderr",
     "output_type": "stream",
     "text": [
      "100%|██████████| 307/307 [00:02<00:00, 136.44it/s]\n"
     ]
    },
    {
     "name": "stdout",
     "output_type": "stream",
     "text": [
      "Epoch 11\n",
      "[TRAIN] Loss: 0.00021591459681054935\n"
     ]
    },
    {
     "name": "stderr",
     "output_type": "stream",
     "text": [
      "100%|██████████| 77/77 [00:00<00:00, 179.07it/s]\n"
     ]
    },
    {
     "name": "stdout",
     "output_type": "stream",
     "text": [
      "[VALID] Loss: 0.0002160630045164413\n",
      "\n"
     ]
    },
    {
     "name": "stderr",
     "output_type": "stream",
     "text": [
      "100%|██████████| 307/307 [00:02<00:00, 127.92it/s]\n"
     ]
    },
    {
     "name": "stdout",
     "output_type": "stream",
     "text": [
      "Epoch 12\n",
      "[TRAIN] Loss: 0.00020873278916798312\n"
     ]
    },
    {
     "name": "stderr",
     "output_type": "stream",
     "text": [
      "100%|██████████| 77/77 [00:00<00:00, 265.52it/s]\n"
     ]
    },
    {
     "name": "stdout",
     "output_type": "stream",
     "text": [
      "[VALID] Loss: 0.00020916830044518853\n",
      "\n"
     ]
    },
    {
     "name": "stderr",
     "output_type": "stream",
     "text": [
      "100%|██████████| 307/307 [00:02<00:00, 142.79it/s]\n"
     ]
    },
    {
     "name": "stdout",
     "output_type": "stream",
     "text": [
      "Epoch 13\n",
      "[TRAIN] Loss: 0.00020197274925317778\n"
     ]
    },
    {
     "name": "stderr",
     "output_type": "stream",
     "text": [
      "100%|██████████| 77/77 [00:00<00:00, 274.97it/s]\n"
     ]
    },
    {
     "name": "stdout",
     "output_type": "stream",
     "text": [
      "[VALID] Loss: 0.00020368282451121446\n",
      "\n"
     ]
    },
    {
     "name": "stderr",
     "output_type": "stream",
     "text": [
      "100%|██████████| 307/307 [00:02<00:00, 149.76it/s]\n"
     ]
    },
    {
     "name": "stdout",
     "output_type": "stream",
     "text": [
      "Epoch 14\n",
      "[TRAIN] Loss: 0.00019645932553680263\n"
     ]
    },
    {
     "name": "stderr",
     "output_type": "stream",
     "text": [
      "100%|██████████| 77/77 [00:00<00:00, 202.63it/s]\n"
     ]
    },
    {
     "name": "stdout",
     "output_type": "stream",
     "text": [
      "[VALID] Loss: 0.0001994537209321408\n",
      "\n"
     ]
    },
    {
     "name": "stderr",
     "output_type": "stream",
     "text": [
      "100%|██████████| 307/307 [00:02<00:00, 144.81it/s]\n"
     ]
    },
    {
     "name": "stdout",
     "output_type": "stream",
     "text": [
      "Epoch 15\n",
      "[TRAIN] Loss: 0.00019200286339874964\n"
     ]
    },
    {
     "name": "stderr",
     "output_type": "stream",
     "text": [
      "100%|██████████| 77/77 [00:00<00:00, 275.00it/s]\n"
     ]
    },
    {
     "name": "stdout",
     "output_type": "stream",
     "text": [
      "[VALID] Loss: 0.00019569257035372166\n",
      "\n"
     ]
    },
    {
     "name": "stderr",
     "output_type": "stream",
     "text": [
      "100%|██████████| 307/307 [00:01<00:00, 158.25it/s]\n"
     ]
    },
    {
     "name": "stdout",
     "output_type": "stream",
     "text": [
      "Epoch 16\n",
      "[TRAIN] Loss: 0.00018823424434495918\n"
     ]
    },
    {
     "name": "stderr",
     "output_type": "stream",
     "text": [
      "100%|██████████| 77/77 [00:00<00:00, 197.44it/s]\n"
     ]
    },
    {
     "name": "stdout",
     "output_type": "stream",
     "text": [
      "[VALID] Loss: 0.0001928719059800796\n",
      "\n"
     ]
    },
    {
     "name": "stderr",
     "output_type": "stream",
     "text": [
      "100%|██████████| 307/307 [00:02<00:00, 144.81it/s]\n"
     ]
    },
    {
     "name": "stdout",
     "output_type": "stream",
     "text": [
      "Epoch 17\n",
      "[TRAIN] Loss: 0.0001850560272045461\n"
     ]
    },
    {
     "name": "stderr",
     "output_type": "stream",
     "text": [
      "100%|██████████| 77/77 [00:00<00:00, 275.00it/s]\n"
     ]
    },
    {
     "name": "stdout",
     "output_type": "stream",
     "text": [
      "[VALID] Loss: 0.00019004234702080634\n",
      "\n"
     ]
    },
    {
     "name": "stderr",
     "output_type": "stream",
     "text": [
      "100%|██████████| 307/307 [00:02<00:00, 144.13it/s]\n"
     ]
    },
    {
     "name": "stdout",
     "output_type": "stream",
     "text": [
      "Epoch 18\n",
      "[TRAIN] Loss: 0.0001821605697325024\n"
     ]
    },
    {
     "name": "stderr",
     "output_type": "stream",
     "text": [
      "100%|██████████| 77/77 [00:00<00:00, 233.33it/s]\n"
     ]
    },
    {
     "name": "stdout",
     "output_type": "stream",
     "text": [
      "[VALID] Loss: 0.00018714822571670048\n",
      "\n"
     ]
    },
    {
     "name": "stderr",
     "output_type": "stream",
     "text": [
      "100%|██████████| 307/307 [00:02<00:00, 144.81it/s]\n"
     ]
    },
    {
     "name": "stdout",
     "output_type": "stream",
     "text": [
      "Epoch 19\n",
      "[TRAIN] Loss: 0.00017958891293080507\n"
     ]
    },
    {
     "name": "stderr",
     "output_type": "stream",
     "text": [
      "100%|██████████| 77/77 [00:00<00:00, 275.00it/s]\n"
     ]
    },
    {
     "name": "stdout",
     "output_type": "stream",
     "text": [
      "[VALID] Loss: 0.0001850396623009822\n",
      "\n"
     ]
    },
    {
     "name": "stderr",
     "output_type": "stream",
     "text": [
      "100%|██████████| 307/307 [00:02<00:00, 120.87it/s]\n"
     ]
    },
    {
     "name": "stdout",
     "output_type": "stream",
     "text": [
      "Epoch 20\n",
      "[TRAIN] Loss: 0.00017716867125200584\n"
     ]
    },
    {
     "name": "stderr",
     "output_type": "stream",
     "text": [
      "100%|██████████| 77/77 [00:00<00:00, 275.00it/s]\n"
     ]
    },
    {
     "name": "stdout",
     "output_type": "stream",
     "text": [
      "[VALID] Loss: 0.0001832043110462761\n",
      "\n"
     ]
    }
   ],
   "source": [
    "device = torch.device('cuda' if torch.cuda.is_available() else 'cpu')\n",
    "model = Autoencoder().to(device)\n",
    "print(f\"Model: Autoencoder\")\n",
    "model_parameters_amount = count_parameters(model)\n",
    "print(f\"model total parameters: {model_parameters_amount:,}\")\n",
    "\n",
    "# criterion = nn.CrossEntropyLoss()\n",
    "criterion = nn.MSELoss()\n",
    "optimizer = optim.Adam(model.parameters(), lr=0.001)\n",
    "epochs = 20\n",
    "\n",
    "for epoch in range(epochs):\n",
    "    model.train()\n",
    "    correct, total = 0, 0\n",
    "    running_loss = 0.0\n",
    "    for images, _ in tqdm(dataloaders['train']):\n",
    "        images = images.to(device)\n",
    "        images = images.view(images.size(0), -1)\n",
    "        # images.requires_grad_()\n",
    "\n",
    "        outputs = model(images)\n",
    "        loss = criterion(outputs, images)\n",
    "\n",
    "        optimizer.zero_grad()\n",
    "        loss.backward()\n",
    "        optimizer.step()\n",
    "\n",
    "        total += images.size(0)\n",
    "        running_loss += loss.item()\n",
    "\n",
    "\n",
    "    print(f'Epoch {epoch+1}\\n[TRAIN] Loss: {running_loss / total}')\n",
    "\n",
    "    model.eval()\n",
    "    correct, total = 0, 0\n",
    "    running_loss = 0.0\n",
    "    with torch.no_grad():\n",
    "        for images, _ in tqdm(dataloaders['val']):\n",
    "            images = images.to(device)\n",
    "            images = images.view(images.size(0), -1)\n",
    "            # images.requires_grad_()\n",
    "            \n",
    "            outputs = model(images)\n",
    "            loss = criterion(outputs, images)\n",
    "            total += images.size(0)\n",
    "            running_loss += loss.item()\n",
    "\n",
    "    print(f'[VALID] Loss: {running_loss / total}\\n')\n",
    "model_scripted = torch.jit.script(model.cpu()) # Export to TorchScript\n",
    "model_scripted.save('model_AE.pt') # Save"
   ]
  },
  {
   "cell_type": "markdown",
   "metadata": {},
   "source": [
    "### Result Visualization"
   ]
  },
  {
   "cell_type": "code",
   "execution_count": 23,
   "metadata": {},
   "outputs": [
    {
     "name": "stdout",
     "output_type": "stream",
     "text": [
      "64\n",
      "torch.Size([64, 784])\n"
     ]
    },
    {
     "data": {
      "image/png": "[encoded data removed]",
      "text/plain": [
       "<Figure size 1000x400 with 2 Axes>"
      ]
     },
     "metadata": {},
     "output_type": "display_data"
    }
   ],
   "source": [
    "model = torch.jit.load('model_AE.pt')\n",
    "index = 0\n",
    "model.cuda()\n",
    "with torch.no_grad():\n",
    "    for images, _ in full_dataloaders['val']:\n",
    "        images = images.to(device)\n",
    "        images = images.view(images.size(0), -1)\n",
    "        \n",
    "        outputs = model(images)\n",
    "        print(len(outputs))\n",
    "        print(outputs.shape)\n",
    "        plot_two_tensors(images[index].cpu().view(28,28), outputs[index].cpu().view(28,28))\n",
    "        break\n"
   ]
  },
  {
   "cell_type": "markdown",
   "metadata": {},
   "source": [
    "### abnormal detection"
   ]
  },
  {
   "cell_type": "code",
   "execution_count": 40,
   "metadata": {},
   "outputs": [
    {
     "name": "stdout",
     "output_type": "stream",
     "text": [
      "Anomaly detection accuracy: 59.37% at threshold: 0.0006870387005619705\n",
      "Anomaly detection accuracy: 67.52% at threshold: 0.003437556345395896\n",
      "Anomaly detection accuracy: 72.36% at threshold: 0.006188073990229821\n",
      "Anomaly detection accuracy: 77.07% at threshold: 0.008938591635063747\n",
      "Anomaly detection accuracy: 82.08% at threshold: 0.011689109279897672\n",
      "Anomaly detection accuracy: 86.38% at threshold: 0.014439626924731597\n",
      "Anomaly detection accuracy: 88.48% at threshold: 0.017190144569565524\n",
      "Anomaly detection accuracy: 88.66% at threshold: 0.019940662214399447\n",
      "Anomaly detection accuracy: 87.03% at threshold: 0.022691179859233374\n",
      "Anomaly detection accuracy: 84.44% at threshold: 0.0254416975040673\n",
      "Anomaly detection accuracy: 80.46% at threshold: 0.028192215148901224\n",
      "Anomaly detection accuracy: 76.34% at threshold: 0.03094273279373515\n",
      "Anomaly detection accuracy: 71.68% at threshold: 0.03369325043856908\n",
      "Anomaly detection accuracy: 67.28% at threshold: 0.036443768083403\n",
      "Anomaly detection accuracy: 63.02% at threshold: 0.039194285728236924\n",
      "Anomaly detection accuracy: 59.02% at threshold: 0.041944803373070855\n",
      "Anomaly detection accuracy: 55.52% at threshold: 0.04469532101790478\n",
      "Anomaly detection accuracy: 52.08% at threshold: 0.0474458386627387\n",
      "Anomaly detection accuracy: 49.72% at threshold: 0.05019635630757263\n",
      "Anomaly detection accuracy: 47.60% at threshold: 0.052946873952406555\n",
      "Anomaly detection accuracy: 45.73% at threshold: 0.05569739159724048\n",
      "Anomaly detection accuracy: 44.41% at threshold: 0.05844790924207441\n",
      "Anomaly detection accuracy: 43.37% at threshold: 0.06119842688690833\n",
      "Anomaly detection accuracy: 42.65% at threshold: 0.06394894453174226\n",
      "Anomaly detection accuracy: 42.00% at threshold: 0.06669946217657619\n",
      "Anomaly detection accuracy: 41.61% at threshold: 0.0694499798214101\n",
      "Anomaly detection accuracy: 41.33% at threshold: 0.07220049746624403\n",
      "Anomaly detection accuracy: 41.08% at threshold: 0.07495101511107796\n",
      "Anomaly detection accuracy: 40.92% at threshold: 0.07770153275591188\n",
      "Anomaly detection accuracy: 40.81% at threshold: 0.08045205040074581\n",
      "Anomaly detection accuracy: 40.79% at threshold: 0.08320256804557974\n",
      "Anomaly detection accuracy: 40.74% at threshold: 0.08595308569041366\n",
      "Anomaly detection accuracy: 40.73% at threshold: 0.08870360333524759\n",
      "Anomaly detection accuracy: 40.68% at threshold: 0.09145412098008152\n",
      "Anomaly detection accuracy: 40.67% at threshold: 0.09420463862491543\n",
      "Anomaly detection accuracy: 40.66% at threshold: 0.09695515626974936\n",
      "Anomaly detection accuracy: 40.66% at threshold: 0.09970567391458329\n",
      "Anomaly detection accuracy: 40.65% at threshold: 0.10245619155941721\n",
      "Anomaly detection accuracy: 40.65% at threshold: 0.10520670920425114\n",
      "Anomaly detection accuracy: 40.65% at threshold: 0.10795722684908507\n",
      "Anomaly detection accuracy: 40.65% at threshold: 0.11070774449391899\n",
      "Anomaly detection accuracy: 40.65% at threshold: 0.11345826213875292\n",
      "Anomaly detection accuracy: 40.65% at threshold: 0.11620877978358685\n",
      "Anomaly detection accuracy: 40.65% at threshold: 0.11895929742842076\n",
      "Anomaly detection accuracy: 40.65% at threshold: 0.12170981507325469\n",
      "Anomaly detection accuracy: 40.65% at threshold: 0.12446033271808862\n",
      "Anomaly detection accuracy: 40.65% at threshold: 0.12721085036292254\n",
      "Anomaly detection accuracy: 40.65% at threshold: 0.12996136800775646\n",
      "Anomaly detection accuracy: 40.65% at threshold: 0.1327118856525904\n",
      "Anomaly detection accuracy: 40.64% at threshold: 0.13546240329742432\n",
      "Best anomaly detection accuracy: 88.66% at threshold: 0.019940662214399447\n"
     ]
    }
   ],
   "source": [
    "model = torch.jit.load('model_AE.pt').cuda()\n",
    "best_acc = 0\n",
    "best_anomaly_threshold = 0\n",
    "criterion = torch.nn.MSELoss(reduction='none')\n",
    "\n",
    "loss_min = 1\n",
    "loss_max = 0\n",
    "for images, labels in full_dataloaders['val']:\n",
    "    images = images.to(device)\n",
    "    labels = labels.to(device)\n",
    "    images = images.view(images.size(0), -1)\n",
    "\n",
    "    outputs = model(images)\n",
    "\n",
    "    loss = criterion(outputs, images).mean(dim=1)  # Get per image loss\n",
    "    if loss.min() < loss_min:\n",
    "        loss_min = loss.min()\n",
    "    if loss.max() > loss_max:\n",
    "        loss_max = loss.max()\n",
    "\n",
    "thresholds = np.linspace(loss_min.cpu().detach().numpy(), loss_max.cpu().detach().numpy(), num=50)\n",
    "\n",
    "\n",
    "for anomaly_threshold in thresholds:\n",
    "    # anomaly_threshold = ii / float(segment_size)\n",
    "\n",
    "    model.eval()\n",
    "    total, correct = 0, 0\n",
    "    losses = []\n",
    "    with torch.no_grad():\n",
    "        for images, labels in full_dataloaders['val']:\n",
    "            images = images.to(device)\n",
    "            labels = labels.to(device)\n",
    "            images = images.view(images.size(0), -1)\n",
    "\n",
    "            outputs = model(images)\n",
    "\n",
    "            # Calculate loss per image (mean across each image's feature dimension)\n",
    "            loss = criterion(outputs, images).mean(dim=1)  # Get per image loss\n",
    "            \n",
    "            anomaly_mask = loss > anomaly_threshold\n",
    "\n",
    "            is_normal = torch.isin(labels, normal_labels)\n",
    "\n",
    "            correct_preds = (~is_normal & anomaly_mask) | (is_normal & ~anomaly_mask)\n",
    "            correct += correct_preds.sum().item()\n",
    "            total += labels.size(0)\n",
    "            \n",
    "        accuracy = 100 * correct / total\n",
    "        if accuracy > best_acc:\n",
    "            best_acc = accuracy\n",
    "            best_anomaly_threshold = anomaly_threshold\n",
    "        print(f'Anomaly detection accuracy: {accuracy:.2f}% at threshold: {anomaly_threshold}')\n",
    "\n",
    "print(f'Best anomaly detection accuracy: {best_acc:.2f}% at threshold: {best_anomaly_threshold}')\n"
   ]
  },
  {
   "cell_type": "code",
   "execution_count": null,
   "metadata": {},
   "outputs": [],
   "source": []
  },
  {
   "cell_type": "markdown",
   "metadata": {},
   "source": [
    "## 3. Denoising Autoencoder"
   ]
  },
  {
   "cell_type": "code",
   "execution_count": 60,
   "metadata": {},
   "outputs": [],
   "source": [
    "class Denoise_Autoencoder(nn.Module):\n",
    "    def __init__(self):\n",
    "        super(Denoise_Autoencoder, self).__init__()\n",
    "        self.encoder = nn.Sequential(\n",
    "            nn.Linear(28 * 28, 128),\n",
    "            nn.ReLU(True),\n",
    "            nn.Linear(128, 64),\n",
    "            nn.ReLU(True),\n",
    "            nn.Linear(64, 12),\n",
    "        )\n",
    "        self.decoder = nn.Sequential(\n",
    "            nn.Linear(12, 64),\n",
    "            nn.ReLU(True),\n",
    "            nn.Linear(64, 128),\n",
    "            nn.ReLU(True),\n",
    "            nn.Linear(128, 28 * 28),\n",
    "            nn.Sigmoid()  # Sigmoid activation to output values between 0 and 1\n",
    "        )\n",
    "\n",
    "    def forward(self, x):\n",
    "        x = self.encoder(x)\n",
    "        x = self.decoder(x)\n",
    "        return x\n"
   ]
  },
  {
   "cell_type": "markdown",
   "metadata": {},
   "source": [
    "### Train Denoising Autoencoder"
   ]
  },
  {
   "cell_type": "code",
   "execution_count": 42,
   "metadata": {},
   "outputs": [],
   "source": [
    "def add_noise(imgs, noise_factor=0.5):\n",
    "    noisy_imgs = imgs + noise_factor * torch.randn_like(imgs)\n",
    "    noisy_imgs = torch.clamp(noisy_imgs, 0., 1.)\n",
    "    return noisy_imgs"
   ]
  },
  {
   "cell_type": "code",
   "execution_count": 28,
   "metadata": {},
   "outputs": [
    {
     "name": "stdout",
     "output_type": "stream",
     "text": [
      "Model: Denoise_Autoencoder\n",
      "model total parameters: 219,804\n"
     ]
    },
    {
     "name": "stderr",
     "output_type": "stream",
     "text": [
      "100%|██████████| 307/307 [00:02<00:00, 111.23it/s]\n"
     ]
    },
    {
     "name": "stdout",
     "output_type": "stream",
     "text": [
      "Epoch 1\n",
      "[TRAIN] Loss: 0.0010284853066437334\n"
     ]
    },
    {
     "name": "stderr",
     "output_type": "stream",
     "text": [
      "100%|██████████| 77/77 [00:00<00:00, 150.98it/s]\n"
     ]
    },
    {
     "name": "stdout",
     "output_type": "stream",
     "text": [
      "[VALID] Loss: 0.0008121350012622556\n",
      "\n"
     ]
    },
    {
     "name": "stderr",
     "output_type": "stream",
     "text": [
      "100%|██████████| 307/307 [00:02<00:00, 116.73it/s]\n"
     ]
    },
    {
     "name": "stdout",
     "output_type": "stream",
     "text": [
      "Epoch 2\n",
      "[TRAIN] Loss: 0.0006578301979323565\n"
     ]
    },
    {
     "name": "stderr",
     "output_type": "stream",
     "text": [
      "100%|██████████| 77/77 [00:00<00:00, 145.27it/s]\n"
     ]
    },
    {
     "name": "stdout",
     "output_type": "stream",
     "text": [
      "[VALID] Loss: 0.0005633040037042543\n",
      "\n"
     ]
    },
    {
     "name": "stderr",
     "output_type": "stream",
     "text": [
      "100%|██████████| 307/307 [00:02<00:00, 116.29it/s]\n"
     ]
    },
    {
     "name": "stdout",
     "output_type": "stream",
     "text": [
      "Epoch 3\n",
      "[TRAIN] Loss: 0.0005255455003588013\n"
     ]
    },
    {
     "name": "stderr",
     "output_type": "stream",
     "text": [
      "100%|██████████| 77/77 [00:00<00:00, 187.80it/s]\n"
     ]
    },
    {
     "name": "stdout",
     "output_type": "stream",
     "text": [
      "[VALID] Loss: 0.00048730962648866423\n",
      "\n"
     ]
    },
    {
     "name": "stderr",
     "output_type": "stream",
     "text": [
      "100%|██████████| 307/307 [00:02<00:00, 113.28it/s]\n"
     ]
    },
    {
     "name": "stdout",
     "output_type": "stream",
     "text": [
      "Epoch 4\n",
      "[TRAIN] Loss: 0.00046135660894406613\n"
     ]
    },
    {
     "name": "stderr",
     "output_type": "stream",
     "text": [
      "100%|██████████| 77/77 [00:00<00:00, 183.33it/s]\n"
     ]
    },
    {
     "name": "stdout",
     "output_type": "stream",
     "text": [
      "[VALID] Loss: 0.0004413075110319917\n",
      "\n"
     ]
    },
    {
     "name": "stderr",
     "output_type": "stream",
     "text": [
      "100%|██████████| 307/307 [00:02<00:00, 113.70it/s]\n"
     ]
    },
    {
     "name": "stdout",
     "output_type": "stream",
     "text": [
      "Epoch 5\n",
      "[TRAIN] Loss: 0.0004234699993239545\n"
     ]
    },
    {
     "name": "stderr",
     "output_type": "stream",
     "text": [
      "100%|██████████| 77/77 [00:00<00:00, 256.67it/s]\n"
     ]
    },
    {
     "name": "stdout",
     "output_type": "stream",
     "text": [
      "[VALID] Loss: 0.00041090556214099406\n",
      "\n"
     ]
    },
    {
     "name": "stderr",
     "output_type": "stream",
     "text": [
      "100%|██████████| 307/307 [00:02<00:00, 115.85it/s]\n"
     ]
    },
    {
     "name": "stdout",
     "output_type": "stream",
     "text": [
      "Epoch 6\n",
      "[TRAIN] Loss: 0.000399874144628581\n"
     ]
    },
    {
     "name": "stderr",
     "output_type": "stream",
     "text": [
      "100%|██████████| 77/77 [00:00<00:00, 135.09it/s]\n"
     ]
    },
    {
     "name": "stdout",
     "output_type": "stream",
     "text": [
      "[VALID] Loss: 0.00039327058771242927\n",
      "\n"
     ]
    },
    {
     "name": "stderr",
     "output_type": "stream",
     "text": [
      "100%|██████████| 307/307 [00:02<00:00, 112.86it/s]\n"
     ]
    },
    {
     "name": "stdout",
     "output_type": "stream",
     "text": [
      "Epoch 7\n",
      "[TRAIN] Loss: 0.0003820027337490757\n"
     ]
    },
    {
     "name": "stderr",
     "output_type": "stream",
     "text": [
      "100%|██████████| 77/77 [00:00<00:00, 174.98it/s]\n"
     ]
    },
    {
     "name": "stdout",
     "output_type": "stream",
     "text": [
      "[VALID] Loss: 0.00037480371621974323\n",
      "\n"
     ]
    },
    {
     "name": "stderr",
     "output_type": "stream",
     "text": [
      "100%|██████████| 307/307 [00:02<00:00, 113.28it/s]\n"
     ]
    },
    {
     "name": "stdout",
     "output_type": "stream",
     "text": [
      "Epoch 8\n",
      "[TRAIN] Loss: 0.00036901623145638515\n"
     ]
    },
    {
     "name": "stderr",
     "output_type": "stream",
     "text": [
      "100%|██████████| 77/77 [00:00<00:00, 163.82it/s]\n"
     ]
    },
    {
     "name": "stdout",
     "output_type": "stream",
     "text": [
      "[VALID] Loss: 0.00036592562857360036\n",
      "\n"
     ]
    },
    {
     "name": "stderr",
     "output_type": "stream",
     "text": [
      "100%|██████████| 307/307 [00:02<00:00, 114.13it/s]\n"
     ]
    },
    {
     "name": "stdout",
     "output_type": "stream",
     "text": [
      "Epoch 9\n",
      "[TRAIN] Loss: 0.00035707678886845\n"
     ]
    },
    {
     "name": "stderr",
     "output_type": "stream",
     "text": [
      "100%|██████████| 77/77 [00:00<00:00, 171.11it/s]\n"
     ]
    },
    {
     "name": "stdout",
     "output_type": "stream",
     "text": [
      "[VALID] Loss: 0.00035363680141574496\n",
      "\n"
     ]
    },
    {
     "name": "stderr",
     "output_type": "stream",
     "text": [
      "100%|██████████| 307/307 [00:02<00:00, 118.99it/s]\n"
     ]
    },
    {
     "name": "stdout",
     "output_type": "stream",
     "text": [
      "Epoch 10\n",
      "[TRAIN] Loss: 0.0003475223943282431\n"
     ]
    },
    {
     "name": "stderr",
     "output_type": "stream",
     "text": [
      "100%|██████████| 77/77 [00:00<00:00, 240.63it/s]\n"
     ]
    },
    {
     "name": "stdout",
     "output_type": "stream",
     "text": [
      "[VALID] Loss: 0.00034501639434442844\n",
      "\n"
     ]
    },
    {
     "name": "stderr",
     "output_type": "stream",
     "text": [
      "100%|██████████| 307/307 [00:02<00:00, 130.08it/s]\n"
     ]
    },
    {
     "name": "stdout",
     "output_type": "stream",
     "text": [
      "Epoch 11\n",
      "[TRAIN] Loss: 0.00033724811203990536\n"
     ]
    },
    {
     "name": "stderr",
     "output_type": "stream",
     "text": [
      "100%|██████████| 77/77 [00:00<00:00, 202.63it/s]\n"
     ]
    },
    {
     "name": "stdout",
     "output_type": "stream",
     "text": [
      "[VALID] Loss: 0.00033786315402677374\n",
      "\n"
     ]
    },
    {
     "name": "stderr",
     "output_type": "stream",
     "text": [
      "100%|██████████| 307/307 [00:02<00:00, 124.80it/s]\n"
     ]
    },
    {
     "name": "stdout",
     "output_type": "stream",
     "text": [
      "Epoch 12\n",
      "[TRAIN] Loss: 0.00032953397412257516\n"
     ]
    },
    {
     "name": "stderr",
     "output_type": "stream",
     "text": [
      "100%|██████████| 77/77 [00:00<00:00, 226.46it/s]\n"
     ]
    },
    {
     "name": "stdout",
     "output_type": "stream",
     "text": [
      "[VALID] Loss: 0.00032975660228998634\n",
      "\n"
     ]
    },
    {
     "name": "stderr",
     "output_type": "stream",
     "text": [
      "100%|██████████| 307/307 [00:02<00:00, 123.29it/s]\n"
     ]
    },
    {
     "name": "stdout",
     "output_type": "stream",
     "text": [
      "Epoch 13\n",
      "[TRAIN] Loss: 0.00032149968564437536\n"
     ]
    },
    {
     "name": "stderr",
     "output_type": "stream",
     "text": [
      "100%|██████████| 77/77 [00:00<00:00, 256.67it/s]\n"
     ]
    },
    {
     "name": "stdout",
     "output_type": "stream",
     "text": [
      "[VALID] Loss: 0.00031943138118481403\n",
      "\n"
     ]
    },
    {
     "name": "stderr",
     "output_type": "stream",
     "text": [
      "100%|██████████| 307/307 [00:02<00:00, 118.99it/s]\n"
     ]
    },
    {
     "name": "stdout",
     "output_type": "stream",
     "text": [
      "Epoch 14\n",
      "[TRAIN] Loss: 0.00031530953825791263\n"
     ]
    },
    {
     "name": "stderr",
     "output_type": "stream",
     "text": [
      "100%|██████████| 77/77 [00:00<00:00, 197.45it/s]\n"
     ]
    },
    {
     "name": "stdout",
     "output_type": "stream",
     "text": [
      "[VALID] Loss: 0.00031342196349564224\n",
      "\n"
     ]
    },
    {
     "name": "stderr",
     "output_type": "stream",
     "text": [
      "100%|██████████| 307/307 [00:02<00:00, 118.53it/s]\n"
     ]
    },
    {
     "name": "stdout",
     "output_type": "stream",
     "text": [
      "Epoch 15\n",
      "[TRAIN] Loss: 0.0003098587085957314\n"
     ]
    },
    {
     "name": "stderr",
     "output_type": "stream",
     "text": [
      "100%|██████████| 77/77 [00:00<00:00, 171.10it/s]\n"
     ]
    },
    {
     "name": "stdout",
     "output_type": "stream",
     "text": [
      "[VALID] Loss: 0.00030801516042943403\n",
      "\n"
     ]
    },
    {
     "name": "stderr",
     "output_type": "stream",
     "text": [
      "100%|██████████| 307/307 [00:02<00:00, 118.08it/s]\n"
     ]
    },
    {
     "name": "stdout",
     "output_type": "stream",
     "text": [
      "Epoch 16\n",
      "[TRAIN] Loss: 0.0003046230106086605\n"
     ]
    },
    {
     "name": "stderr",
     "output_type": "stream",
     "text": [
      "100%|██████████| 77/77 [00:00<00:00, 179.05it/s]\n"
     ]
    },
    {
     "name": "stdout",
     "output_type": "stream",
     "text": [
      "[VALID] Loss: 0.0003037511186025042\n",
      "\n"
     ]
    },
    {
     "name": "stderr",
     "output_type": "stream",
     "text": [
      "100%|██████████| 307/307 [00:02<00:00, 116.73it/s]\n"
     ]
    },
    {
     "name": "stdout",
     "output_type": "stream",
     "text": [
      "Epoch 17\n",
      "[TRAIN] Loss: 0.00030021038121237745\n"
     ]
    },
    {
     "name": "stderr",
     "output_type": "stream",
     "text": [
      "100%|██████████| 77/77 [00:00<00:00, 142.59it/s]\n"
     ]
    },
    {
     "name": "stdout",
     "output_type": "stream",
     "text": [
      "[VALID] Loss: 0.00030066779718342985\n",
      "\n"
     ]
    },
    {
     "name": "stderr",
     "output_type": "stream",
     "text": [
      "100%|██████████| 307/307 [00:02<00:00, 115.85it/s]\n"
     ]
    },
    {
     "name": "stdout",
     "output_type": "stream",
     "text": [
      "Epoch 18\n",
      "[TRAIN] Loss: 0.0002965340437256162\n"
     ]
    },
    {
     "name": "stderr",
     "output_type": "stream",
     "text": [
      "100%|██████████| 77/77 [00:00<00:00, 174.99it/s]\n"
     ]
    },
    {
     "name": "stdout",
     "output_type": "stream",
     "text": [
      "[VALID] Loss: 0.00029523554997494387\n",
      "\n"
     ]
    },
    {
     "name": "stderr",
     "output_type": "stream",
     "text": [
      "100%|██████████| 307/307 [00:02<00:00, 116.29it/s]\n"
     ]
    },
    {
     "name": "stdout",
     "output_type": "stream",
     "text": [
      "Epoch 19\n",
      "[TRAIN] Loss: 0.00029176204360237664\n"
     ]
    },
    {
     "name": "stderr",
     "output_type": "stream",
     "text": [
      "100%|██████████| 77/77 [00:00<00:00, 202.64it/s]\n"
     ]
    },
    {
     "name": "stdout",
     "output_type": "stream",
     "text": [
      "[VALID] Loss: 0.00029333791747106794\n",
      "\n"
     ]
    },
    {
     "name": "stderr",
     "output_type": "stream",
     "text": [
      "100%|██████████| 307/307 [00:02<00:00, 121.34it/s]\n"
     ]
    },
    {
     "name": "stdout",
     "output_type": "stream",
     "text": [
      "Epoch 20\n",
      "[TRAIN] Loss: 0.0002882516031694508\n"
     ]
    },
    {
     "name": "stderr",
     "output_type": "stream",
     "text": [
      "100%|██████████| 77/77 [00:00<00:00, 179.07it/s]"
     ]
    },
    {
     "name": "stdout",
     "output_type": "stream",
     "text": [
      "[VALID] Loss: 0.00029264548558329234\n",
      "\n"
     ]
    },
    {
     "name": "stderr",
     "output_type": "stream",
     "text": [
      "\n"
     ]
    }
   ],
   "source": [
    "device = torch.device('cuda' if torch.cuda.is_available() else 'cpu')\n",
    "model = Denoise_Autoencoder().to(device)\n",
    "print(f\"Model: Denoise_Autoencoder\")\n",
    "model_parameters_amount = count_parameters(model)\n",
    "print(f\"model total parameters: {model_parameters_amount:,}\")\n",
    "\n",
    "criterion = nn.MSELoss()\n",
    "optimizer = optim.Adam(model.parameters(), lr=0.001)\n",
    "epochs = 20\n",
    "\n",
    "for epoch in range(epochs):\n",
    "    model.train()\n",
    "    correct, total = 0, 0\n",
    "    running_loss = 0.0\n",
    "    for images, _ in tqdm(dataloaders['train']):\n",
    "        images = images.to(device)\n",
    "        noisy_images = add_noise(images)\n",
    "\n",
    "        images = images.view(images.size(0), -1)\n",
    "        noisy_images = noisy_images.view(noisy_images.size(0), -1)\n",
    "\n",
    "        outputs = model(noisy_images)\n",
    "        loss = criterion(outputs, images)\n",
    "        \n",
    "        optimizer.zero_grad()\n",
    "        loss.backward()\n",
    "        optimizer.step()\n",
    "        \n",
    "        total += images.size(0)\n",
    "        running_loss += loss.item()\n",
    "\n",
    "\n",
    "    print(f'Epoch {epoch+1}\\n[TRAIN] Loss: {running_loss / total}')\n",
    "\n",
    "    model.eval()\n",
    "    correct, total = 0, 0\n",
    "    running_loss = 0.0\n",
    "    with torch.no_grad():\n",
    "        for images, _ in tqdm(dataloaders['val']):\n",
    "            images = images.to(device)\n",
    "            noisy_images = add_noise(images)\n",
    "            images = images.view(images.size(0), -1)\n",
    "            noisy_images = noisy_images.view(images.size(0), -1)\n",
    "            \n",
    "            outputs = model(noisy_images)\n",
    "            loss = criterion(outputs, images)\n",
    "            total += images.size(0)\n",
    "            running_loss += loss.item()\n",
    "\n",
    "    print(f'[VALID] Loss: {running_loss / total}\\n')\n",
    "\n",
    "model_scripted = torch.jit.script(model.cpu()) # Export to TorchScript\n",
    "model_scripted.save('model_DAE.pt') # Save"
   ]
  },
  {
   "cell_type": "markdown",
   "metadata": {},
   "source": [
    "### Result Visualization"
   ]
  },
  {
   "cell_type": "code",
   "execution_count": 46,
   "metadata": {},
   "outputs": [],
   "source": [
    "def plot_three_tensors(tensor1, tensor2, tensor3):\n",
    "    fig, axes = plt.subplots(1, 3, figsize=(10, 4))  # Create a figure with two subplots\n",
    "\n",
    "    axes[0].imshow(tensor1.squeeze(), cmap='gray')  # Remove channel dimension if exists and plot\n",
    "    axes[0].set_title(f'Before:')\n",
    "    axes[0].axis('off')  # Hide axes ticks\n",
    "\n",
    "    axes[1].imshow(tensor2.squeeze(), cmap='gray')\n",
    "    axes[1].set_title(f'Add Noise:')\n",
    "    axes[1].axis('off')\n",
    "\n",
    "    axes[2].imshow(tensor3.squeeze(), cmap='gray')\n",
    "    axes[2].set_title(f'After:')\n",
    "    axes[2].axis('off')\n",
    "    plt.show()"
   ]
  },
  {
   "cell_type": "code",
   "execution_count": 55,
   "metadata": {},
   "outputs": [
    {
     "name": "stdout",
     "output_type": "stream",
     "text": [
      "Label: 9\n",
      "torch.Size([64, 784])\n"
     ]
    },
    {
     "data": {
      "image/png": "[encoded data removed]",
      "text/plain": [
       "<Figure size 1000x400 with 3 Axes>"
      ]
     },
     "metadata": {},
     "output_type": "display_data"
    }
   ],
   "source": [
    "model = torch.jit.load('model_DAE.pt').cuda()\n",
    "index = 2\n",
    "model.cuda()\n",
    "with torch.no_grad():\n",
    "    for images, label in full_dataloaders['val']:\n",
    "        images = images.to(device)\n",
    "        noisy_images = add_noise(images)\n",
    "        images = images.view(images.size(0), -1)\n",
    "        noisy_images = noisy_images.view(noisy_images.size(0), -1)\n",
    "        \n",
    "        outputs = model(noisy_images)\n",
    "        print(\"Label:\", label[index].item())\n",
    "        print(outputs.shape)\n",
    "        plot_three_tensors(images[index].cpu().view(28,28), noisy_images[index].cpu().view(28,28), outputs[index].cpu().view(28,28))\n",
    "        break"
   ]
  },
  {
   "cell_type": "markdown",
   "metadata": {},
   "source": [
    "### abnormal detection"
   ]
  },
  {
   "cell_type": "code",
   "execution_count": 43,
   "metadata": {},
   "outputs": [
    {
     "name": "stdout",
     "output_type": "stream",
     "text": [
      "Anomaly detection accuracy: 59.38% at threshold: 0.00196940079331398\n",
      "Anomaly detection accuracy: 61.62% at threshold: 0.004442765852626489\n",
      "Anomaly detection accuracy: 65.92% at threshold: 0.006916130911938998\n",
      "Anomaly detection accuracy: 69.47% at threshold: 0.009389495971251507\n",
      "Anomaly detection accuracy: 72.02% at threshold: 0.011862861030564015\n",
      "Anomaly detection accuracy: 75.02% at threshold: 0.014336226089876523\n",
      "Anomaly detection accuracy: 77.96% at threshold: 0.016809591149189035\n",
      "Anomaly detection accuracy: 81.05% at threshold: 0.019282956208501543\n",
      "Anomaly detection accuracy: 83.58% at threshold: 0.02175632126781405\n",
      "Anomaly detection accuracy: 85.59% at threshold: 0.02422968632712656\n",
      "Anomaly detection accuracy: 86.49% at threshold: 0.026703051386439067\n",
      "Anomaly detection accuracy: 86.58% at threshold: 0.029176416445751578\n",
      "Anomaly detection accuracy: 85.71% at threshold: 0.03164978150506409\n",
      "Anomaly detection accuracy: 83.92% at threshold: 0.034123146564376594\n",
      "Anomaly detection accuracy: 81.63% at threshold: 0.036596511623689106\n",
      "Anomaly detection accuracy: 78.58% at threshold: 0.03906987668300161\n",
      "Anomaly detection accuracy: 75.12% at threshold: 0.04154324174231412\n",
      "Anomaly detection accuracy: 71.79% at threshold: 0.04401660680162663\n",
      "Anomaly detection accuracy: 68.10% at threshold: 0.04648997186093914\n",
      "Anomaly detection accuracy: 64.50% at threshold: 0.04896333692025165\n",
      "Anomaly detection accuracy: 61.02% at threshold: 0.05143670197956415\n",
      "Anomaly detection accuracy: 57.62% at threshold: 0.053910067038876665\n",
      "Anomaly detection accuracy: 54.58% at threshold: 0.056383432098189176\n",
      "Anomaly detection accuracy: 51.73% at threshold: 0.05885679715750168\n",
      "Anomaly detection accuracy: 49.62% at threshold: 0.06133016221681419\n",
      "Anomaly detection accuracy: 47.43% at threshold: 0.0638035272761267\n",
      "Anomaly detection accuracy: 46.03% at threshold: 0.06627689233543921\n",
      "Anomaly detection accuracy: 44.58% at threshold: 0.06875025739475171\n",
      "Anomaly detection accuracy: 43.57% at threshold: 0.07122362245406423\n",
      "Anomaly detection accuracy: 42.58% at threshold: 0.07369698751337674\n",
      "Anomaly detection accuracy: 42.12% at threshold: 0.07617035257268924\n",
      "Anomaly detection accuracy: 41.65% at threshold: 0.07864371763200176\n",
      "Anomaly detection accuracy: 41.37% at threshold: 0.08111708269131426\n",
      "Anomaly detection accuracy: 41.12% at threshold: 0.08359044775062677\n",
      "Anomaly detection accuracy: 40.98% at threshold: 0.08606381280993929\n",
      "Anomaly detection accuracy: 40.83% at threshold: 0.08853717786925179\n",
      "Anomaly detection accuracy: 40.77% at threshold: 0.0910105429285643\n",
      "Anomaly detection accuracy: 40.72% at threshold: 0.09348390798787681\n",
      "Anomaly detection accuracy: 40.70% at threshold: 0.09595727304718932\n",
      "Anomaly detection accuracy: 40.66% at threshold: 0.09843063810650182\n",
      "Anomaly detection accuracy: 40.66% at threshold: 0.10090400316581433\n",
      "Anomaly detection accuracy: 40.65% at threshold: 0.10337736822512684\n",
      "Anomaly detection accuracy: 40.66% at threshold: 0.10585073328443935\n",
      "Anomaly detection accuracy: 40.65% at threshold: 0.10832409834375185\n",
      "Anomaly detection accuracy: 40.65% at threshold: 0.11079746340306437\n",
      "Anomaly detection accuracy: 40.65% at threshold: 0.11327082846237688\n",
      "Anomaly detection accuracy: 40.65% at threshold: 0.11574419352168938\n",
      "Anomaly detection accuracy: 40.65% at threshold: 0.1182175585810019\n",
      "Anomaly detection accuracy: 40.65% at threshold: 0.1206909236403144\n",
      "Anomaly detection accuracy: 40.65% at threshold: 0.12316428869962692\n",
      "Best anomaly detection accuracy: 86.58% at threshold: 0.029176416445751578\n"
     ]
    }
   ],
   "source": [
    "model = torch.jit.load('model_DAE.pt').cuda()\n",
    "best_acc = 0\n",
    "best_anomaly_threshold = 0\n",
    "\n",
    "criterion = torch.nn.MSELoss(reduction='none')\n",
    "\n",
    "loss_min = 1\n",
    "loss_max = 0\n",
    "for images, labels in full_dataloaders['val']:\n",
    "    images = images.to(device)\n",
    "    labels = labels.to(device)\n",
    "    images = images.view(images.size(0), -1)\n",
    "\n",
    "    outputs = model(images)\n",
    "\n",
    "    loss = criterion(outputs, images).mean(dim=1)  # Get per image loss\n",
    "    if loss.min() < loss_min:\n",
    "        loss_min = loss.min()\n",
    "    if loss.max() > loss_max:\n",
    "        loss_max = loss.max()\n",
    "\n",
    "thresholds = np.linspace(loss_min.cpu().detach().numpy(), loss_max.cpu().detach().numpy(), num=50)\n",
    "\n",
    "for anomaly_threshold in thresholds:\n",
    "\n",
    "    model.eval()\n",
    "    total, correct = 0, 0\n",
    "    losses = []\n",
    "    with torch.no_grad():\n",
    "        for images, labels in full_dataloaders['val']:\n",
    "            images = images.to(device)\n",
    "            noisy_images = add_noise(images)\n",
    "            labels = labels.to(device)\n",
    "            \n",
    "            images = images.view(images.size(0), -1)\n",
    "            noisy_images = noisy_images.view(noisy_images.size(0), -1)\n",
    "\n",
    "            outputs = model(noisy_images)\n",
    "\n",
    "            # Calculate loss per image (mean across each image's feature dimension)\n",
    "            loss = criterion(outputs, images).mean(dim=1)  # Get per image loss\n",
    "            \n",
    "            anomaly_mask = loss > anomaly_threshold\n",
    "\n",
    "            is_normal = torch.isin(labels, normal_labels)\n",
    "\n",
    "            correct_preds = (~is_normal & anomaly_mask) | (is_normal & ~anomaly_mask)\n",
    "            correct += correct_preds.sum().item()\n",
    "            total += labels.size(0)\n",
    "            \n",
    "        accuracy = 100 * correct / total\n",
    "        if accuracy > best_acc:\n",
    "            best_acc = accuracy\n",
    "            best_anomaly_threshold = anomaly_threshold\n",
    "        print(f'Anomaly detection accuracy: {accuracy:.2f}% at threshold: {anomaly_threshold}')\n",
    "\n",
    "print(f'Best anomaly detection accuracy: {best_acc:.2f}% at threshold: {best_anomaly_threshold}')\n"
   ]
  },
  {
   "cell_type": "markdown",
   "metadata": {},
   "source": [
    "## 4. Variational autoencoder"
   ]
  },
  {
   "cell_type": "code",
   "execution_count": 61,
   "metadata": {},
   "outputs": [],
   "source": [
    "import torch\n",
    "import torch.nn as nn\n",
    "import torch.nn.functional as F\n",
    "\n",
    "class VAE(nn.Module):\n",
    "    def __init__(self, input_dim, latent_dim):\n",
    "        super(VAE, self).__init__()\n",
    "        # Encoder\n",
    "        self.fc1 = nn.Linear(input_dim, 400)\n",
    "        self.fc_mean = nn.Linear(400, latent_dim)\n",
    "        self.fc_logvar = nn.Linear(400, latent_dim)\n",
    "        # Decoder\n",
    "        self.fc2 = nn.Linear(latent_dim, 400)\n",
    "        self.fc3 = nn.Linear(400, input_dim)\n",
    "    \n",
    "    def encode(self, x):\n",
    "        h1 = F.relu(self.fc1(x))\n",
    "        return self.fc_mean(h1), self.fc_logvar(h1)\n",
    "    \n",
    "    def reparameterize(self, mu, logvar):\n",
    "        std = torch.exp(0.5*logvar)\n",
    "        eps = torch.randn_like(std)\n",
    "        return mu + eps*std\n",
    "    \n",
    "    def decode(self, z):\n",
    "        h2 = F.relu(self.fc2(z))\n",
    "        return torch.sigmoid(self.fc3(h2))\n",
    "    \n",
    "    def forward(self, x):\n",
    "        mu, logvar = self.encode(x.view(-1, 784))  # Assuming input is 28x28 (for MNIST)\n",
    "        z = self.reparameterize(mu, logvar)\n",
    "        return self.decode(z), mu, logvar\n"
   ]
  },
  {
   "cell_type": "markdown",
   "metadata": {},
   "source": [
    "### Train VAE"
   ]
  },
  {
   "cell_type": "code",
   "execution_count": 69,
   "metadata": {},
   "outputs": [],
   "source": [
    "def vae_loss(recon_x, x, mu, logvar):\n",
    "    assert torch.max(recon_x) <= 1 and torch.min(recon_x) >= 0, \"Recon_x out of bounds\"\n",
    "    assert torch.max(x) <= 1 and torch.min(x) >= 0, \"x out of bounds\"\n",
    "    \n",
    "    BCE = F.binary_cross_entropy(recon_x, x.view(-1, 784), reduction='sum')\n",
    "    KL = -0.5 * torch.sum(1 + logvar - mu.pow(2) - logvar.exp())\n",
    "    \n",
    "    return BCE + KL\n"
   ]
  },
  {
   "cell_type": "code",
   "execution_count": 33,
   "metadata": {},
   "outputs": [
    {
     "name": "stdout",
     "output_type": "stream",
     "text": [
      "Model: VAE\n",
      "model total parameters: 652,824\n"
     ]
    },
    {
     "name": "stderr",
     "output_type": "stream",
     "text": [
      "100%|██████████| 307/307 [00:03<00:00, 100.65it/s]\n"
     ]
    },
    {
     "name": "stdout",
     "output_type": "stream",
     "text": [
      "Epoch 1\n",
      "[TRAIN] Loss: 159.62365673572143\n"
     ]
    },
    {
     "name": "stderr",
     "output_type": "stream",
     "text": [
      "100%|██████████| 77/77 [00:00<00:00, 167.39it/s]\n"
     ]
    },
    {
     "name": "stdout",
     "output_type": "stream",
     "text": [
      "[VALID] Loss: 124.3431087332362\n",
      "\n"
     ]
    },
    {
     "name": "stderr",
     "output_type": "stream",
     "text": [
      "100%|██████████| 307/307 [00:02<00:00, 103.02it/s]\n"
     ]
    },
    {
     "name": "stdout",
     "output_type": "stream",
     "text": [
      "Epoch 2\n",
      "[TRAIN] Loss: 115.97339445013074\n"
     ]
    },
    {
     "name": "stderr",
     "output_type": "stream",
     "text": [
      "100%|██████████| 77/77 [00:00<00:00, 183.33it/s]\n"
     ]
    },
    {
     "name": "stdout",
     "output_type": "stream",
     "text": [
      "[VALID] Loss: 110.03504511432462\n",
      "\n"
     ]
    },
    {
     "name": "stderr",
     "output_type": "stream",
     "text": [
      "100%|██████████| 307/307 [00:02<00:00, 102.68it/s]\n"
     ]
    },
    {
     "name": "stdout",
     "output_type": "stream",
     "text": [
      "Epoch 3\n",
      "[TRAIN] Loss: 106.55921705603909\n"
     ]
    },
    {
     "name": "stderr",
     "output_type": "stream",
     "text": [
      "100%|██████████| 77/77 [00:00<00:00, 197.43it/s]\n"
     ]
    },
    {
     "name": "stdout",
     "output_type": "stream",
     "text": [
      "[VALID] Loss: 104.30408907713253\n",
      "\n"
     ]
    },
    {
     "name": "stderr",
     "output_type": "stream",
     "text": [
      "100%|██████████| 307/307 [00:02<00:00, 107.34it/s]\n"
     ]
    },
    {
     "name": "stdout",
     "output_type": "stream",
     "text": [
      "Epoch 4\n",
      "[TRAIN] Loss: 101.97458106776003\n"
     ]
    },
    {
     "name": "stderr",
     "output_type": "stream",
     "text": [
      "100%|██████████| 77/77 [00:00<00:00, 154.00it/s]\n"
     ]
    },
    {
     "name": "stdout",
     "output_type": "stream",
     "text": [
      "[VALID] Loss: 100.54721228385205\n",
      "\n"
     ]
    },
    {
     "name": "stderr",
     "output_type": "stream",
     "text": [
      "100%|██████████| 307/307 [00:02<00:00, 110.83it/s]\n"
     ]
    },
    {
     "name": "stdout",
     "output_type": "stream",
     "text": [
      "Epoch 5\n",
      "[TRAIN] Loss: 99.14669644319902\n"
     ]
    },
    {
     "name": "stderr",
     "output_type": "stream",
     "text": [
      "100%|██████████| 77/77 [00:00<00:00, 153.99it/s]\n"
     ]
    },
    {
     "name": "stdout",
     "output_type": "stream",
     "text": [
      "[VALID] Loss: 98.47272812038757\n",
      "\n"
     ]
    },
    {
     "name": "stderr",
     "output_type": "stream",
     "text": [
      "100%|██████████| 307/307 [00:02<00:00, 108.87it/s]\n"
     ]
    },
    {
     "name": "stdout",
     "output_type": "stream",
     "text": [
      "Epoch 6\n",
      "[TRAIN] Loss: 97.14220603018272\n"
     ]
    },
    {
     "name": "stderr",
     "output_type": "stream",
     "text": [
      "100%|██████████| 77/77 [00:00<00:00, 226.47it/s]\n"
     ]
    },
    {
     "name": "stdout",
     "output_type": "stream",
     "text": [
      "[VALID] Loss: 96.91359022308251\n",
      "\n"
     ]
    },
    {
     "name": "stderr",
     "output_type": "stream",
     "text": [
      "100%|██████████| 307/307 [00:02<00:00, 105.86it/s]\n"
     ]
    },
    {
     "name": "stdout",
     "output_type": "stream",
     "text": [
      "Epoch 7\n",
      "[TRAIN] Loss: 95.90626334590682\n"
     ]
    },
    {
     "name": "stderr",
     "output_type": "stream",
     "text": [
      "100%|██████████| 77/77 [00:00<00:00, 167.39it/s]\n"
     ]
    },
    {
     "name": "stdout",
     "output_type": "stream",
     "text": [
      "[VALID] Loss: 95.82907611461727\n",
      "\n"
     ]
    },
    {
     "name": "stderr",
     "output_type": "stream",
     "text": [
      "100%|██████████| 307/307 [00:02<00:00, 110.83it/s]\n"
     ]
    },
    {
     "name": "stdout",
     "output_type": "stream",
     "text": [
      "Epoch 8\n",
      "[TRAIN] Loss: 94.77211968489941\n"
     ]
    },
    {
     "name": "stderr",
     "output_type": "stream",
     "text": [
      "100%|██████████| 77/77 [00:00<00:00, 192.49it/s]\n"
     ]
    },
    {
     "name": "stdout",
     "output_type": "stream",
     "text": [
      "[VALID] Loss: 94.93993375200402\n",
      "\n"
     ]
    },
    {
     "name": "stderr",
     "output_type": "stream",
     "text": [
      "100%|██████████| 307/307 [00:02<00:00, 112.87it/s]\n"
     ]
    },
    {
     "name": "stdout",
     "output_type": "stream",
     "text": [
      "Epoch 9\n",
      "[TRAIN] Loss: 94.07595066100264\n"
     ]
    },
    {
     "name": "stderr",
     "output_type": "stream",
     "text": [
      "100%|██████████| 77/77 [00:00<00:00, 150.98it/s]\n"
     ]
    },
    {
     "name": "stdout",
     "output_type": "stream",
     "text": [
      "[VALID] Loss: 94.57755252204423\n",
      "\n"
     ]
    },
    {
     "name": "stderr",
     "output_type": "stream",
     "text": [
      "100%|██████████| 307/307 [00:02<00:00, 112.04it/s]\n"
     ]
    },
    {
     "name": "stdout",
     "output_type": "stream",
     "text": [
      "Epoch 10\n",
      "[TRAIN] Loss: 93.4466006409614\n"
     ]
    },
    {
     "name": "stderr",
     "output_type": "stream",
     "text": [
      "100%|██████████| 77/77 [00:00<00:00, 171.12it/s]\n"
     ]
    },
    {
     "name": "stdout",
     "output_type": "stream",
     "text": [
      "[VALID] Loss: 93.89971695194804\n",
      "\n"
     ]
    },
    {
     "name": "stderr",
     "output_type": "stream",
     "text": [
      "100%|██████████| 307/307 [00:02<00:00, 115.41it/s]\n"
     ]
    },
    {
     "name": "stdout",
     "output_type": "stream",
     "text": [
      "Epoch 11\n",
      "[TRAIN] Loss: 92.92318543384486\n"
     ]
    },
    {
     "name": "stderr",
     "output_type": "stream",
     "text": [
      "100%|██████████| 77/77 [00:00<00:00, 163.82it/s]\n"
     ]
    },
    {
     "name": "stdout",
     "output_type": "stream",
     "text": [
      "[VALID] Loss: 93.49599305193277\n",
      "\n"
     ]
    },
    {
     "name": "stderr",
     "output_type": "stream",
     "text": [
      "100%|██████████| 307/307 [00:02<00:00, 111.23it/s]\n"
     ]
    },
    {
     "name": "stdout",
     "output_type": "stream",
     "text": [
      "Epoch 12\n",
      "[TRAIN] Loss: 92.40576626679646\n"
     ]
    },
    {
     "name": "stderr",
     "output_type": "stream",
     "text": [
      "100%|██████████| 77/77 [00:00<00:00, 208.10it/s]\n"
     ]
    },
    {
     "name": "stdout",
     "output_type": "stream",
     "text": [
      "[VALID] Loss: 93.03425632936559\n",
      "\n"
     ]
    },
    {
     "name": "stderr",
     "output_type": "stream",
     "text": [
      "100%|██████████| 307/307 [00:02<00:00, 121.83it/s]\n"
     ]
    },
    {
     "name": "stdout",
     "output_type": "stream",
     "text": [
      "Epoch 13\n",
      "[TRAIN] Loss: 92.0338864503407\n"
     ]
    },
    {
     "name": "stderr",
     "output_type": "stream",
     "text": [
      "100%|██████████| 77/77 [00:00<00:00, 197.43it/s]\n"
     ]
    },
    {
     "name": "stdout",
     "output_type": "stream",
     "text": [
      "[VALID] Loss: 92.83527853900524\n",
      "\n"
     ]
    },
    {
     "name": "stderr",
     "output_type": "stream",
     "text": [
      "100%|██████████| 307/307 [00:02<00:00, 113.29it/s]\n"
     ]
    },
    {
     "name": "stdout",
     "output_type": "stream",
     "text": [
      "Epoch 14\n",
      "[TRAIN] Loss: 91.69711799988548\n"
     ]
    },
    {
     "name": "stderr",
     "output_type": "stream",
     "text": [
      "100%|██████████| 77/77 [00:00<00:00, 192.49it/s]\n"
     ]
    },
    {
     "name": "stdout",
     "output_type": "stream",
     "text": [
      "[VALID] Loss: 92.52539609231856\n",
      "\n"
     ]
    },
    {
     "name": "stderr",
     "output_type": "stream",
     "text": [
      "100%|██████████| 307/307 [00:02<00:00, 114.55it/s]\n"
     ]
    },
    {
     "name": "stdout",
     "output_type": "stream",
     "text": [
      "Epoch 15\n",
      "[TRAIN] Loss: 91.38210084256662\n"
     ]
    },
    {
     "name": "stderr",
     "output_type": "stream",
     "text": [
      "100%|██████████| 77/77 [00:00<00:00, 233.32it/s]\n"
     ]
    },
    {
     "name": "stdout",
     "output_type": "stream",
     "text": [
      "[VALID] Loss: 92.37054453299955\n",
      "\n"
     ]
    },
    {
     "name": "stderr",
     "output_type": "stream",
     "text": [
      "100%|██████████| 307/307 [00:02<00:00, 105.86it/s]\n"
     ]
    },
    {
     "name": "stdout",
     "output_type": "stream",
     "text": [
      "Epoch 16\n",
      "[TRAIN] Loss: 91.11261579375986\n"
     ]
    },
    {
     "name": "stderr",
     "output_type": "stream",
     "text": [
      "100%|██████████| 77/77 [00:00<00:00, 197.43it/s]\n"
     ]
    },
    {
     "name": "stdout",
     "output_type": "stream",
     "text": [
      "[VALID] Loss: 92.26981177314485\n",
      "\n"
     ]
    },
    {
     "name": "stderr",
     "output_type": "stream",
     "text": [
      "100%|██████████| 307/307 [00:02<00:00, 106.23it/s]\n"
     ]
    },
    {
     "name": "stdout",
     "output_type": "stream",
     "text": [
      "Epoch 17\n",
      "[TRAIN] Loss: 90.85300967347113\n"
     ]
    },
    {
     "name": "stderr",
     "output_type": "stream",
     "text": [
      "100%|██████████| 77/77 [00:00<00:00, 183.34it/s]\n"
     ]
    },
    {
     "name": "stdout",
     "output_type": "stream",
     "text": [
      "[VALID] Loss: 92.17168374325631\n",
      "\n"
     ]
    },
    {
     "name": "stderr",
     "output_type": "stream",
     "text": [
      "100%|██████████| 307/307 [00:02<00:00, 119.92it/s]\n"
     ]
    },
    {
     "name": "stdout",
     "output_type": "stream",
     "text": [
      "Epoch 18\n",
      "[TRAIN] Loss: 90.68046181112257\n"
     ]
    },
    {
     "name": "stderr",
     "output_type": "stream",
     "text": [
      "100%|██████████| 77/77 [00:00<00:00, 160.43it/s]\n"
     ]
    },
    {
     "name": "stdout",
     "output_type": "stream",
     "text": [
      "[VALID] Loss: 91.83411817519595\n",
      "\n"
     ]
    },
    {
     "name": "stderr",
     "output_type": "stream",
     "text": [
      "100%|██████████| 307/307 [00:02<00:00, 125.30it/s]\n"
     ]
    },
    {
     "name": "stdout",
     "output_type": "stream",
     "text": [
      "Epoch 19\n",
      "[TRAIN] Loss: 90.45532051350874\n"
     ]
    },
    {
     "name": "stderr",
     "output_type": "stream",
     "text": [
      "100%|██████████| 77/77 [00:00<00:00, 183.31it/s]\n"
     ]
    },
    {
     "name": "stdout",
     "output_type": "stream",
     "text": [
      "[VALID] Loss: 91.7094604293376\n",
      "\n"
     ]
    },
    {
     "name": "stderr",
     "output_type": "stream",
     "text": [
      "100%|██████████| 307/307 [00:02<00:00, 124.80it/s]\n"
     ]
    },
    {
     "name": "stdout",
     "output_type": "stream",
     "text": [
      "Epoch 20\n",
      "[TRAIN] Loss: 90.27012734231849\n"
     ]
    },
    {
     "name": "stderr",
     "output_type": "stream",
     "text": [
      "100%|██████████| 77/77 [00:00<00:00, 183.36it/s]"
     ]
    },
    {
     "name": "stdout",
     "output_type": "stream",
     "text": [
      "[VALID] Loss: 91.31622105700961\n",
      "\n"
     ]
    },
    {
     "name": "stderr",
     "output_type": "stream",
     "text": [
      "\n"
     ]
    }
   ],
   "source": [
    "device = 'cuda'\n",
    "latent_dim = 20  # Latent dimensionality\n",
    "input_dim = 784  # 28x28 images flattened\n",
    "model = VAE(input_dim,latent_dim).to(device)\n",
    "print(f\"Model: VAE\")\n",
    "model_parameters_amount = count_parameters(model)\n",
    "print(f\"model total parameters: {model_parameters_amount:,}\")\n",
    "\n",
    "criterion = nn.MSELoss()\n",
    "optimizer = optim.Adam(model.parameters(), lr=0.001)\n",
    "epochs = 20\n",
    "\n",
    "for epoch in range(epochs):\n",
    "    model.train()\n",
    "    correct, total = 0, 0\n",
    "    running_loss = 0.0\n",
    "    for images, _ in tqdm(dataloaders['train']):\n",
    "        images = images.to(device)\n",
    "        images = images.view(images.size(0), -1)\n",
    "\n",
    "        recon_batch, mu, logvar = model(images)\n",
    "        loss = vae_loss(recon_batch, images, mu, logvar)\n",
    "        \n",
    "        optimizer.zero_grad()\n",
    "        loss.backward()\n",
    "        optimizer.step()\n",
    "        \n",
    "        total += images.size(0)\n",
    "        running_loss += loss.item()\n",
    "\n",
    "\n",
    "    print(f'Epoch {epoch+1}\\n[TRAIN] Loss: {running_loss / total}')\n",
    "\n",
    "    model.eval()\n",
    "    correct, total = 0, 0\n",
    "    running_loss = 0.0\n",
    "    with torch.no_grad():\n",
    "        for images, _ in tqdm(dataloaders['val']):\n",
    "            images = images.to(device)\n",
    "            images = images.view(images.size(0), -1)\n",
    "            \n",
    "            recon_batch, mu, logvar = model(images)\n",
    "            loss = vae_loss(recon_batch, images, mu, logvar)\n",
    "            total += images.size(0)\n",
    "            running_loss += loss.item()\n",
    "\n",
    "    print(f'[VALID] Loss: {running_loss / total}\\n')\n",
    "model_scripted = torch.jit.script(model.cpu()) # Export to TorchScript\n",
    "model_scripted.save('model_VAE.pt') # Save"
   ]
  },
  {
   "cell_type": "markdown",
   "metadata": {},
   "source": [
    "### Result Visualization"
   ]
  },
  {
   "cell_type": "code",
   "execution_count": 15,
   "metadata": {},
   "outputs": [
    {
     "name": "stdout",
     "output_type": "stream",
     "text": [
      "torch.Size([64, 784])\n"
     ]
    },
    {
     "data": {
      "image/png": "[encoded data removed]",
      "text/plain": [
       "<Figure size 1000x400 with 2 Axes>"
      ]
     },
     "metadata": {},
     "output_type": "display_data"
    }
   ],
   "source": [
    "model = torch.jit.load(\"model_VAE.pt\").cuda()\n",
    "index = 4\n",
    "model.cuda()\n",
    "\n",
    "with torch.no_grad():\n",
    "    for images, _ in full_dataloaders['val']:\n",
    "        images = images.to(device)\n",
    "        images = images.view(images.size(0), -1)\n",
    "        \n",
    "        recon_batch, mu, logvar = model(images)\n",
    "        print(recon_batch.shape)\n",
    "        plot_two_tensors(images[index].cpu().view(28,28), recon_batch[index].cpu().view(28,28))\n",
    "        break\n"
   ]
  },
  {
   "cell_type": "markdown",
   "metadata": {},
   "source": [
    "### abnormal detection"
   ]
  },
  {
   "cell_type": "code",
   "execution_count": 44,
   "metadata": {},
   "outputs": [
    {
     "name": "stdout",
     "output_type": "stream",
     "text": [
      "Anomaly detection accuracy: 59.37% at threshold: 0.0009143076604232192\n",
      "Anomaly detection accuracy: 60.43% at threshold: 0.002594370508984644\n",
      "Anomaly detection accuracy: 64.54% at threshold: 0.0042744333575460685\n",
      "Anomaly detection accuracy: 68.88% at threshold: 0.005954496206107492\n",
      "Anomaly detection accuracy: 72.67% at threshold: 0.007634559054668917\n",
      "Anomaly detection accuracy: 76.78% at threshold: 0.009314621903230342\n",
      "Anomaly detection accuracy: 80.51% at threshold: 0.010994684751791765\n",
      "Anomaly detection accuracy: 83.61% at threshold: 0.012674747600353191\n",
      "Anomaly detection accuracy: 85.28% at threshold: 0.014354810448914615\n",
      "Anomaly detection accuracy: 85.38% at threshold: 0.01603487329747604\n",
      "Anomaly detection accuracy: 84.89% at threshold: 0.017714936146037464\n",
      "Anomaly detection accuracy: 83.08% at threshold: 0.01939499899459889\n",
      "Anomaly detection accuracy: 80.62% at threshold: 0.02107506184316031\n",
      "Anomaly detection accuracy: 77.17% at threshold: 0.022755124691721737\n",
      "Anomaly detection accuracy: 73.83% at threshold: 0.024435187540283163\n",
      "Anomaly detection accuracy: 69.74% at threshold: 0.026115250388844585\n",
      "Anomaly detection accuracy: 66.10% at threshold: 0.02779531323740601\n",
      "Anomaly detection accuracy: 62.16% at threshold: 0.029475376085967436\n",
      "Anomaly detection accuracy: 58.58% at threshold: 0.031155438934528858\n",
      "Anomaly detection accuracy: 55.77% at threshold: 0.03283550178309028\n",
      "Anomaly detection accuracy: 52.57% at threshold: 0.03451556463165171\n",
      "Anomaly detection accuracy: 50.18% at threshold: 0.036195627480213134\n",
      "Anomaly detection accuracy: 47.94% at threshold: 0.03787569032877456\n",
      "Anomaly detection accuracy: 46.22% at threshold: 0.03955575317733598\n",
      "Anomaly detection accuracy: 44.88% at threshold: 0.041235816025897404\n",
      "Anomaly detection accuracy: 43.78% at threshold: 0.04291587887445883\n",
      "Anomaly detection accuracy: 43.00% at threshold: 0.044595941723020255\n",
      "Anomaly detection accuracy: 42.30% at threshold: 0.04627600457158168\n",
      "Anomaly detection accuracy: 41.92% at threshold: 0.047956067420143106\n",
      "Anomaly detection accuracy: 41.42% at threshold: 0.049636130268704524\n",
      "Anomaly detection accuracy: 41.09% at threshold: 0.05131619311726595\n",
      "Anomaly detection accuracy: 41.03% at threshold: 0.052996255965827375\n",
      "Anomaly detection accuracy: 40.86% at threshold: 0.0546763188143888\n",
      "Anomaly detection accuracy: 40.77% at threshold: 0.056356381662950226\n",
      "Anomaly detection accuracy: 40.73% at threshold: 0.05803644451151165\n",
      "Anomaly detection accuracy: 40.73% at threshold: 0.05971650736007308\n",
      "Anomaly detection accuracy: 40.67% at threshold: 0.061396570208634496\n",
      "Anomaly detection accuracy: 40.68% at threshold: 0.06307663305719592\n",
      "Anomaly detection accuracy: 40.67% at threshold: 0.06475669590575735\n",
      "Anomaly detection accuracy: 40.66% at threshold: 0.06643675875431877\n",
      "Anomaly detection accuracy: 40.66% at threshold: 0.0681168216028802\n",
      "Anomaly detection accuracy: 40.65% at threshold: 0.06979688445144162\n",
      "Anomaly detection accuracy: 40.65% at threshold: 0.07147694730000305\n",
      "Anomaly detection accuracy: 40.65% at threshold: 0.07315701014856447\n",
      "Anomaly detection accuracy: 40.65% at threshold: 0.0748370729971259\n",
      "Anomaly detection accuracy: 40.65% at threshold: 0.07651713584568731\n",
      "Anomaly detection accuracy: 40.65% at threshold: 0.07819719869424874\n",
      "Anomaly detection accuracy: 40.65% at threshold: 0.07987726154281016\n",
      "Anomaly detection accuracy: 40.65% at threshold: 0.08155732439137159\n",
      "Anomaly detection accuracy: 40.65% at threshold: 0.08323738723993301\n",
      "Best anomaly detection accuracy: 85.38% at threshold: 0.01603487329747604\n"
     ]
    }
   ],
   "source": [
    "model = torch.jit.load(\"model_VAE.pt\").cuda()\n",
    "best_acc = 0\n",
    "best_anomaly_threshold = 0\n",
    "normal_labels = torch.tensor([1, 3, 5, 7], device=device)\n",
    "criterion = torch.nn.MSELoss(reduction='none')\n",
    "\n",
    "\n",
    "loss_min = 1\n",
    "loss_max = 0\n",
    "for images, labels in full_dataloaders['val']:\n",
    "    images = images.to(device)\n",
    "    labels = labels.to(device)\n",
    "    images = images.view(images.size(0), -1)\n",
    "\n",
    "    recon_batch, mu, logvar = model(images)\n",
    "\n",
    "    loss = criterion(recon_batch, images).mean(dim=1)  # Get per image loss\n",
    "    if loss.min() < loss_min:\n",
    "        loss_min = loss.min()\n",
    "    if loss.max() > loss_max:\n",
    "        loss_max = loss.max()\n",
    "\n",
    "thresholds = np.linspace(loss_min.cpu().detach().numpy(), loss_max.cpu().detach().numpy(), num=50)\n",
    "\n",
    "for anomaly_threshold in thresholds:\n",
    "    model.eval()\n",
    "    total, correct = 0, 0\n",
    "    losses = []\n",
    "    with torch.no_grad():\n",
    "        for images, labels in full_dataloaders['val']:\n",
    "            images = images.to(device)\n",
    "            labels = labels.to(device)\n",
    "            images = images.view(images.size(0), -1)\n",
    "\n",
    "            recon_batch, mu, logvar = model(images)\n",
    "            # Calculate loss per image (mean across each image's feature dimension)\n",
    "            loss = criterion(recon_batch, images).mean(dim=1)  # Get per image loss\n",
    "            # loss = vae_loss(recon_batch, images, mu, logvar)\n",
    "            anomaly_mask = loss > anomaly_threshold\n",
    "\n",
    "            is_normal = torch.isin(labels, normal_labels)\n",
    "\n",
    "            correct_preds = (~is_normal & anomaly_mask) | (is_normal & ~anomaly_mask)\n",
    "            correct += correct_preds.sum().item()\n",
    "            total += labels.size(0)\n",
    "\n",
    "        accuracy = 100 * correct / total\n",
    "        if accuracy > best_acc:\n",
    "            best_acc = accuracy\n",
    "            best_anomaly_threshold = anomaly_threshold\n",
    "        print(f'Anomaly detection accuracy: {accuracy:.2f}% at threshold: {anomaly_threshold}')\n",
    "\n",
    "print(f'Best anomaly detection accuracy: {best_acc:.2f}% at threshold: {best_anomaly_threshold}')\n"
   ]
  },
  {
   "cell_type": "markdown",
   "metadata": {},
   "source": [
    "## 5. Isolated Forrest"
   ]
  },
  {
   "cell_type": "markdown",
   "metadata": {},
   "source": [
    "### Convert Pytorch dataset to sklearn dataset"
   ]
  },
  {
   "cell_type": "code",
   "execution_count": 10,
   "metadata": {},
   "outputs": [
    {
     "name": "stdout",
     "output_type": "stream",
     "text": [
      "(60000, 784)\n"
     ]
    }
   ],
   "source": [
    "X = full_dataset.data.numpy().reshape(len(full_dataset), -1)\n",
    "y = full_dataset.targets.numpy()\n",
    "print(X.shape)"
   ]
  },
  {
   "cell_type": "code",
   "execution_count": 11,
   "metadata": {},
   "outputs": [],
   "source": [
    "from sklearn.model_selection import train_test_split\n",
    "X_train, X_temp, y_train, y_temp = train_test_split(X , y, test_size=0.2, random_state=42)\n",
    "X_val, X_test, y_val, y_test = train_test_split(X_temp, y_temp, test_size=0.5, random_state=42)  # 0.1111 * 0.9 = 0.1\n"
   ]
  },
  {
   "cell_type": "code",
   "execution_count": 12,
   "metadata": {},
   "outputs": [
    {
     "name": "stdout",
     "output_type": "stream",
     "text": [
      "------------\n",
      "Train dataset shape\n",
      "(48000, 784)\n",
      "(48000,)\n",
      "------------\n",
      "Val dataset shape\n",
      "(6000, 784)\n",
      "(6000,)\n",
      "------------\n",
      "Test dataset shape\n",
      "(6000, 784)\n",
      "(6000,)\n"
     ]
    }
   ],
   "source": [
    "print(\"------------\")\n",
    "print(\"Train dataset shape\")\n",
    "print(X_train.shape)\n",
    "print(y_train.shape)\n",
    "\n",
    "\n",
    "print(\"------------\")\n",
    "print(\"Val dataset shape\")\n",
    "print(X_val.shape)\n",
    "print(y_val.shape)\n",
    "\n",
    "\n",
    "print(\"------------\")\n",
    "print(\"Test dataset shape\")\n",
    "print(X_test.shape)\n",
    "print(y_test.shape)"
   ]
  },
  {
   "cell_type": "markdown",
   "metadata": {},
   "source": [
    "### Train isolated forest"
   ]
  },
  {
   "cell_type": "code",
   "execution_count": 81,
   "metadata": {},
   "outputs": [
    {
     "name": "stdout",
     "output_type": "stream",
     "text": [
      "------------------\n",
      "Total number of data: 60000\n",
      "Total number of normal data: 24559\n",
      "Total number of abnormal data: 35441\n",
      "------------------\n",
      "Number of abnormalities detected: 37140\n",
      "Number of normalities detected: 22860\n",
      "accuracy: 70.085 %\n"
     ]
    }
   ],
   "source": [
    "X_full = full_dataset.data.numpy().reshape(len(full_dataset), -1)  # Flatten the images\n",
    "y_full = full_dataset.targets.numpy()\n",
    "\n",
    "# Filter the dataset to only have digits 1, 3, 5, 7\n",
    "target_digits = [1, 3, 5, 7]\n",
    "mask = np.isin(y_full, target_digits)\n",
    "X_train_mask = X_full[mask]\n",
    "y_train_mask = y_full[mask]\n",
    "\n",
    "# Train Isolation Forest on digits 1, 3, 5, 7\n",
    "clf = IsolationForest(n_estimators=100, max_samples='auto', contamination=0.4, random_state=42)\n",
    "clf.fit(X_train_mask)\n",
    "\n",
    "# Use the trained model to predict over the full dataset\n",
    "y_pred = clf.predict(X_full)\n",
    "\n",
    "print(\"------------------\")\n",
    "print(f\"Total number of data: {len(y_full)}\")\n",
    "print(f\"Total number of normal data: {len(y_train_mask)}\")\n",
    "print(f\"Total number of abnormal data: {len(y_full) - len(y_train_mask)}\")\n",
    "print(\"------------------\")\n",
    "abnormal_indices = np.where(y_pred == -1)[0]\n",
    "normal_indices = np.where(y_pred == 1)[0]\n",
    "print(\"Number of abnormalities detected:\", len(abnormal_indices))\n",
    "print(\"Number of normalities detected:\", len(normal_indices))\n",
    "\n",
    "abnormal_digits = y_full[abnormal_indices]\n",
    "normal_digits = y_full[normal_indices]\n",
    "\n",
    "# You might want to check how many of the abnormal detections are actually from digits other than 1, 3, 5, 7\n",
    "actual_abnormals = np.isin(abnormal_digits, target_digits, invert=True)\n",
    "actual_normals = np.isin(normal_digits, target_digits)\n",
    "# print(np.sum(actual_abnormals))\n",
    "# print(np.sum(actual_normals))\n",
    "print(f\"accuracy: {(np.sum(actual_abnormals) + np.sum(actual_normals)) * 100 / len(y_full)} %\")\n"
   ]
  },
  {
   "cell_type": "markdown",
   "metadata": {},
   "source": [
    "### abnormal detection"
   ]
  },
  {
   "cell_type": "code",
   "execution_count": 82,
   "metadata": {},
   "outputs": [
    {
     "name": "stdout",
     "output_type": "stream",
     "text": [
      "------------------\n",
      "Threshold: -0.247 --> Detected abnormalities: 0, Detected normals: 60000, Accuracy: 40.93%\n",
      "Threshold: -0.240 --> Detected abnormalities: 1, Detected normals: 59999, Accuracy: 40.93%\n",
      "Threshold: -0.233 --> Detected abnormalities: 2, Detected normals: 59998, Accuracy: 40.94%\n",
      "Threshold: -0.226 --> Detected abnormalities: 3, Detected normals: 59997, Accuracy: 40.94%\n",
      "Threshold: -0.219 --> Detected abnormalities: 4, Detected normals: 59996, Accuracy: 40.94%\n",
      "Threshold: -0.212 --> Detected abnormalities: 12, Detected normals: 59988, Accuracy: 40.95%\n",
      "Threshold: -0.205 --> Detected abnormalities: 22, Detected normals: 59978, Accuracy: 40.97%\n",
      "Threshold: -0.198 --> Detected abnormalities: 44, Detected normals: 59956, Accuracy: 41.01%\n",
      "Threshold: -0.191 --> Detected abnormalities: 92, Detected normals: 59908, Accuracy: 41.08%\n",
      "Threshold: -0.184 --> Detected abnormalities: 154, Detected normals: 59846, Accuracy: 41.18%\n",
      "Threshold: -0.177 --> Detected abnormalities: 259, Detected normals: 59741, Accuracy: 41.36%\n",
      "Threshold: -0.170 --> Detected abnormalities: 401, Detected normals: 59599, Accuracy: 41.58%\n",
      "Threshold: -0.163 --> Detected abnormalities: 579, Detected normals: 59421, Accuracy: 41.87%\n",
      "Threshold: -0.156 --> Detected abnormalities: 843, Detected normals: 59157, Accuracy: 42.28%\n",
      "Threshold: -0.149 --> Detected abnormalities: 1169, Detected normals: 58831, Accuracy: 42.79%\n",
      "Threshold: -0.142 --> Detected abnormalities: 1578, Detected normals: 58422, Accuracy: 43.41%\n",
      "Threshold: -0.135 --> Detected abnormalities: 2156, Detected normals: 57844, Accuracy: 44.28%\n",
      "Threshold: -0.128 --> Detected abnormalities: 2821, Detected normals: 57179, Accuracy: 45.26%\n",
      "Threshold: -0.122 --> Detected abnormalities: 3572, Detected normals: 56428, Accuracy: 46.34%\n",
      "Threshold: -0.115 --> Detected abnormalities: 4418, Detected normals: 55582, Accuracy: 47.52%\n",
      "Threshold: -0.108 --> Detected abnormalities: 5428, Detected normals: 54572, Accuracy: 48.92%\n",
      "Threshold: -0.101 --> Detected abnormalities: 6567, Detected normals: 53433, Accuracy: 50.41%\n",
      "Threshold: -0.094 --> Detected abnormalities: 7792, Detected normals: 52208, Accuracy: 51.92%\n",
      "Threshold: -0.087 --> Detected abnormalities: 9131, Detected normals: 50869, Accuracy: 53.58%\n",
      "Threshold: -0.080 --> Detected abnormalities: 10618, Detected normals: 49382, Accuracy: 55.21%\n",
      "Threshold: -0.073 --> Detected abnormalities: 12228, Detected normals: 47772, Accuracy: 56.92%\n",
      "Threshold: -0.066 --> Detected abnormalities: 13911, Detected normals: 46089, Accuracy: 58.45%\n",
      "Threshold: -0.059 --> Detected abnormalities: 15783, Detected normals: 44217, Accuracy: 60.20%\n",
      "Threshold: -0.052 --> Detected abnormalities: 17783, Detected normals: 42217, Accuracy: 61.68%\n",
      "Threshold: -0.045 --> Detected abnormalities: 19976, Detected normals: 40024, Accuracy: 63.31%\n",
      "Threshold: -0.038 --> Detected abnormalities: 22265, Detected normals: 37735, Accuracy: 64.72%\n",
      "Threshold: -0.031 --> Detected abnormalities: 24681, Detected normals: 35319, Accuracy: 66.12%\n",
      "Threshold: -0.024 --> Detected abnormalities: 27328, Detected normals: 32672, Accuracy: 67.33%\n",
      "Threshold: -0.017 --> Detected abnormalities: 30090, Detected normals: 29910, Accuracy: 68.29%\n",
      "Threshold: -0.010 --> Detected abnormalities: 32938, Detected normals: 27062, Accuracy: 69.16%\n",
      "Threshold: -0.003 --> Detected abnormalities: 35843, Detected normals: 24157, Accuracy: 69.79%\n",
      "Threshold: 0.004 --> Detected abnormalities: 38716, Detected normals: 21284, Accuracy: 70.23%\n",
      "Threshold: 0.011 --> Detected abnormalities: 41549, Detected normals: 18451, Accuracy: 70.59%\n",
      "Threshold: 0.018 --> Detected abnormalities: 44276, Detected normals: 15724, Accuracy: 70.69%\n",
      "Threshold: 0.025 --> Detected abnormalities: 46742, Detected normals: 13258, Accuracy: 70.50%\n",
      "Threshold: 0.032 --> Detected abnormalities: 48914, Detected normals: 11086, Accuracy: 70.04%\n",
      "Threshold: 0.039 --> Detected abnormalities: 50848, Detected normals: 9152, Accuracy: 69.56%\n",
      "Threshold: 0.046 --> Detected abnormalities: 52468, Detected normals: 7532, Accuracy: 68.90%\n",
      "Threshold: 0.053 --> Detected abnormalities: 53733, Detected normals: 6267, Accuracy: 68.12%\n",
      "Threshold: 0.060 --> Detected abnormalities: 54769, Detected normals: 5231, Accuracy: 67.18%\n",
      "Threshold: 0.066 --> Detected abnormalities: 55732, Detected normals: 4268, Accuracy: 65.97%\n",
      "Threshold: 0.073 --> Detected abnormalities: 56744, Detected normals: 3256, Accuracy: 64.46%\n",
      "Threshold: 0.080 --> Detected abnormalities: 58120, Detected normals: 1880, Accuracy: 62.19%\n",
      "Threshold: 0.087 --> Detected abnormalities: 59557, Detected normals: 443, Accuracy: 59.81%\n",
      "Threshold: 0.094 --> Detected abnormalities: 59999, Detected normals: 1, Accuracy: 59.07%\n",
      "The best threshold: 0.01775462811612255, with Accuracy: 70.685%\n"
     ]
    }
   ],
   "source": [
    "# Obtain anomaly scores (the lower, the more abnormal)\n",
    "scores = clf.decision_function(X_full)\n",
    "\n",
    "# Define a range of thresholds from the anomaly scores to classify as normal or abnormal\n",
    "thresholds = np.linspace(scores.min(), scores.max(), num=50)\n",
    "print(\"------------------\")\n",
    "best_acc = 0 \n",
    "best_threshold = 0\n",
    "# Evaluate accuracy at each threshold\n",
    "for threshold in thresholds:\n",
    "    y_pred = np.where(scores < threshold, -1, 1)\n",
    "\n",
    "    abnormal_indices = np.where(y_pred == -1)[0]\n",
    "    normal_indices = np.where(y_pred == 1)[0]\n",
    "\n",
    "    abnormal_digits = y_full[abnormal_indices]\n",
    "    normal_digits = y_full[normal_indices]\n",
    "\n",
    "    # Check how many detected abnormalities are actual abnormalities\n",
    "    actual_abnormals = np.isin(abnormal_digits, target_digits, invert=True)\n",
    "    actual_normals = np.isin(normal_digits, target_digits)\n",
    "\n",
    "    accuracy = (np.sum(actual_abnormals) + np.sum(actual_normals)) / len(y_full) * 100\n",
    "    if accuracy > best_acc:\n",
    "        best_acc = accuracy\n",
    "        best_threshold = threshold\n",
    "    print(f\"Threshold: {threshold:.3f} --> Detected abnormalities: {len(abnormal_indices)}, Detected normals: {len(normal_indices)}, Accuracy: {accuracy:.2f}%\")\n",
    "print(f\"The best threshold: {best_threshold}, with Accuracy: {best_acc}%\")"
   ]
  },
  {
   "cell_type": "markdown",
   "metadata": {},
   "source": [
    "## 6. Isolated Forrest with pre-trained feature extractor."
   ]
  },
  {
   "cell_type": "code",
   "execution_count": 34,
   "metadata": {},
   "outputs": [],
   "source": [
    "def fit_with_clf(features, y_full):\n",
    "    X_full = features  # Flatten the images\n",
    "\n",
    "    target_digits = [1, 3, 5, 7]\n",
    "    mask = np.isin(y_full, target_digits)\n",
    "    X_train_mask = X_full[mask]\n",
    "    y_train_mask = y_full[mask]\n",
    "\n",
    "    # Train Isolation Forest on digits 1, 3, 5, 7\n",
    "    clf = IsolationForest(n_estimators=100, max_samples='auto', contamination=0.5, random_state=42)\n",
    "    clf.fit(X_train_mask)\n",
    "\n",
    "    # Use the trained model to predict over the full dataset\n",
    "    y_pred = clf.predict(X_full)\n",
    "\n",
    "    print(\"------------------\")\n",
    "    print(f\"Total number of data: {len(y_full)}\")\n",
    "    print(f\"Total number of normal data: {len(y_train_mask)}\")\n",
    "    print(f\"Total number of abnormal data: {len(y_full) - len(y_train_mask)}\")\n",
    "    print(\"------------------\")\n",
    "    abnormal_indices = np.where(y_pred == -1)[0]\n",
    "    normal_indices = np.where(y_pred == 1)[0]\n",
    "    print(\"Number of abnormalities detected:\", len(abnormal_indices))\n",
    "    print(\"Number of normalities detected:\", len(normal_indices))\n",
    "\n",
    "    abnormal_digits = y_full[abnormal_indices]\n",
    "    normal_digits = y_full[normal_indices]\n",
    "\n",
    "    # You might want to check how many of the abnormal detections are actually from digits other than 1, 3, 5, 7\n",
    "    actual_abnormals = np.isin(abnormal_digits, target_digits, invert=True)\n",
    "    actual_normals = np.isin(normal_digits, target_digits)\n",
    "    # print(np.sum(actual_abnormals))\n",
    "    # print(np.sum(actual_normals))\n",
    "    print(f\"accuracy: {(np.sum(actual_abnormals) + np.sum(actual_normals)) * 100 / len(y_full)} %\")"
   ]
  },
  {
   "cell_type": "code",
   "execution_count": 72,
   "metadata": {},
   "outputs": [],
   "source": [
    "def fit_with_different_th(features, y_full):\n",
    "    X_full = features\n",
    "    target_digits = [1, 3, 5, 7]\n",
    "    mask = np.isin(y_full, target_digits)\n",
    "    X_train_mask = X_full[mask]\n",
    "    # y_train_mask = y_full[mask]\n",
    "\n",
    "    clf = IsolationForest(n_estimators=100, max_samples='auto', contamination=0.4, random_state=42)\n",
    "    clf.fit(X_train_mask)\n",
    "    # Obtain anomaly scores (the lower, the more abnormal)\n",
    "    scores = clf.decision_function(X_full)\n",
    "\n",
    "    # Define a range of thresholds from the anomaly scores to classify as normal or abnormal\n",
    "    thresholds = np.linspace(scores.min(), scores.max(), num=50)\n",
    "    print(\"------------------\")\n",
    "    best_acc = 0 \n",
    "    best_threshold = 0\n",
    "    # Evaluate accuracy at each threshold\n",
    "    for threshold in thresholds:\n",
    "        y_pred = np.where(scores < threshold, -1, 1)\n",
    "\n",
    "        abnormal_indices = np.where(y_pred == -1)[0]\n",
    "        normal_indices = np.where(y_pred == 1)[0]\n",
    "\n",
    "        abnormal_digits = y_full[abnormal_indices]\n",
    "        normal_digits = y_full[normal_indices]\n",
    "\n",
    "        # Check how many detected abnormalities are actual abnormalities\n",
    "        actual_abnormals = np.isin(abnormal_digits, target_digits, invert=True)\n",
    "        actual_normals = np.isin(normal_digits, target_digits)\n",
    "\n",
    "        accuracy = (np.sum(actual_abnormals) + np.sum(actual_normals)) / len(y_full) * 100\n",
    "        if accuracy > best_acc:\n",
    "            best_acc = accuracy\n",
    "            best_threshold = threshold\n",
    "        print(f\"Threshold: {threshold:.3f} --> Detected abnormalities: {len(abnormal_indices)}, Detected normals: {len(normal_indices)}, Accuracy: {accuracy:.2f}%\")\n",
    "    print(f\"The best threshold: {best_threshold}, with Accuracy: {best_acc}%\")"
   ]
  },
  {
   "cell_type": "markdown",
   "metadata": {},
   "source": [
    "### Image classifier as feature extractor"
   ]
  },
  {
   "cell_type": "code",
   "execution_count": 73,
   "metadata": {},
   "outputs": [
    {
     "name": "stdout",
     "output_type": "stream",
     "text": [
      "Model: DigitClassifier\n",
      "model total parameters: 205,632\n"
     ]
    },
    {
     "name": "stderr",
     "output_type": "stream",
     "text": [
      "  4%|▍         | 32/750 [00:00<00:04, 151.11it/s]"
     ]
    },
    {
     "name": "stderr",
     "output_type": "stream",
     "text": [
      "100%|██████████| 750/750 [00:04<00:00, 179.42it/s]\n",
      "100%|██████████| 188/188 [00:01<00:00, 164.98it/s]\n",
      "0it [00:00, ?it/s]"
     ]
    },
    {
     "name": "stdout",
     "output_type": "stream",
     "text": [
      "(60000, 128)\n",
      "(60000,)\n"
     ]
    },
    {
     "name": "stderr",
     "output_type": "stream",
     "text": [
      "\n"
     ]
    }
   ],
   "source": [
    "device = torch.device('cuda' if torch.cuda.is_available() else 'cpu')\n",
    "model = torch.jit.load('model_image_classifier.pt')\n",
    "model = DigitClassifier().to(device)\n",
    "model.load_state_dict(model.state_dict())\n",
    "model = model.cuda()\n",
    "model.fc = nn.Identity()\n",
    "print(f\"Model: DigitClassifier\")\n",
    "model_parameters_amount = count_parameters(model)\n",
    "print(f\"model total parameters: {model_parameters_amount:,}\")\n",
    "\n",
    "model.eval()\n",
    "features = []\n",
    "forest_labels = []\n",
    "with torch.no_grad():\n",
    "    for phase in ['train', 'val', 'test']:\n",
    "        for images, labels in tqdm(full_dataloaders[phase]):\n",
    "            # labels = transform_labels(labels)\n",
    "            images, labels = images.to(device), labels.to(device)\n",
    "            outputs = model(images)\n",
    "            features.append(outputs.cpu().numpy())\n",
    "            forest_labels.append(labels.cpu().numpy())\n",
    "            # print(outputs[1])\n",
    "            # break\n",
    "features = np.concatenate(features, axis=0)\n",
    "forest_labels = np.concatenate(forest_labels, axis=0)\n",
    "\n",
    "print(features.shape)\n",
    "print(forest_labels.shape)"
   ]
  },
  {
   "cell_type": "code",
   "execution_count": 74,
   "metadata": {},
   "outputs": [
    {
     "name": "stdout",
     "output_type": "stream",
     "text": [
      "------------------\n",
      "Total number of data: 60000\n",
      "Total number of normal data: 24559\n",
      "Total number of abnormal data: 35441\n",
      "------------------\n",
      "Number of abnormalities detected: 42059\n",
      "Number of normalities detected: 17941\n",
      "accuracy: 70.1 %\n",
      "------------------\n",
      "Threshold: -0.155 --> Detected abnormalities: 0, Detected normals: 60000, Accuracy: 40.93%\n",
      "Threshold: -0.151 --> Detected abnormalities: 2, Detected normals: 59998, Accuracy: 40.94%\n",
      "Threshold: -0.147 --> Detected abnormalities: 5, Detected normals: 59995, Accuracy: 40.94%\n",
      "Threshold: -0.142 --> Detected abnormalities: 9, Detected normals: 59991, Accuracy: 40.95%\n",
      "Threshold: -0.138 --> Detected abnormalities: 16, Detected normals: 59984, Accuracy: 40.96%\n",
      "Threshold: -0.134 --> Detected abnormalities: 30, Detected normals: 59970, Accuracy: 40.98%\n",
      "Threshold: -0.129 --> Detected abnormalities: 55, Detected normals: 59945, Accuracy: 41.02%\n",
      "Threshold: -0.125 --> Detected abnormalities: 95, Detected normals: 59905, Accuracy: 41.09%\n",
      "Threshold: -0.121 --> Detected abnormalities: 147, Detected normals: 59853, Accuracy: 41.17%\n",
      "Threshold: -0.116 --> Detected abnormalities: 230, Detected normals: 59770, Accuracy: 41.31%\n",
      "Threshold: -0.112 --> Detected abnormalities: 348, Detected normals: 59652, Accuracy: 41.50%\n",
      "Threshold: -0.107 --> Detected abnormalities: 495, Detected normals: 59505, Accuracy: 41.74%\n",
      "Threshold: -0.103 --> Detected abnormalities: 691, Detected normals: 59309, Accuracy: 42.05%\n",
      "Threshold: -0.099 --> Detected abnormalities: 954, Detected normals: 59046, Accuracy: 42.47%\n",
      "Threshold: -0.094 --> Detected abnormalities: 1267, Detected normals: 58733, Accuracy: 42.95%\n",
      "Threshold: -0.090 --> Detected abnormalities: 1674, Detected normals: 58326, Accuracy: 43.55%\n",
      "Threshold: -0.086 --> Detected abnormalities: 2153, Detected normals: 57847, Accuracy: 44.26%\n",
      "Threshold: -0.081 --> Detected abnormalities: 2790, Detected normals: 57210, Accuracy: 45.21%\n",
      "Threshold: -0.077 --> Detected abnormalities: 3490, Detected normals: 56510, Accuracy: 46.20%\n",
      "Threshold: -0.073 --> Detected abnormalities: 4316, Detected normals: 55684, Accuracy: 47.39%\n",
      "Threshold: -0.068 --> Detected abnormalities: 5265, Detected normals: 54735, Accuracy: 48.70%\n",
      "Threshold: -0.064 --> Detected abnormalities: 6235, Detected normals: 53765, Accuracy: 50.01%\n",
      "Threshold: -0.060 --> Detected abnormalities: 7415, Detected normals: 52585, Accuracy: 51.65%\n",
      "Threshold: -0.055 --> Detected abnormalities: 8697, Detected normals: 51303, Accuracy: 53.24%\n",
      "Threshold: -0.051 --> Detected abnormalities: 10049, Detected normals: 49951, Accuracy: 54.83%\n",
      "Threshold: -0.046 --> Detected abnormalities: 11537, Detected normals: 48463, Accuracy: 56.54%\n",
      "Threshold: -0.042 --> Detected abnormalities: 13271, Detected normals: 46729, Accuracy: 58.33%\n",
      "Threshold: -0.038 --> Detected abnormalities: 15148, Detected normals: 44852, Accuracy: 60.13%\n",
      "Threshold: -0.033 --> Detected abnormalities: 17153, Detected normals: 42847, Accuracy: 62.09%\n",
      "Threshold: -0.029 --> Detected abnormalities: 19391, Detected normals: 40609, Accuracy: 64.04%\n",
      "Threshold: -0.025 --> Detected abnormalities: 21683, Detected normals: 38317, Accuracy: 65.61%\n",
      "Threshold: -0.020 --> Detected abnormalities: 24229, Detected normals: 35771, Accuracy: 67.19%\n",
      "Threshold: -0.016 --> Detected abnormalities: 26843, Detected normals: 33157, Accuracy: 68.57%\n",
      "Threshold: -0.012 --> Detected abnormalities: 29576, Detected normals: 30424, Accuracy: 69.47%\n",
      "Threshold: -0.007 --> Detected abnormalities: 32397, Detected normals: 27603, Accuracy: 70.26%\n",
      "Threshold: -0.003 --> Detected abnormalities: 35413, Detected normals: 24587, Accuracy: 70.56%\n",
      "Threshold: 0.001 --> Detected abnormalities: 38534, Detected normals: 21466, Accuracy: 70.61%\n",
      "Threshold: 0.006 --> Detected abnormalities: 41705, Detected normals: 18295, Accuracy: 70.17%\n",
      "Threshold: 0.010 --> Detected abnormalities: 44979, Detected normals: 15021, Accuracy: 69.09%\n",
      "Threshold: 0.015 --> Detected abnormalities: 48065, Detected normals: 11935, Accuracy: 67.75%\n",
      "Threshold: 0.019 --> Detected abnormalities: 51099, Detected normals: 8901, Accuracy: 65.88%\n",
      "Threshold: 0.023 --> Detected abnormalities: 53656, Detected normals: 6344, Accuracy: 64.28%\n",
      "Threshold: 0.028 --> Detected abnormalities: 55715, Detected normals: 4285, Accuracy: 62.79%\n",
      "Threshold: 0.032 --> Detected abnormalities: 57378, Detected normals: 2622, Accuracy: 61.42%\n",
      "Threshold: 0.036 --> Detected abnormalities: 58583, Detected normals: 1417, Accuracy: 60.37%\n",
      "Threshold: 0.041 --> Detected abnormalities: 59347, Detected normals: 653, Accuracy: 59.65%\n",
      "Threshold: 0.045 --> Detected abnormalities: 59756, Detected normals: 244, Accuracy: 59.29%\n",
      "Threshold: 0.049 --> Detected abnormalities: 59933, Detected normals: 67, Accuracy: 59.13%\n",
      "Threshold: 0.054 --> Detected abnormalities: 59987, Detected normals: 13, Accuracy: 59.06%\n",
      "Threshold: 0.058 --> Detected abnormalities: 59999, Detected normals: 1, Accuracy: 59.07%\n",
      "The best threshold: 0.0014598495864815986, with Accuracy: 70.61166666666666%\n"
     ]
    }
   ],
   "source": [
    "fit_with_clf(features, forest_labels)\n",
    "fit_with_different_th(features, forest_labels)"
   ]
  },
  {
   "cell_type": "markdown",
   "metadata": {},
   "source": [
    "### Normal autoencoder as feature extractor"
   ]
  },
  {
   "cell_type": "code",
   "execution_count": 75,
   "metadata": {},
   "outputs": [
    {
     "name": "stdout",
     "output_type": "stream",
     "text": [
      "Model: Autoencoder\n",
      "model total parameters: 109,516\n"
     ]
    },
    {
     "name": "stderr",
     "output_type": "stream",
     "text": [
      "  4%|▍         | 31/750 [00:00<00:02, 281.82it/s]"
     ]
    },
    {
     "name": "stderr",
     "output_type": "stream",
     "text": [
      "100%|██████████| 750/750 [00:03<00:00, 193.80it/s]\n",
      "100%|██████████| 188/188 [00:00<00:00, 241.03it/s]\n",
      "0it [00:00, ?it/s]"
     ]
    },
    {
     "name": "stdout",
     "output_type": "stream",
     "text": [
      "(60000, 12)\n"
     ]
    },
    {
     "name": "stderr",
     "output_type": "stream",
     "text": [
      "\n"
     ]
    }
   ],
   "source": [
    "device = torch.device('cuda' if torch.cuda.is_available() else 'cpu')\n",
    "model = torch.jit.load('model_AE.pt')\n",
    "model = Autoencoder().to(device)\n",
    "model.load_state_dict(model.state_dict())\n",
    "model = model.cuda()\n",
    "model.decoder = nn.Identity()\n",
    "print(f\"Model: Autoencoder\")\n",
    "model_parameters_amount = count_parameters(model)\n",
    "print(f\"model total parameters: {model_parameters_amount:,}\")\n",
    "\n",
    "model.eval()\n",
    "features = []\n",
    "forest_labels = []\n",
    "with torch.no_grad():\n",
    "    for phase in ['train', 'val', 'test']:\n",
    "        for images, labels in tqdm(full_dataloaders[phase]):\n",
    "            images = images.view(images.size(0), -1)\n",
    "            images, labels = images.to(device), labels.to(device)\n",
    "            outputs = model(images)\n",
    "            features.append(outputs.cpu().numpy())\n",
    "            forest_labels.append(labels.cpu().numpy())\n",
    "features = np.concatenate(features, axis=0)\n",
    "forest_labels = np.concatenate(forest_labels, axis=0)\n",
    "print(features.shape)\n"
   ]
  },
  {
   "cell_type": "code",
   "execution_count": 76,
   "metadata": {},
   "outputs": [
    {
     "name": "stdout",
     "output_type": "stream",
     "text": [
      "------------------\n",
      "Total number of data: 60000\n",
      "Total number of normal data: 24559\n",
      "Total number of abnormal data: 35441\n",
      "------------------\n",
      "Number of abnormalities detected: 34817\n",
      "Number of normalities detected: 25183\n",
      "accuracy: 58.03 %\n",
      "------------------\n",
      "Threshold: -0.225 --> Detected abnormalities: 0, Detected normals: 60000, Accuracy: 40.93%\n",
      "Threshold: -0.219 --> Detected abnormalities: 1, Detected normals: 59999, Accuracy: 40.93%\n",
      "Threshold: -0.213 --> Detected abnormalities: 1, Detected normals: 59999, Accuracy: 40.93%\n",
      "Threshold: -0.207 --> Detected abnormalities: 1, Detected normals: 59999, Accuracy: 40.93%\n",
      "Threshold: -0.200 --> Detected abnormalities: 5, Detected normals: 59995, Accuracy: 40.94%\n",
      "Threshold: -0.194 --> Detected abnormalities: 6, Detected normals: 59994, Accuracy: 40.94%\n",
      "Threshold: -0.188 --> Detected abnormalities: 6, Detected normals: 59994, Accuracy: 40.94%\n",
      "Threshold: -0.182 --> Detected abnormalities: 12, Detected normals: 59988, Accuracy: 40.95%\n",
      "Threshold: -0.175 --> Detected abnormalities: 14, Detected normals: 59986, Accuracy: 40.95%\n",
      "Threshold: -0.169 --> Detected abnormalities: 23, Detected normals: 59977, Accuracy: 40.95%\n",
      "Threshold: -0.163 --> Detected abnormalities: 37, Detected normals: 59963, Accuracy: 40.97%\n",
      "Threshold: -0.157 --> Detected abnormalities: 56, Detected normals: 59944, Accuracy: 40.99%\n",
      "Threshold: -0.150 --> Detected abnormalities: 82, Detected normals: 59918, Accuracy: 41.01%\n",
      "Threshold: -0.144 --> Detected abnormalities: 127, Detected normals: 59873, Accuracy: 41.06%\n",
      "Threshold: -0.138 --> Detected abnormalities: 197, Detected normals: 59803, Accuracy: 41.15%\n",
      "Threshold: -0.132 --> Detected abnormalities: 288, Detected normals: 59712, Accuracy: 41.24%\n",
      "Threshold: -0.125 --> Detected abnormalities: 408, Detected normals: 59592, Accuracy: 41.37%\n",
      "Threshold: -0.119 --> Detected abnormalities: 594, Detected normals: 59406, Accuracy: 41.57%\n",
      "Threshold: -0.113 --> Detected abnormalities: 811, Detected normals: 59189, Accuracy: 41.78%\n",
      "Threshold: -0.107 --> Detected abnormalities: 1111, Detected normals: 58889, Accuracy: 42.05%\n",
      "Threshold: -0.100 --> Detected abnormalities: 1464, Detected normals: 58536, Accuracy: 42.45%\n",
      "Threshold: -0.094 --> Detected abnormalities: 1923, Detected normals: 58077, Accuracy: 42.88%\n",
      "Threshold: -0.088 --> Detected abnormalities: 2491, Detected normals: 57509, Accuracy: 43.40%\n",
      "Threshold: -0.082 --> Detected abnormalities: 3132, Detected normals: 56868, Accuracy: 44.04%\n",
      "Threshold: -0.075 --> Detected abnormalities: 3875, Detected normals: 56125, Accuracy: 44.63%\n",
      "Threshold: -0.069 --> Detected abnormalities: 4840, Detected normals: 55160, Accuracy: 45.42%\n",
      "Threshold: -0.063 --> Detected abnormalities: 5971, Detected normals: 54029, Accuracy: 46.40%\n",
      "Threshold: -0.057 --> Detected abnormalities: 7274, Detected normals: 52726, Accuracy: 47.26%\n",
      "Threshold: -0.050 --> Detected abnormalities: 8715, Detected normals: 51285, Accuracy: 48.34%\n",
      "Threshold: -0.044 --> Detected abnormalities: 10395, Detected normals: 49605, Accuracy: 49.45%\n",
      "Threshold: -0.038 --> Detected abnormalities: 12350, Detected normals: 47650, Accuracy: 50.59%\n",
      "Threshold: -0.032 --> Detected abnormalities: 14519, Detected normals: 45481, Accuracy: 51.83%\n",
      "Threshold: -0.026 --> Detected abnormalities: 16852, Detected normals: 43148, Accuracy: 52.89%\n",
      "Threshold: -0.019 --> Detected abnormalities: 19428, Detected normals: 40572, Accuracy: 53.92%\n",
      "Threshold: -0.013 --> Detected abnormalities: 22308, Detected normals: 37692, Accuracy: 54.82%\n",
      "Threshold: -0.007 --> Detected abnormalities: 25456, Detected normals: 34544, Accuracy: 55.71%\n",
      "Threshold: -0.001 --> Detected abnormalities: 28871, Detected normals: 31129, Accuracy: 56.76%\n",
      "Threshold: 0.006 --> Detected abnormalities: 32403, Detected normals: 27597, Accuracy: 57.61%\n",
      "Threshold: 0.012 --> Detected abnormalities: 36122, Detected normals: 23878, Accuracy: 58.13%\n",
      "Threshold: 0.018 --> Detected abnormalities: 39989, Detected normals: 20011, Accuracy: 58.65%\n",
      "Threshold: 0.024 --> Detected abnormalities: 43723, Detected normals: 16277, Accuracy: 59.11%\n",
      "Threshold: 0.031 --> Detected abnormalities: 47410, Detected normals: 12590, Accuracy: 59.14%\n",
      "Threshold: 0.037 --> Detected abnormalities: 50835, Detected normals: 9165, Accuracy: 59.15%\n",
      "Threshold: 0.043 --> Detected abnormalities: 53861, Detected normals: 6139, Accuracy: 59.24%\n",
      "Threshold: 0.049 --> Detected abnormalities: 56319, Detected normals: 3681, Accuracy: 59.14%\n",
      "Threshold: 0.056 --> Detected abnormalities: 58123, Detected normals: 1877, Accuracy: 58.94%\n",
      "Threshold: 0.062 --> Detected abnormalities: 59278, Detected normals: 722, Accuracy: 58.94%\n",
      "Threshold: 0.068 --> Detected abnormalities: 59842, Detected normals: 158, Accuracy: 59.03%\n",
      "Threshold: 0.074 --> Detected abnormalities: 59980, Detected normals: 20, Accuracy: 59.06%\n",
      "Threshold: 0.081 --> Detected abnormalities: 59999, Detected normals: 1, Accuracy: 59.07%\n",
      "The best threshold: 0.043194292471997076, with Accuracy: 59.23666666666667%\n"
     ]
    }
   ],
   "source": [
    "fit_with_clf(features, forest_labels)\n",
    "fit_with_different_th(features, forest_labels)"
   ]
  },
  {
   "cell_type": "markdown",
   "metadata": {},
   "source": [
    "### Denoising autoencoder as feature extractor"
   ]
  },
  {
   "cell_type": "code",
   "execution_count": 77,
   "metadata": {},
   "outputs": [
    {
     "name": "stdout",
     "output_type": "stream",
     "text": [
      "Model: Denoise_Autoencoder\n",
      "model total parameters: 109,516\n"
     ]
    },
    {
     "name": "stderr",
     "output_type": "stream",
     "text": [
      "100%|██████████| 750/750 [00:03<00:00, 196.85it/s]\n",
      "100%|██████████| 188/188 [00:00<00:00, 247.37it/s]\n",
      "0it [00:00, ?it/s]"
     ]
    },
    {
     "name": "stdout",
     "output_type": "stream",
     "text": [
      "(60000, 12)\n"
     ]
    },
    {
     "name": "stderr",
     "output_type": "stream",
     "text": [
      "\n"
     ]
    }
   ],
   "source": [
    "device = torch.device('cuda' if torch.cuda.is_available() else 'cpu')\n",
    "model = torch.jit.load('model_DAE.pt')\n",
    "model = Denoise_Autoencoder().to(device)\n",
    "model.load_state_dict(model.state_dict())\n",
    "model = model.cuda()\n",
    "model.decoder = nn.Identity()\n",
    "print(f\"Model: Denoise_Autoencoder\")\n",
    "model_parameters_amount = count_parameters(model)\n",
    "print(f\"model total parameters: {model_parameters_amount:,}\")\n",
    "\n",
    "model.eval()\n",
    "features = []\n",
    "forest_labels = []\n",
    "with torch.no_grad():\n",
    "    for phase in ['train', 'val', 'test']:\n",
    "        for images, labels in tqdm(full_dataloaders[phase]):\n",
    "            images = images.view(images.size(0), -1)\n",
    "            images, labels = images.to(device), labels.to(device)\n",
    "            outputs = model(images)\n",
    "            features.append(outputs.cpu().numpy())\n",
    "            forest_labels.append(labels.cpu().numpy())\n",
    "features = np.concatenate(features, axis=0)\n",
    "forest_labels = np.concatenate(forest_labels, axis=0)\n",
    "print(features.shape)\n"
   ]
  },
  {
   "cell_type": "code",
   "execution_count": 78,
   "metadata": {},
   "outputs": [
    {
     "name": "stdout",
     "output_type": "stream",
     "text": [
      "------------------\n",
      "Total number of data: 60000\n",
      "Total number of normal data: 24559\n",
      "Total number of abnormal data: 35441\n",
      "------------------\n",
      "Number of abnormalities detected: 41314\n",
      "Number of normalities detected: 18686\n",
      "accuracy: 68.85833333333333 %\n",
      "------------------\n",
      "Threshold: -0.265 --> Detected abnormalities: 0, Detected normals: 60000, Accuracy: 40.93%\n",
      "Threshold: -0.258 --> Detected abnormalities: 1, Detected normals: 59999, Accuracy: 40.93%\n",
      "Threshold: -0.251 --> Detected abnormalities: 1, Detected normals: 59999, Accuracy: 40.93%\n",
      "Threshold: -0.244 --> Detected abnormalities: 4, Detected normals: 59996, Accuracy: 40.94%\n",
      "Threshold: -0.237 --> Detected abnormalities: 6, Detected normals: 59994, Accuracy: 40.94%\n",
      "Threshold: -0.230 --> Detected abnormalities: 11, Detected normals: 59989, Accuracy: 40.95%\n",
      "Threshold: -0.222 --> Detected abnormalities: 24, Detected normals: 59976, Accuracy: 40.97%\n",
      "Threshold: -0.215 --> Detected abnormalities: 35, Detected normals: 59965, Accuracy: 40.99%\n",
      "Threshold: -0.208 --> Detected abnormalities: 57, Detected normals: 59943, Accuracy: 41.03%\n",
      "Threshold: -0.201 --> Detected abnormalities: 96, Detected normals: 59904, Accuracy: 41.08%\n",
      "Threshold: -0.194 --> Detected abnormalities: 145, Detected normals: 59855, Accuracy: 41.16%\n",
      "Threshold: -0.187 --> Detected abnormalities: 217, Detected normals: 59783, Accuracy: 41.27%\n",
      "Threshold: -0.180 --> Detected abnormalities: 330, Detected normals: 59670, Accuracy: 41.44%\n",
      "Threshold: -0.173 --> Detected abnormalities: 483, Detected normals: 59517, Accuracy: 41.66%\n",
      "Threshold: -0.165 --> Detected abnormalities: 692, Detected normals: 59308, Accuracy: 41.95%\n",
      "Threshold: -0.158 --> Detected abnormalities: 979, Detected normals: 59021, Accuracy: 42.34%\n",
      "Threshold: -0.151 --> Detected abnormalities: 1353, Detected normals: 58647, Accuracy: 42.86%\n",
      "Threshold: -0.144 --> Detected abnormalities: 1767, Detected normals: 58233, Accuracy: 43.43%\n",
      "Threshold: -0.137 --> Detected abnormalities: 2284, Detected normals: 57716, Accuracy: 44.14%\n",
      "Threshold: -0.130 --> Detected abnormalities: 2852, Detected normals: 57148, Accuracy: 44.92%\n",
      "Threshold: -0.123 --> Detected abnormalities: 3544, Detected normals: 56456, Accuracy: 45.81%\n",
      "Threshold: -0.116 --> Detected abnormalities: 4362, Detected normals: 55638, Accuracy: 46.87%\n",
      "Threshold: -0.108 --> Detected abnormalities: 5217, Detected normals: 54783, Accuracy: 47.97%\n",
      "Threshold: -0.101 --> Detected abnormalities: 6293, Detected normals: 53707, Accuracy: 49.26%\n",
      "Threshold: -0.094 --> Detected abnormalities: 7523, Detected normals: 52477, Accuracy: 50.70%\n",
      "Threshold: -0.087 --> Detected abnormalities: 8813, Detected normals: 51187, Accuracy: 52.18%\n",
      "Threshold: -0.080 --> Detected abnormalities: 10252, Detected normals: 49748, Accuracy: 53.72%\n",
      "Threshold: -0.073 --> Detected abnormalities: 11832, Detected normals: 48168, Accuracy: 55.30%\n",
      "Threshold: -0.066 --> Detected abnormalities: 13614, Detected normals: 46386, Accuracy: 56.90%\n",
      "Threshold: -0.059 --> Detected abnormalities: 15536, Detected normals: 44464, Accuracy: 58.60%\n",
      "Threshold: -0.051 --> Detected abnormalities: 17612, Detected normals: 42388, Accuracy: 60.26%\n",
      "Threshold: -0.044 --> Detected abnormalities: 19785, Detected normals: 40215, Accuracy: 61.85%\n",
      "Threshold: -0.037 --> Detected abnormalities: 22092, Detected normals: 37908, Accuracy: 63.39%\n",
      "Threshold: -0.030 --> Detected abnormalities: 24527, Detected normals: 35473, Accuracy: 64.80%\n",
      "Threshold: -0.023 --> Detected abnormalities: 27108, Detected normals: 32892, Accuracy: 66.03%\n",
      "Threshold: -0.016 --> Detected abnormalities: 29861, Detected normals: 30139, Accuracy: 67.11%\n",
      "Threshold: -0.009 --> Detected abnormalities: 32719, Detected normals: 27281, Accuracy: 68.08%\n",
      "Threshold: -0.002 --> Detected abnormalities: 35578, Detected normals: 24422, Accuracy: 68.46%\n",
      "Threshold: 0.006 --> Detected abnormalities: 38637, Detected normals: 21363, Accuracy: 68.92%\n",
      "Threshold: 0.013 --> Detected abnormalities: 41603, Detected normals: 18397, Accuracy: 68.92%\n",
      "Threshold: 0.020 --> Detected abnormalities: 44424, Detected normals: 15576, Accuracy: 68.77%\n",
      "Threshold: 0.027 --> Detected abnormalities: 47208, Detected normals: 12792, Accuracy: 68.06%\n",
      "Threshold: 0.034 --> Detected abnormalities: 49937, Detected normals: 10063, Accuracy: 66.98%\n",
      "Threshold: 0.041 --> Detected abnormalities: 52429, Detected normals: 7571, Accuracy: 65.65%\n",
      "Threshold: 0.048 --> Detected abnormalities: 54730, Detected normals: 5270, Accuracy: 64.20%\n",
      "Threshold: 0.055 --> Detected abnormalities: 56757, Detected normals: 3243, Accuracy: 62.52%\n",
      "Threshold: 0.063 --> Detected abnormalities: 58398, Detected normals: 1602, Accuracy: 60.86%\n",
      "Threshold: 0.070 --> Detected abnormalities: 59447, Detected normals: 553, Accuracy: 59.73%\n",
      "Threshold: 0.077 --> Detected abnormalities: 59920, Detected normals: 80, Accuracy: 59.19%\n",
      "Threshold: 0.084 --> Detected abnormalities: 59999, Detected normals: 1, Accuracy: 59.07%\n",
      "The best threshold: 0.005522786643118338, with Accuracy: 68.91666666666667%\n"
     ]
    }
   ],
   "source": [
    "fit_with_clf(features, forest_labels)\n",
    "fit_with_different_th(features, forest_labels)"
   ]
  },
  {
   "cell_type": "markdown",
   "metadata": {},
   "source": [
    "### Variational autoencoder as feature extractor"
   ]
  },
  {
   "cell_type": "code",
   "execution_count": 79,
   "metadata": {},
   "outputs": [
    {
     "name": "stdout",
     "output_type": "stream",
     "text": [
      "Model: VAE\n",
      "model total parameters: 330,040\n"
     ]
    },
    {
     "name": "stderr",
     "output_type": "stream",
     "text": [
      "100%|██████████| 750/750 [00:03<00:00, 193.30it/s]\n",
      "100%|██████████| 188/188 [00:00<00:00, 216.09it/s]\n",
      "0it [00:00, ?it/s]"
     ]
    },
    {
     "name": "stdout",
     "output_type": "stream",
     "text": [
      "(60000, 20)\n"
     ]
    },
    {
     "name": "stderr",
     "output_type": "stream",
     "text": [
      "\n"
     ]
    }
   ],
   "source": [
    "device = torch.device('cuda' if torch.cuda.is_available() else 'cpu')\n",
    "model = torch.jit.load('model_DAE.pt')\n",
    "model = VAE(784,20).to(device)\n",
    "model.load_state_dict(model.state_dict())\n",
    "model = model.cuda()\n",
    "model.fc2 = nn.Identity()\n",
    "model.fc3 = nn.Identity()\n",
    "print(f\"Model: VAE\")\n",
    "model_parameters_amount = count_parameters(model)\n",
    "print(f\"model total parameters: {model_parameters_amount:,}\")\n",
    "\n",
    "model.eval()\n",
    "features = []\n",
    "forest_labels = []\n",
    "with torch.no_grad():\n",
    "    for phase in ['train', 'val', 'test']:\n",
    "        for images, labels in tqdm(full_dataloaders[phase]):\n",
    "            images = images.view(images.size(0), -1)\n",
    "            images, labels = images.to(device), labels.to(device)\n",
    "            recon_batch, mu, logvar = model(images)\n",
    "\n",
    "            features.append(recon_batch.cpu().numpy())\n",
    "            forest_labels.append(labels.cpu().numpy())\n",
    "            \n",
    "features = np.concatenate(features, axis=0)\n",
    "forest_labels = np.concatenate(forest_labels, axis=0)\n",
    "print(features.shape)\n"
   ]
  },
  {
   "cell_type": "code",
   "execution_count": 80,
   "metadata": {},
   "outputs": [
    {
     "name": "stdout",
     "output_type": "stream",
     "text": [
      "------------------\n",
      "Total number of data: 60000\n",
      "Total number of normal data: 24559\n",
      "Total number of abnormal data: 35441\n",
      "------------------\n",
      "Number of abnormalities detected: 29751\n",
      "Number of normalities detected: 30249\n",
      "accuracy: 49.586666666666666 %\n",
      "------------------\n",
      "Threshold: -0.163 --> Detected abnormalities: 0, Detected normals: 60000, Accuracy: 40.93%\n",
      "Threshold: -0.157 --> Detected abnormalities: 2, Detected normals: 59998, Accuracy: 40.93%\n",
      "Threshold: -0.152 --> Detected abnormalities: 4, Detected normals: 59996, Accuracy: 40.94%\n",
      "Threshold: -0.146 --> Detected abnormalities: 4, Detected normals: 59996, Accuracy: 40.94%\n",
      "Threshold: -0.141 --> Detected abnormalities: 9, Detected normals: 59991, Accuracy: 40.94%\n",
      "Threshold: -0.135 --> Detected abnormalities: 13, Detected normals: 59987, Accuracy: 40.94%\n",
      "Threshold: -0.130 --> Detected abnormalities: 28, Detected normals: 59972, Accuracy: 40.95%\n",
      "Threshold: -0.124 --> Detected abnormalities: 54, Detected normals: 59946, Accuracy: 40.94%\n",
      "Threshold: -0.119 --> Detected abnormalities: 76, Detected normals: 59924, Accuracy: 40.96%\n",
      "Threshold: -0.113 --> Detected abnormalities: 118, Detected normals: 59882, Accuracy: 40.99%\n",
      "Threshold: -0.108 --> Detected abnormalities: 174, Detected normals: 59826, Accuracy: 41.02%\n",
      "Threshold: -0.102 --> Detected abnormalities: 245, Detected normals: 59755, Accuracy: 41.04%\n",
      "Threshold: -0.097 --> Detected abnormalities: 362, Detected normals: 59638, Accuracy: 41.08%\n",
      "Threshold: -0.092 --> Detected abnormalities: 497, Detected normals: 59503, Accuracy: 41.09%\n",
      "Threshold: -0.086 --> Detected abnormalities: 696, Detected normals: 59304, Accuracy: 41.12%\n",
      "Threshold: -0.081 --> Detected abnormalities: 934, Detected normals: 59066, Accuracy: 41.21%\n",
      "Threshold: -0.075 --> Detected abnormalities: 1256, Detected normals: 58744, Accuracy: 41.28%\n",
      "Threshold: -0.070 --> Detected abnormalities: 1698, Detected normals: 58302, Accuracy: 41.43%\n",
      "Threshold: -0.064 --> Detected abnormalities: 2294, Detected normals: 57706, Accuracy: 41.57%\n",
      "Threshold: -0.059 --> Detected abnormalities: 3018, Detected normals: 56982, Accuracy: 41.76%\n",
      "Threshold: -0.053 --> Detected abnormalities: 3872, Detected normals: 56128, Accuracy: 42.02%\n",
      "Threshold: -0.048 --> Detected abnormalities: 4919, Detected normals: 55081, Accuracy: 42.37%\n",
      "Threshold: -0.042 --> Detected abnormalities: 6181, Detected normals: 53819, Accuracy: 42.74%\n",
      "Threshold: -0.037 --> Detected abnormalities: 7634, Detected normals: 52366, Accuracy: 43.16%\n",
      "Threshold: -0.031 --> Detected abnormalities: 9310, Detected normals: 50690, Accuracy: 43.70%\n",
      "Threshold: -0.026 --> Detected abnormalities: 11248, Detected normals: 48752, Accuracy: 44.28%\n",
      "Threshold: -0.021 --> Detected abnormalities: 13409, Detected normals: 46591, Accuracy: 44.97%\n",
      "Threshold: -0.015 --> Detected abnormalities: 15882, Detected normals: 44118, Accuracy: 45.75%\n",
      "Threshold: -0.010 --> Detected abnormalities: 18630, Detected normals: 41370, Accuracy: 46.48%\n",
      "Threshold: -0.004 --> Detected abnormalities: 21482, Detected normals: 38518, Accuracy: 47.29%\n",
      "Threshold: 0.001 --> Detected abnormalities: 24604, Detected normals: 35396, Accuracy: 48.10%\n",
      "Threshold: 0.007 --> Detected abnormalities: 27766, Detected normals: 32234, Accuracy: 49.05%\n",
      "Threshold: 0.012 --> Detected abnormalities: 31056, Detected normals: 28944, Accuracy: 50.04%\n",
      "Threshold: 0.018 --> Detected abnormalities: 34383, Detected normals: 25617, Accuracy: 51.01%\n",
      "Threshold: 0.023 --> Detected abnormalities: 37900, Detected normals: 22100, Accuracy: 52.11%\n",
      "Threshold: 0.029 --> Detected abnormalities: 41213, Detected normals: 18787, Accuracy: 53.26%\n",
      "Threshold: 0.034 --> Detected abnormalities: 44365, Detected normals: 15635, Accuracy: 54.10%\n",
      "Threshold: 0.040 --> Detected abnormalities: 47336, Detected normals: 12664, Accuracy: 55.05%\n",
      "Threshold: 0.045 --> Detected abnormalities: 50097, Detected normals: 9903, Accuracy: 56.01%\n",
      "Threshold: 0.050 --> Detected abnormalities: 52483, Detected normals: 7517, Accuracy: 56.77%\n",
      "Threshold: 0.056 --> Detected abnormalities: 54555, Detected normals: 5445, Accuracy: 57.32%\n",
      "Threshold: 0.061 --> Detected abnormalities: 56128, Detected normals: 3872, Accuracy: 57.81%\n",
      "Threshold: 0.067 --> Detected abnormalities: 57468, Detected normals: 2532, Accuracy: 58.16%\n",
      "Threshold: 0.072 --> Detected abnormalities: 58480, Detected normals: 1520, Accuracy: 58.46%\n",
      "Threshold: 0.078 --> Detected abnormalities: 59125, Detected normals: 875, Accuracy: 58.75%\n",
      "Threshold: 0.083 --> Detected abnormalities: 59561, Detected normals: 439, Accuracy: 58.84%\n",
      "Threshold: 0.089 --> Detected abnormalities: 59838, Detected normals: 162, Accuracy: 58.98%\n",
      "Threshold: 0.094 --> Detected abnormalities: 59951, Detected normals: 49, Accuracy: 59.04%\n",
      "Threshold: 0.100 --> Detected abnormalities: 59988, Detected normals: 12, Accuracy: 59.07%\n",
      "Threshold: 0.105 --> Detected abnormalities: 59999, Detected normals: 1, Accuracy: 59.07%\n",
      "The best threshold: 0.09967363529581569, with Accuracy: 59.068333333333335%\n"
     ]
    }
   ],
   "source": [
    "fit_with_clf(features, forest_labels)\n",
    "fit_with_different_th(features, forest_labels)"
   ]
  },
  {
   "cell_type": "markdown",
   "metadata": {},
   "source": [
    "## 7. Comparison and Conclusion"
   ]
  },
  {
   "cell_type": "markdown",
   "metadata": {},
   "source": []
  }
 ],
 "metadata": {
  "kernelspec": {
   "display_name": "tf37",
   "language": "python",
   "name": "python3"
  },
  "language_info": {
   "codemirror_mode": {
    "name": "ipython",
    "version": 3
   },
   "file_extension": ".py",
   "mimetype": "text/x-python",
   "name": "python",
   "nbconvert_exporter": "python",
   "pygments_lexer": "ipython3",
   "version": "3.10.12"
  }
 },
 "nbformat": 4,
 "nbformat_minor": 2
}
