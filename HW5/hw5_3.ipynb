{
 "cells": [
  {
   "cell_type": "code",
   "execution_count": 10,
   "metadata": {},
   "outputs": [
    {
     "name": "stdout",
     "output_type": "stream",
     "text": [
      "cuda\n"
     ]
    }
   ],
   "source": [
    "import torch\n",
    "import clip\n",
    "from PIL import Image\n",
    "weight_path = \"D:\\\\Casper\\\\OTHER\\\\Weight\\\\clip\\\\ViT-B-32.pt\"\n",
    "\n",
    "device = \"cuda\" if torch.cuda.is_available() else \"cpu\"\n",
    "print(device)\n",
    "model, preprocess = clip.load(weight_path, device=device)\n",
    "\n",
    "image_path = \"D:\\\\Casper\\\\aML\\\\HW5\\\\my_bro.png\""
   ]
  },
  {
   "cell_type": "code",
   "execution_count": 17,
   "metadata": {},
   "outputs": [
    {
     "name": "stdout",
     "output_type": "stream",
     "text": [
      "* 0 =================\n",
      "Topic: Classes\n",
      "Label prob:0.001342 -> A dog\n",
      "Label prob:0.002932 -> A cat\n",
      "Label prob:0.9956 -> A monkey\n",
      "\n",
      "* 1 =================\n",
      "Topic: Generality\n",
      "Label prob:0.02615 -> An animal\n",
      "Label prob:0.9219 -> A monkey\n",
      "Label prob:0.052 -> A Macaca\n",
      "\n",
      "* 2 =================\n",
      "Topic: Details\n",
      "Label prob:0.000205 -> A monkey\n",
      "Label prob:0.3074 -> A monkey in a trash can\n",
      "Label prob:0.6924 -> An aggressive monkey coming out from a trash can, staring at the camera\n",
      "\n",
      "* 3 =================\n",
      "Topic: Wrong class with details\n",
      "Label prob:0.0009384 -> A dog\n",
      "Label prob:0.1051 -> A dog in a trash can\n",
      "Label prob:0.894 -> An aggressive dog coming out from a trash can, staring at the camera\n",
      "\n",
      "* 4 =================\n",
      "Topic: Correct answers\n",
      "Label prob:0.7856 -> A monkey\n",
      "Label prob:0.09381 -> A trash can\n",
      "Label prob:0.1205 -> A plastic bag\n",
      "\n"
     ]
    }
   ],
   "source": [
    "image = preprocess(Image.open(image_path)).unsqueeze(0).to(device)\n",
    "image_features = model.encode_image(image)\n",
    "topics = [\n",
    "    \"Classes\",\n",
    "    \"Generality\",\n",
    "    \"Details\",\n",
    "    \"Wrong class with details\",\n",
    "    \"Correct answers\",\n",
    "]\n",
    "texts = [[\n",
    "        \"A dog\",\n",
    "        \"A cat\",\n",
    "        \"A monkey\", \n",
    "    ],\n",
    "\n",
    "    [\n",
    "        \"An animal\", \n",
    "        \"A monkey\", \n",
    "        \"A Macaca\", \n",
    "    ],\n",
    "\n",
    "    [\n",
    "        \"A monkey\", \n",
    "        \"A monkey in a trash can\",\n",
    "        \"An aggressive monkey coming out from a trash can, staring at the camera\",\n",
    "    ],\n",
    "\n",
    "    [\n",
    "        \"A dog\", \n",
    "        \"A dog in a trash can\",\n",
    "        \"An aggressive dog coming out from a trash can, staring at the camera\",\n",
    "    ],\n",
    "    [\n",
    "        \"A monkey\", \n",
    "        \"A trash can\",\n",
    "        \"A plastic bag\",\n",
    "    ],\n",
    "\n",
    "]\n",
    "for ii, comparing_texts in enumerate(texts):\n",
    "    text_token = clip.tokenize(comparing_texts).to(device)\n",
    "    print(f\"* {ii} =================\")\n",
    "    print(\"Topic:\",topics[ii])\n",
    "    with torch.no_grad():\n",
    "        logits_per_image, logits_per_text = model(image, text_token)\n",
    "        probs = logits_per_image.softmax(dim=-1).cpu().numpy()[0]\n",
    "\n",
    "    for ii, prob in enumerate(probs):\n",
    "        print(f\"Label prob:{prob:.4} -> {comparing_texts[ii]}\")  # prints: [[0.9927937  0.00421068 0.00299572]]\n",
    "    print(\"\")"
   ]
  },
  {
   "cell_type": "markdown",
   "metadata": {},
   "source": [
    "# Result"
   ]
  },
  {
   "cell_type": "code",
   "execution_count": null,
   "metadata": {},
   "outputs": [],
   "source": [
    "# * 0 =================\n",
    "# Topic: Classes\n",
    "# Label prob:0.001342 -> A dog\n",
    "# Label prob:0.002932 -> A cat\n",
    "# Label prob:0.9956 -> A monkey\n",
    "\n",
    "# * 1 =================\n",
    "# Topic: Generality\n",
    "# Label prob:0.02615 -> An animal\n",
    "# Label prob:0.9219 -> A monkey\n",
    "# Label prob:0.052 -> A Macaca\n",
    "\n",
    "# * 2 =================\n",
    "# Topic: Details\n",
    "# Label prob:0.000205 -> A monkey\n",
    "# Label prob:0.3074 -> A monkey in a trash can\n",
    "# Label prob:0.6924 -> An aggressive monkey coming out from a trash can, staring at the camera\n",
    "\n",
    "# * 3 =================\n",
    "# Topic: Wrong class with details\n",
    "# Label prob:0.0009384 -> A dog\n",
    "# Label prob:0.1051 -> A dog in a trash can\n",
    "# Label prob:0.894 -> An aggressive dog coming out from a trash can, staring at the camera\n",
    "\n",
    "# * 4 =================\n",
    "# Topic: Correct answers\n",
    "# Label prob:0.7856 -> A monkey\n",
    "# Label prob:0.09381 -> A trash can\n",
    "# Label prob:0.1205 -> A plastic bag\n",
    "\n",
    "\n",
    "\n"
   ]
  }
 ],
 "metadata": {
  "kernelspec": {
   "display_name": "GPU",
   "language": "python",
   "name": "python3"
  },
  "language_info": {
   "codemirror_mode": {
    "name": "ipython",
    "version": 3
   },
   "file_extension": ".py",
   "mimetype": "text/x-python",
   "name": "python",
   "nbconvert_exporter": "python",
   "pygments_lexer": "ipython3",
   "version": "3.10.12"
  }
 },
 "nbformat": 4,
 "nbformat_minor": 2
}
