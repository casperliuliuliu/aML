{
 "cells": [
  {
   "cell_type": "code",
   "execution_count": 1,
   "metadata": {},
   "outputs": [
    {
     "name": "stdout",
     "output_type": "stream",
     "text": [
      "Outputs: tensor([[-0.3316, -0.5535,  0.5069],\n",
      "        [-0.0734,  0.2225,  0.0098],\n",
      "        [-0.6597,  0.1252, -0.6697],\n",
      "        [-0.5548, -0.5537,  0.5560],\n",
      "        [ 0.6281,  0.0500,  0.1033]], grad_fn=<AddmmBackward0>)\n",
      "Targets: tensor([1, 2, 1, 2, 1])\n",
      "Loss: 1.056565761566162\n"
     ]
    }
   ],
   "source": [
    "import torch\n",
    "import torch.nn as nn\n",
    "import torch.optim as optim\n",
    "\n",
    "# Define a simple neural network with one linear layer\n",
    "class SimpleNN(nn.Module):\n",
    "    def __init__(self):\n",
    "        super(SimpleNN, self).__init__()\n",
    "        self.linear = nn.Linear(10, 3)  # Input dimension is 10, output dimension is 3 (for three classes)\n",
    "\n",
    "    def forward(self, x):\n",
    "        return self.linear(x)\n",
    "\n",
    "# Instantiate the model\n",
    "model = SimpleNN()\n",
    "\n",
    "# Create a random tensor as input (batch size = 5, input dimension = 10)\n",
    "inputs = torch.randn(5, 10)\n",
    "\n",
    "# Create target classes for these inputs (random integers between 0 and 2, since we have three classes)\n",
    "targets = torch.randint(0, 3, (5,))\n",
    "\n",
    "# Define the loss function (Cross-Entropy Loss)\n",
    "criterion = nn.CrossEntropyLoss()\n",
    "\n",
    "# Forward pass: compute predicted outputs by passing inputs to the model\n",
    "outputs = model(inputs)\n",
    "\n",
    "# Compute the loss\n",
    "loss = criterion(outputs, targets)\n",
    "\n",
    "# Print the outputs, targets, and loss\n",
    "print(\"Outputs:\", outputs)\n",
    "print(\"Targets:\", targets)\n",
    "print(\"Loss:\", loss.item())\n"
   ]
  }
 ],
 "metadata": {
  "kernelspec": {
   "display_name": "GPU",
   "language": "python",
   "name": "python3"
  },
  "language_info": {
   "codemirror_mode": {
    "name": "ipython",
    "version": 3
   },
   "file_extension": ".py",
   "mimetype": "text/x-python",
   "name": "python",
   "nbconvert_exporter": "python",
   "pygments_lexer": "ipython3",
   "version": "3.10.12"
  }
 },
 "nbformat": 4,
 "nbformat_minor": 2
}
