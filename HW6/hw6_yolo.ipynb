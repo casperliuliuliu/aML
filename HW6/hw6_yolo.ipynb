{
 "cells": [
  {
   "cell_type": "code",
   "execution_count": 13,
   "metadata": {},
   "outputs": [],
   "source": [
    "import os\n",
    "import cv2\n",
    "import numpy as np\n",
    "import torch\n",
    "import matplotlib.pyplot as plt\n",
    "from torchvision import transforms\n",
    "from torch.utils.data import Dataset, DataLoader\n",
    "\n",
    "class HandwrittenDigitsDataset(Dataset):\n",
    "    def __init__(self, images_folder, transform=None):\n",
    "        self.images_folder = images_folder\n",
    "        self.transform = transform\n",
    "        self.image_files = [os.path.join(images_folder, f) for f in os.listdir(images_folder) if f.endswith('.png')]\n",
    "    \n",
    "    def __len__(self):\n",
    "        return len(self.image_files)\n",
    "    \n",
    "    def __getitem__(self, idx):\n",
    "        img_path = self.image_files[idx]\n",
    "        image = cv2.imread(img_path, cv2.IMREAD_GRAYSCALE)\n",
    "        \n",
    "        label_path = img_path.replace('.png', '.txt')\n",
    "        labels = []\n",
    "        with open(label_path, 'r') as f:\n",
    "            for line in f:\n",
    "                label_data = line.strip().split('\\t')\n",
    "                digit_label = int(label_data[0])\n",
    "                bbox_coords = [float(coord) for coord in label_data[1:]]\n",
    "                labels.append([digit_label] + bbox_coords)\n",
    "        \n",
    "        if self.transform:\n",
    "            image = self.transform(image)\n",
    "        \n",
    "        labels = np.array(labels, dtype=np.float32)\n",
    "        return image, labels\n",
    "\n",
    "transform = transforms.Compose([\n",
    "    transforms.ToPILImage(),\n",
    "    transforms.Resize((416, 416)),\n",
    "    transforms.ToTensor(),\n",
    "    transforms.Normalize((0.5,), (0.5,))\n",
    "])\n",
    "path = \"D:\\Casper\\OTHER\\Data\\\\aML\\hw6\\HW6_train\\\\5\\\\\"\n",
    "\n",
    "\n",
    "train_dataset = HandwrittenDigitsDataset(path, transform)\n",
    "train_loader = DataLoader(train_dataset, batch_size=8, shuffle=True, collate_fn=lambda x: x)\n",
    "\n",
    "# test_dataset = HandwrittenDigitsDataset('HW6_test', transform=transform)\n",
    "# test_loader = DataLoader(test_dataset, batch_size=8, shuffle=False, collate_fn=lambda x: x)\n"
   ]
  },
  {
   "cell_type": "code",
   "execution_count": 23,
   "metadata": {},
   "outputs": [],
   "source": [
    "import os\n",
    "\n",
    "def max_lines_in_txt(images_folder):\n",
    "    max_lines = 0\n",
    "    txt_files = [os.path.join(images_folder, f) for f in os.listdir(images_folder) if f.endswith('.txt')]\n",
    "    \n",
    "    for txt_file in txt_files:\n",
    "        with open(txt_file, 'r') as f:\n",
    "            num_lines = sum(1 for line in f)\n",
    "            if num_lines > max_lines:\n",
    "                max_lines = num_lines\n",
    "    \n",
    "    print(f\"The maximum number of lines in a single txt file is: {max_lines}\")\n",
    "\n",
    "max_lines_in_txt(path)\n"
   ]
  },
  {
   "cell_type": "code",
   "execution_count": 22,
   "metadata": {},
   "outputs": [
    {
     "name": "stdout",
     "output_type": "stream",
     "text": [
      "Label:\n",
      " [[0.        0.515625  0.40625   0.21875   0.21875  ]\n",
      " [3.        0.015625  0.7734375 0.21875   0.21875  ]\n",
      " [4.        0.65625   0.7109375 0.21875   0.21875  ]]\n"
     ]
    },
    {
     "data": {
      "image/png": "[encoded data removed]",
      "text/plain": [
       "<Figure size 640x480 with 1 Axes>"
      ]
     },
     "metadata": {},
     "output_type": "display_data"
    }
   ],
   "source": [
    "def display_image_and_tensor(dataset, index):\n",
    "    image, label = dataset[index]  # Get the first image and its label\n",
    "    print(\"Label:\\n\", label)\n",
    "    image_np = image.squeeze().numpy()  \n",
    "    plt.imshow(image_np, cmap='gray')\n",
    "    plt.show()\n",
    "\n",
    "display_image_and_tensor(train_dataset, 1)"
   ]
  },
  {
   "cell_type": "code",
   "execution_count": 19,
   "metadata": {},
   "outputs": [],
   "source": [
    "import torch.nn as nn\n",
    "\n",
    "class YOLO(nn.Module):\n",
    "    def __init__(self, num_classes, num_boxes):\n",
    "        super(YOLO, self).__init__()\n",
    "        self.num_classes = num_classes\n",
    "        self.num_boxes = num_boxes\n",
    "        \n",
    "        self.conv1 = nn.Conv2d(1, 32, kernel_size=3, stride=1, padding=1)\n",
    "        self.conv2 = nn.Conv2d(32, 64, kernel_size=3, stride=2, padding=1)\n",
    "        self.conv3 = nn.Conv2d(64, 128, kernel_size=3, stride=2, padding=1)\n",
    "        self.conv4 = nn.Conv2d(128, 256, kernel_size=3, stride=2, padding=1)\n",
    "        self.conv5 = nn.Conv2d(256, 512, kernel_size=3, stride=2, padding=1)\n",
    "        \n",
    "        self.fc1 = nn.Linear(512 * 13 * 13, 4096)\n",
    "        self.fc2 = nn.Linear(4096, 13 * 13 * (num_classes + 5 * num_boxes))\n",
    "    \n",
    "    def forward(self, x):\n",
    "        x = torch.relu(self.conv1(x))\n",
    "        x = torch.relu(self.conv2(x))\n",
    "        x = torch.relu(self.conv3(x))\n",
    "        x = torch.relu(self.conv4(x))\n",
    "        x = torch.relu(self.conv5(x))\n",
    "        \n",
    "        x = x.view(x.size(0), -1)\n",
    "        x = torch.relu(self.fc1(x))\n",
    "        x = self.fc2(x)\n",
    "        x = x.view(-1, 13, 13, self.num_classes + 5 * self.num_boxes)\n",
    "        return x\n",
    "\n",
    "model = YOLO(num_classes=10, num_boxes=2)\n"
   ]
  },
  {
   "cell_type": "code",
   "execution_count": 4,
   "metadata": {},
   "outputs": [],
   "source": [
    "class YoloLoss(nn.Module):\n",
    "    def __init__(self, S, B, C):\n",
    "        super(YoloLoss, self).__init__()\n",
    "        self.S = S\n",
    "        self.B = B\n",
    "        self.C = C\n",
    "        self.mse = nn.MSELoss(reduction='sum')\n",
    "    \n",
    "    def forward(self, predictions, target):\n",
    "        N = predictions.size(0)\n",
    "        predictions = predictions.view(N, self.S, self.S, self.C + self.B * 5)\n",
    "        \n",
    "        coord_mask = target[..., 4] > 0\n",
    "        noobj_mask = target[..., 4] == 0\n",
    "        \n",
    "        coord_predictions = predictions[coord_mask].view(-1, self.C + self.B * 5)\n",
    "        noobj_predictions = predictions[noobj_mask].view(-1, self.C + self.B * 5)\n",
    "        \n",
    "        coord_target = target[coord_mask].view(-1, self.C + self.B * 5)\n",
    "        noobj_target = target[noobj_mask].view(-1, self.C + self.B * 5)\n",
    "        \n",
    "        coord_loss = self.mse(coord_predictions, coord_target)\n",
    "        noobj_loss = self.mse(noobj_predictions, noobj_target)\n",
    "        \n",
    "        return coord_loss + noobj_loss\n",
    "\n",
    "criterion = YoloLoss(S=13, B=2, C=10)\n"
   ]
  },
  {
   "cell_type": "code",
   "execution_count": 5,
   "metadata": {},
   "outputs": [
    {
     "ename": "ValueError",
     "evalue": "too many values to unpack (expected 2)",
     "output_type": "error",
     "traceback": [
      "\u001b[1;31m---------------------------------------------------------------------------\u001b[0m",
      "\u001b[1;31mValueError\u001b[0m                                Traceback (most recent call last)",
      "Cell \u001b[1;32mIn[5], line 10\u001b[0m\n\u001b[0;32m      8\u001b[0m model\u001b[38;5;241m.\u001b[39mtrain()\n\u001b[0;32m      9\u001b[0m running_loss \u001b[38;5;241m=\u001b[39m \u001b[38;5;241m0.0\u001b[39m\n\u001b[1;32m---> 10\u001b[0m \u001b[38;5;28;01mfor\u001b[39;00m images, labels \u001b[38;5;129;01min\u001b[39;00m train_loader:\n\u001b[0;32m     11\u001b[0m     images \u001b[38;5;241m=\u001b[39m images\u001b[38;5;241m.\u001b[39mto(device)\n\u001b[0;32m     12\u001b[0m     targets \u001b[38;5;241m=\u001b[39m labels\u001b[38;5;241m.\u001b[39mto(device)\n",
      "\u001b[1;31mValueError\u001b[0m: too many values to unpack (expected 2)"
     ]
    }
   ],
   "source": [
    "import torch.optim as optim\n",
    "\n",
    "optimizer = optim.Adam(model.parameters(), lr=0.001)\n",
    "device = torch.device(\"cuda\" if torch.cuda.is_available() else \"cpu\")\n",
    "model.to(device)\n",
    "\n",
    "for epoch in range(10):\n",
    "    model.train()\n",
    "    running_loss = 0.0\n",
    "    for images, labels in train_loader:\n",
    "        images = images.to(device)\n",
    "        targets = labels.to(device)\n",
    "\n",
    "        optimizer.zero_grad()\n",
    "        \n",
    "        outputs = model(images)\n",
    "        \n",
    "        loss = criterion(outputs, targets)\n",
    "        \n",
    "        loss.backward()\n",
    "        optimizer.step()\n",
    "        \n",
    "        running_loss += loss.item()\n",
    "    \n",
    "    print(f'Epoch [{epoch+1}/10], Loss: {running_loss/len(train_loader)}')\n"
   ]
  }
 ],
 "metadata": {
  "kernelspec": {
   "display_name": "GPU",
   "language": "python",
   "name": "python3"
  },
  "language_info": {
   "codemirror_mode": {
    "name": "ipython",
    "version": 3
   },
   "file_extension": ".py",
   "mimetype": "text/x-python",
   "name": "python",
   "nbconvert_exporter": "python",
   "pygments_lexer": "ipython3",
   "version": "3.10.12"
  }
 },
 "nbformat": 4,
 "nbformat_minor": 2
}
