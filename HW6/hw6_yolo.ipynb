{
 "cells": [
  {
   "cell_type": "code",
   "execution_count": 17,
   "metadata": {},
   "outputs": [
    {
     "name": "stdout",
     "output_type": "stream",
     "text": [
      "96000\n"
     ]
    }
   ],
   "source": [
    "import os\n",
    "import cv2\n",
    "import torch\n",
    "import random\n",
    "import numpy as np\n",
    "import torch.nn as nn\n",
    "from tqdm import tqdm\n",
    "import torch.optim as optim\n",
    "import matplotlib.pyplot as plt\n",
    "import torch.nn.functional as F\n",
    "from torchvision import transforms\n",
    "import matplotlib.patches as patches\n",
    "from torch.utils.data import Dataset, DataLoader, Subset\n",
    "\n",
    "class HandwrittenDigitsDataset(Dataset):\n",
    "    def __init__(self, images_folder, transform=None):\n",
    "        self.images_folder = images_folder\n",
    "        self.transform = transform\n",
    "        self.image_files = [os.path.join(images_folder, f) for f in os.listdir(images_folder) if f.endswith('.png')]\n",
    "    \n",
    "    def __len__(self):\n",
    "        return len(self.image_files)\n",
    "    \n",
    "    def __getitem__(self, idx):\n",
    "        img_path = self.image_files[idx]\n",
    "        image = cv2.imread(img_path, cv2.IMREAD_GRAYSCALE)\n",
    "        \n",
    "        label_path = img_path.replace('.png', '.txt')\n",
    "        labels = []\n",
    "        with open(label_path, 'r') as f:\n",
    "            for line in f:\n",
    "                label_data = line.strip().split('\\t')\n",
    "                digit_label = int(label_data[0])\n",
    "                bbox_coords = [float(coord) for coord in label_data[1:]]\n",
    "                labels.append([digit_label] + bbox_coords)\n",
    "\n",
    "        while len(labels) < 4:\n",
    "            labels.append([-1, -1, -1, -1, -1])\n",
    "            \n",
    "        if self.transform:\n",
    "            image = self.transform(image)\n",
    "        labels = np.array(labels, dtype=np.float32)\n",
    "        return image, labels\n",
    "\n",
    "transform = transforms.Compose([\n",
    "    transforms.ToPILImage(),\n",
    "    transforms.Resize((64, 64)),\n",
    "    transforms.ToTensor(),\n",
    "    transforms.Normalize((0.5,), (0.5,))\n",
    "])\n",
    "path = \"D:\\Casper\\OTHER\\Data\\\\aML\\hw6\\HW6_train\\\\5\\\\\"\n",
    "\n",
    "\n",
    "train_dataset = HandwrittenDigitsDataset(path, transform)\n",
    "print(len(train_dataset))"
   ]
  },
  {
   "cell_type": "code",
   "execution_count": 18,
   "metadata": {},
   "outputs": [],
   "source": [
    "def custom_collate_fn(batch):\n",
    "    images = []\n",
    "    labels = []\n",
    "\n",
    "    for image, label in batch:\n",
    "        images.append(image)\n",
    "        labels.append(torch.tensor(label, dtype=torch.float32))\n",
    "        \n",
    "    images = torch.stack(images, 0)\n",
    "    labels = torch.stack(labels, 0)\n",
    "\n",
    "    return images, labels\n",
    "train_loader = DataLoader(train_dataset, batch_size=8, shuffle=True, collate_fn=custom_collate_fn)\n"
   ]
  },
  {
   "cell_type": "code",
   "execution_count": 19,
   "metadata": {},
   "outputs": [],
   "source": [
    "def get_dataloaders(train_dataset, transform, train_ratio, val_ratio, batch_size):\n",
    "\n",
    "    # obtain training indices that will be used for validation\n",
    "    num_train = len(train_dataset)\n",
    "    indices = list(range(num_train))\n",
    "    print(\"--------- INDEX checking ---------\")\n",
    "    print(f\"Original: {indices[:5]}\")\n",
    "    random.shuffle(indices)\n",
    "    print(f\"Shuffled: {indices[:5]}\")\n",
    "    print(\"--------- INDEX shuffled ---------\\n\")\n",
    "\n",
    "    split_train = int(np.floor(train_ratio * num_train))\n",
    "    split_val = split_train + int(np.floor(val_ratio * (num_train-split_train)))\n",
    "    train_idx, val_idx, test_idx = indices[0:split_train], indices[split_train:split_val], indices[split_val:]\n",
    "    merge_dataset = Subset(train_dataset, train_idx)\n",
    "\n",
    "    train_loader = DataLoader(merge_dataset, batch_size=batch_size, collate_fn=custom_collate_fn)\n",
    "    val_loader = DataLoader(Subset(train_dataset, val_idx), batch_size=batch_size, collate_fn=custom_collate_fn)\n",
    "    test_loader = DataLoader(Subset(train_dataset, test_idx), batch_size=batch_size, collate_fn=custom_collate_fn)\n",
    "    \n",
    "    # check dataset\n",
    "    print(f\"Total number of samples: {num_train} datapoints\")\n",
    "    print(f\"Number of train samples: {len(train_loader)} batches/ {len(train_loader.dataset)} datapoints\")\n",
    "    print(f\"Number of val samples: {len(val_loader)} batches/ {len(val_loader.dataset)} datapoints\")\n",
    "    print(f\"Number of test samples: {len(test_loader)} batches/ {len(test_loader.dataset)} datapoints\")\n",
    "    print(f\"Data Transform: {transform}\")\n",
    "    print(f\"\")\n",
    "    \n",
    "    dataloaders = {\n",
    "        \"train\": train_loader,\n",
    "        \"val\": val_loader,\n",
    "        \"test\": test_loader,\n",
    "    }\n",
    "    return dataloaders"
   ]
  },
  {
   "cell_type": "code",
   "execution_count": 29,
   "metadata": {},
   "outputs": [
    {
     "name": "stdout",
     "output_type": "stream",
     "text": [
      "--------- INDEX checking ---------\n",
      "Original: [0, 1, 2, 3, 4]\n",
      "Shuffled: [67219, 74248, 72010, 91417, 26124]\n",
      "--------- INDEX shuffled ---------\n",
      "\n",
      "Total number of samples: 96000 datapoints\n",
      "Number of train samples: 1200 batches/ 76800 datapoints\n",
      "Number of val samples: 150 batches/ 9600 datapoints\n",
      "Number of test samples: 150 batches/ 9600 datapoints\n",
      "Data Transform: Compose(\n",
      "    ToPILImage()\n",
      "    Resize(size=(64, 64), interpolation=bilinear, max_size=None, antialias=warn)\n",
      "    ToTensor()\n",
      "    Normalize(mean=(0.5,), std=(0.5,))\n",
      ")\n",
      "\n"
     ]
    }
   ],
   "source": [
    "loaders = get_dataloaders(train_dataset, transform, 0.8, 0.5, 64)\n"
   ]
  },
  {
   "cell_type": "code",
   "execution_count": 30,
   "metadata": {},
   "outputs": [
    {
     "name": "stdout",
     "output_type": "stream",
     "text": [
      "Label:\n",
      " [[ 0.         0.515625   0.40625    0.21875    0.21875  ]\n",
      " [ 3.         0.015625   0.7734375  0.21875    0.21875  ]\n",
      " [ 4.         0.65625    0.7109375  0.21875    0.21875  ]\n",
      " [-1.        -1.        -1.        -1.        -1.       ]]\n"
     ]
    },
    {
     "data": {
      "image/png": "[encoded data removed]",
      "text/plain": [
       "<Figure size 640x480 with 1 Axes>"
      ]
     },
     "metadata": {},
     "output_type": "display_data"
    }
   ],
   "source": [
    "def display_image_and_tensor(dataset, index):\n",
    "    image, label = dataset[index]  # Get the first image and its label\n",
    "    print(\"Label:\\n\", label)\n",
    "    image_np = image.squeeze().numpy()  \n",
    "    plt.imshow(image_np, cmap='gray')\n",
    "    plt.show()\n",
    "\n",
    "display_image_and_tensor(train_dataset, 1)"
   ]
  },
  {
   "cell_type": "code",
   "execution_count": 31,
   "metadata": {},
   "outputs": [
    {
     "name": "stdout",
     "output_type": "stream",
     "text": [
      "8\n"
     ]
    }
   ],
   "source": [
    "count = 0\n",
    "for label in train_loader:\n",
    "    count +=1\n",
    "    if count >5:\n",
    "        print(len(label[0]))\n",
    "        break"
   ]
  },
  {
   "cell_type": "code",
   "execution_count": 32,
   "metadata": {},
   "outputs": [],
   "source": [
    "\n",
    "\n",
    "class SimpleCNN(nn.Module):\n",
    "    def __init__(self):\n",
    "        super(SimpleCNN, self).__init__()\n",
    "        self.conv1 = nn.Conv2d(1, 32, kernel_size=3, stride=1, padding=1)\n",
    "        self.conv2 = nn.Conv2d(32, 64, kernel_size=3, stride=1, padding=1)\n",
    "        self.conv3 = nn.Conv2d(64, 128, kernel_size=3, stride=1, padding=1)\n",
    "        self.pool = nn.MaxPool2d(kernel_size=2, stride=2, padding=0)\n",
    "        self.fc1 = nn.Linear(128 * 8 * 8, 256)\n",
    "        self.fc2 = nn.Linear(256, 4 * 5)\n",
    "    \n",
    "    def forward(self, x):\n",
    "        x = self.pool(F.relu(self.conv1(x)))\n",
    "        x = self.pool(F.relu(self.conv2(x)))\n",
    "        x = self.pool(F.relu(self.conv3(x)))\n",
    "        x = x.view(-1, 128 * 8 * 8)\n",
    "        x = F.relu(self.fc1(x))\n",
    "        x = self.fc2(x)\n",
    "        x = x.view(-1, 4, 5)  # Reshape to (batch_size, 4, 5)\n",
    "        return x\n",
    "\n",
    "model = SimpleCNN()\n"
   ]
  },
  {
   "cell_type": "code",
   "execution_count": 33,
   "metadata": {},
   "outputs": [],
   "source": [
    "import torch\n",
    "import torch.nn as nn\n",
    "import torch.nn.functional as F\n",
    "\n",
    "class ImprovedCNN(nn.Module):\n",
    "    def __init__(self):\n",
    "        super(ImprovedCNN, self).__init__()\n",
    "        self.conv1 = nn.Conv2d(1, 32, kernel_size=3, stride=1, padding=1)\n",
    "        self.bn1 = nn.BatchNorm2d(32)\n",
    "        self.conv2 = nn.Conv2d(32, 64, kernel_size=3, stride=1, padding=1)\n",
    "        self.bn2 = nn.BatchNorm2d(64)\n",
    "        self.conv3 = nn.Conv2d(64, 128, kernel_size=3, stride=1, padding=1)\n",
    "        self.bn3 = nn.BatchNorm2d(128)\n",
    "        self.conv4 = nn.Conv2d(128, 256, kernel_size=3, stride=1, padding=1)\n",
    "        self.bn4 = nn.BatchNorm2d(256)\n",
    "        self.pool = nn.MaxPool2d(kernel_size=2, stride=2, padding=0)\n",
    "        self.dropout = nn.Dropout(0.5)\n",
    "        self.fc1 = nn.Linear(256 * 4 * 4, 512)\n",
    "        self.fc2 = nn.Linear(512, 4 * 5)  # 5 bounding box coordinates + 1 confidence score\n",
    "    \n",
    "    def forward(self, x):\n",
    "        x = self.pool(F.relu(self.bn1(self.conv1(x))))\n",
    "        x = self.pool(F.relu(self.bn2(self.conv2(x))))\n",
    "        x = self.pool(F.relu(self.bn3(self.conv3(x))))\n",
    "        x = self.pool(F.relu(self.bn4(self.conv4(x))))\n",
    "        x = x.view(-1, 256 * 4 * 4)\n",
    "        x = F.relu(self.fc1(x))\n",
    "        x = self.dropout(x)\n",
    "        x = self.fc2(x)\n",
    "        x = x.view(-1, 4, 5)  # Reshape to (batch_size, 4, 6)\n",
    "        return x\n",
    "\n",
    "model = ImprovedCNN()\n"
   ]
  },
  {
   "cell_type": "code",
   "execution_count": 34,
   "metadata": {},
   "outputs": [],
   "source": [
    "def calculate_iou(pred_box, true_box):\n",
    "    \"\"\"\n",
    "    Calculate the IoU of two bounding boxes.\n",
    "\n",
    "    Parameters:\n",
    "    pred_box (Tensor): Predicted bounding box of shape (4,) in the format [x, y, w, h].\n",
    "    true_box (Tensor): True bounding box of shape (4,) in the format [x, y, w, h].\n",
    "\n",
    "    Returns:\n",
    "    float: IoU value.\n",
    "    \"\"\"\n",
    "    if isinstance(pred_box, np.ndarray):\n",
    "        pred_box = torch.tensor(pred_box)\n",
    "    if isinstance(true_box, np.ndarray):\n",
    "        true_box = torch.tensor(true_box)\n",
    "    # Transform from center coordinates to corner coordinates\n",
    "    pred_box = pred_box.unsqueeze(0)\n",
    "    true_box = true_box.unsqueeze(0)\n",
    "    pred_box = torch.cat([pred_box[..., :2] - pred_box[..., 2:] / 2,\n",
    "                          pred_box[..., :2] + pred_box[..., 2:] / 2], dim=-1)\n",
    "    true_box = torch.cat([true_box[..., :2] - true_box[..., 2:] / 2,\n",
    "                          true_box[..., :2] + true_box[..., 2:] / 2], dim=-1)\n",
    "\n",
    "    # Calculate the intersection coordinates\n",
    "    inter_top_left = torch.max(pred_box[..., :2], true_box[..., :2])\n",
    "    inter_bottom_right = torch.min(pred_box[..., 2:], true_box[..., 2:])\n",
    "    inter_dims = torch.clamp(inter_bottom_right - inter_top_left, min=0)\n",
    "\n",
    "    # Intersection area\n",
    "    inter_area = inter_dims[..., 0] * inter_dims[..., 1]\n",
    "\n",
    "    # Calculate the area of both bounding boxes\n",
    "    pred_area = (pred_box[..., 2] - pred_box[..., 0]) * (pred_box[..., 3] - pred_box[..., 1])\n",
    "    true_area = (true_box[..., 2] - true_box[..., 0]) * (true_box[..., 3] - true_box[..., 1])\n",
    "\n",
    "    # Union area\n",
    "    union_area = pred_area + true_area - inter_area\n",
    "\n",
    "    # IoU\n",
    "    iou = inter_area / union_area\n",
    "    return iou"
   ]
  },
  {
   "cell_type": "code",
   "execution_count": 35,
   "metadata": {},
   "outputs": [],
   "source": [
    "def batch_iou(preds, labels):\n",
    "    iou_scores = []\n",
    "    for i in range(len(preds)):\n",
    "        pred_boxes = preds[i]\n",
    "        label_boxes = labels[i]\n",
    "        for j in range(4):\n",
    "            if label_boxes[j][0] == -1:  # Ignore padding labels\n",
    "                continue\n",
    "            iou = calculate_iou(pred_boxes[j][1:], label_boxes[j][1:])\n",
    "            iou_scores.append(iou.item())\n",
    "    return np.mean(iou_scores) if iou_scores else 0.0"
   ]
  },
  {
   "cell_type": "code",
   "execution_count": 36,
   "metadata": {},
   "outputs": [],
   "source": [
    "def precision_recall(preds, labels, iou_threshold=0.5):\n",
    "    preds = sorted(preds, key=lambda x: x[1], reverse=True)  # Sort by confidence score\n",
    "    tp = 0\n",
    "    fp = 0\n",
    "    total_gt = len(labels)\n",
    "\n",
    "    for pred in preds:\n",
    "        pred_box = pred[2]\n",
    "        best_iou = 0\n",
    "        for label in labels:\n",
    "            true_box = label[1:]\n",
    "            iou = calculate_iou(pred_box, true_box)\n",
    "            if iou > best_iou:\n",
    "                best_iou = iou\n",
    "        if best_iou > iou_threshold:\n",
    "            tp += 1\n",
    "        else:\n",
    "            fp += 1\n",
    "\n",
    "    fn = total_gt - tp\n",
    "    precision = tp / (tp + fp) if tp + fp > 0 else 0\n",
    "    recall = tp / (tp + fn) if tp + fn > 0 else 0\n",
    "\n",
    "    return precision, recall\n",
    "\n",
    "def calculate_ap(precisions, recalls):\n",
    "    # Ensure precision and recall arrays are of the same length\n",
    "    precisions = np.concatenate(([0.0], precisions, [0.0]))\n",
    "    recalls = np.concatenate(([0.0], recalls, [1.0]))\n",
    "\n",
    "    # Ensure precision is a non-increasing function\n",
    "    for i in range(len(precisions) - 1, 0, -1):\n",
    "        precisions[i - 1] = np.maximum(precisions[i - 1], precisions[i])\n",
    "\n",
    "    # Calculate the AP as the area under the precision-recall curve\n",
    "    indices = np.where(recalls[1:] != recalls[:-1])[0]\n",
    "    ap = np.sum((recalls[indices + 1] - recalls[indices]) * precisions[indices + 1])\n",
    "\n",
    "    return ap\n",
    "\n",
    "def calculate_map(preds, labels):\n",
    "    precisions = []\n",
    "    recalls = []\n",
    "\n",
    "    for iou_threshold in np.arange(0.5, 1.0, 0.05):\n",
    "        precision, recall = precision_recall(preds, labels, iou_threshold)\n",
    "        precisions.append(precision)\n",
    "        recalls.append(recall)\n",
    "\n",
    "    ap = calculate_ap(np.array(precisions), np.array(recalls))\n",
    "    return ap\n"
   ]
  },
  {
   "cell_type": "code",
   "execution_count": 37,
   "metadata": {},
   "outputs": [
    {
     "name": "stderr",
     "output_type": "stream",
     "text": [
      "  0%|          | 0/12000 [00:00<?, ?it/s]"
     ]
    },
    {
     "name": "stderr",
     "output_type": "stream",
     "text": [
      "100%|██████████| 12000/12000 [07:15<00:00, 27.58it/s]\n"
     ]
    },
    {
     "name": "stdout",
     "output_type": "stream",
     "text": [
      "Epoch [1/10], Loss: 1.4650320528720815, IoU: 0.03620012589855357\n"
     ]
    },
    {
     "name": "stderr",
     "output_type": "stream",
     "text": [
      "100%|██████████| 12000/12000 [02:04<00:00, 96.26it/s]\n"
     ]
    },
    {
     "name": "stdout",
     "output_type": "stream",
     "text": [
      "Epoch [2/10], Loss: 1.2565471319158872, IoU: 0.03845984471886475\n"
     ]
    },
    {
     "name": "stderr",
     "output_type": "stream",
     "text": [
      "100%|██████████| 12000/12000 [02:05<00:00, 95.81it/s]\n"
     ]
    },
    {
     "name": "stdout",
     "output_type": "stream",
     "text": [
      "Epoch [3/10], Loss: 1.1942692496428886, IoU: 0.03893057029271315\n"
     ]
    },
    {
     "name": "stderr",
     "output_type": "stream",
     "text": [
      "100%|██████████| 12000/12000 [02:05<00:00, 95.74it/s]\n"
     ]
    },
    {
     "name": "stdout",
     "output_type": "stream",
     "text": [
      "Epoch [4/10], Loss: 1.1598673618783553, IoU: 0.03956346280685354\n"
     ]
    },
    {
     "name": "stderr",
     "output_type": "stream",
     "text": [
      "100%|██████████| 12000/12000 [02:05<00:00, 95.54it/s]\n"
     ]
    },
    {
     "name": "stdout",
     "output_type": "stream",
     "text": [
      "Epoch [5/10], Loss: 1.1366130375017722, IoU: 0.0399783668613082\n"
     ]
    },
    {
     "name": "stderr",
     "output_type": "stream",
     "text": [
      "100%|██████████| 12000/12000 [02:05<00:00, 95.75it/s]\n"
     ]
    },
    {
     "name": "stdout",
     "output_type": "stream",
     "text": [
      "Epoch [6/10], Loss: 1.1199970258089402, IoU: 0.040176943900192795\n"
     ]
    },
    {
     "name": "stderr",
     "output_type": "stream",
     "text": [
      "100%|██████████| 12000/12000 [02:05<00:00, 95.89it/s]\n"
     ]
    },
    {
     "name": "stdout",
     "output_type": "stream",
     "text": [
      "Epoch [7/10], Loss: 1.1096670200328032, IoU: 0.03995704093397308\n"
     ]
    },
    {
     "name": "stderr",
     "output_type": "stream",
     "text": [
      "100%|██████████| 12000/12000 [02:06<00:00, 94.95it/s]\n"
     ]
    },
    {
     "name": "stdout",
     "output_type": "stream",
     "text": [
      "Epoch [8/10], Loss: 1.102542752203842, IoU: 0.04004420861129959\n"
     ]
    },
    {
     "name": "stderr",
     "output_type": "stream",
     "text": [
      "100%|██████████| 12000/12000 [02:05<00:00, 95.64it/s]\n"
     ]
    },
    {
     "name": "stdout",
     "output_type": "stream",
     "text": [
      "Epoch [9/10], Loss: 1.0942078146288792, IoU: 0.04025056935609689\n"
     ]
    },
    {
     "name": "stderr",
     "output_type": "stream",
     "text": [
      "100%|██████████| 12000/12000 [02:05<00:00, 95.70it/s]\n"
     ]
    },
    {
     "name": "stdout",
     "output_type": "stream",
     "text": [
      "Epoch [10/10], Loss: 1.0869800170188149, IoU: 0.04021670260875347\n"
     ]
    },
    {
     "name": "stderr",
     "output_type": "stream",
     "text": [
      "100%|██████████| 12000/12000 [02:07<00:00, 94.40it/s]\n"
     ]
    },
    {
     "name": "stdout",
     "output_type": "stream",
     "text": [
      "Epoch [11/10], Loss: 1.0802462993686397, IoU: 0.04045241978786397\n"
     ]
    },
    {
     "name": "stderr",
     "output_type": "stream",
     "text": [
      "100%|██████████| 12000/12000 [02:05<00:00, 95.45it/s]\n"
     ]
    },
    {
     "name": "stdout",
     "output_type": "stream",
     "text": [
      "Epoch [12/10], Loss: 1.0740755550637842, IoU: 0.04036460740888314\n"
     ]
    },
    {
     "name": "stderr",
     "output_type": "stream",
     "text": [
      "100%|██████████| 12000/12000 [02:05<00:00, 95.37it/s]\n"
     ]
    },
    {
     "name": "stdout",
     "output_type": "stream",
     "text": [
      "Epoch [13/10], Loss: 1.06931259226799, IoU: 0.04038626170090914\n"
     ]
    },
    {
     "name": "stderr",
     "output_type": "stream",
     "text": [
      "100%|██████████| 12000/12000 [02:06<00:00, 94.89it/s]\n"
     ]
    },
    {
     "name": "stdout",
     "output_type": "stream",
     "text": [
      "Epoch [14/10], Loss: 1.063120780693988, IoU: 0.040322361864956295\n"
     ]
    },
    {
     "name": "stderr",
     "output_type": "stream",
     "text": [
      "100%|██████████| 12000/12000 [02:05<00:00, 95.29it/s]\n"
     ]
    },
    {
     "name": "stdout",
     "output_type": "stream",
     "text": [
      "Epoch [15/10], Loss: 1.0571314986795186, IoU: 0.04017899576770462\n"
     ]
    },
    {
     "name": "stderr",
     "output_type": "stream",
     "text": [
      "100%|██████████| 12000/12000 [02:05<00:00, 95.25it/s]\n"
     ]
    },
    {
     "name": "stdout",
     "output_type": "stream",
     "text": [
      "Epoch [16/10], Loss: 1.0527976112936934, IoU: 0.04015701915306625\n"
     ]
    },
    {
     "name": "stderr",
     "output_type": "stream",
     "text": [
      "100%|██████████| 12000/12000 [02:06<00:00, 94.56it/s]\n"
     ]
    },
    {
     "name": "stdout",
     "output_type": "stream",
     "text": [
      "Epoch [17/10], Loss: 1.048189038671553, IoU: 0.04015679823160769\n"
     ]
    },
    {
     "name": "stderr",
     "output_type": "stream",
     "text": [
      "100%|██████████| 12000/12000 [02:05<00:00, 95.53it/s]\n"
     ]
    },
    {
     "name": "stdout",
     "output_type": "stream",
     "text": [
      "Epoch [18/10], Loss: 1.0434395290190974, IoU: 0.04011472879666323\n"
     ]
    },
    {
     "name": "stderr",
     "output_type": "stream",
     "text": [
      "100%|██████████| 12000/12000 [02:05<00:00, 95.78it/s]\n"
     ]
    },
    {
     "name": "stdout",
     "output_type": "stream",
     "text": [
      "Epoch [19/10], Loss: 1.0354540100370844, IoU: 0.039873132115299456\n"
     ]
    },
    {
     "name": "stderr",
     "output_type": "stream",
     "text": [
      "100%|██████████| 12000/12000 [02:05<00:00, 95.34it/s]\n"
     ]
    },
    {
     "name": "stdout",
     "output_type": "stream",
     "text": [
      "Epoch [20/10], Loss: 1.0311280716732145, IoU: 0.03998271851445531\n"
     ]
    },
    {
     "name": "stderr",
     "output_type": "stream",
     "text": [
      "100%|██████████| 12000/12000 [02:05<00:00, 95.60it/s]\n"
     ]
    },
    {
     "name": "stdout",
     "output_type": "stream",
     "text": [
      "Epoch [21/10], Loss: 1.0238543301497895, IoU: 0.04008790988935386\n"
     ]
    },
    {
     "name": "stderr",
     "output_type": "stream",
     "text": [
      "100%|██████████| 12000/12000 [02:05<00:00, 95.60it/s]\n"
     ]
    },
    {
     "name": "stdout",
     "output_type": "stream",
     "text": [
      "Epoch [22/10], Loss: 1.0209286494217813, IoU: 0.0400075141438532\n"
     ]
    },
    {
     "name": "stderr",
     "output_type": "stream",
     "text": [
      "100%|██████████| 12000/12000 [02:05<00:00, 95.40it/s]\n"
     ]
    },
    {
     "name": "stdout",
     "output_type": "stream",
     "text": [
      "Epoch [23/10], Loss: 1.0138072196220358, IoU: 0.039869163381840704\n"
     ]
    },
    {
     "name": "stderr",
     "output_type": "stream",
     "text": [
      "100%|██████████| 12000/12000 [02:05<00:00, 95.64it/s]\n"
     ]
    },
    {
     "name": "stdout",
     "output_type": "stream",
     "text": [
      "Epoch [24/10], Loss: 1.0087259479140243, IoU: 0.039752466722085114\n"
     ]
    },
    {
     "name": "stderr",
     "output_type": "stream",
     "text": [
      "100%|██████████| 12000/12000 [02:07<00:00, 94.18it/s]\n"
     ]
    },
    {
     "name": "stdout",
     "output_type": "stream",
     "text": [
      "Epoch [25/10], Loss: 1.0037669571737449, IoU: 0.039952340618782\n"
     ]
    },
    {
     "name": "stderr",
     "output_type": "stream",
     "text": [
      "100%|██████████| 12000/12000 [02:07<00:00, 93.92it/s]\n"
     ]
    },
    {
     "name": "stdout",
     "output_type": "stream",
     "text": [
      "Epoch [26/10], Loss: 0.9986705299777289, IoU: 0.03972017793438701\n"
     ]
    },
    {
     "name": "stderr",
     "output_type": "stream",
     "text": [
      "100%|██████████| 12000/12000 [02:06<00:00, 94.56it/s]\n"
     ]
    },
    {
     "name": "stdout",
     "output_type": "stream",
     "text": [
      "Epoch [27/10], Loss: 0.99664857344081, IoU: 0.03965517963441268\n"
     ]
    },
    {
     "name": "stderr",
     "output_type": "stream",
     "text": [
      "100%|██████████| 12000/12000 [02:07<00:00, 93.96it/s]\n"
     ]
    },
    {
     "name": "stdout",
     "output_type": "stream",
     "text": [
      "Epoch [28/10], Loss: 0.9913636837986608, IoU: 0.03967448266569539\n"
     ]
    },
    {
     "name": "stderr",
     "output_type": "stream",
     "text": [
      "100%|██████████| 12000/12000 [02:06<00:00, 94.50it/s]\n"
     ]
    },
    {
     "name": "stdout",
     "output_type": "stream",
     "text": [
      "Epoch [29/10], Loss: 0.9869344559274614, IoU: 0.039842633548009425\n"
     ]
    },
    {
     "name": "stderr",
     "output_type": "stream",
     "text": [
      "100%|██████████| 12000/12000 [02:06<00:00, 94.54it/s]\n"
     ]
    },
    {
     "name": "stdout",
     "output_type": "stream",
     "text": [
      "Epoch [30/10], Loss: 0.9822895574520032, IoU: 0.039705190180014935\n"
     ]
    },
    {
     "name": "stderr",
     "output_type": "stream",
     "text": [
      "100%|██████████| 12000/12000 [02:06<00:00, 94.54it/s]\n"
     ]
    },
    {
     "name": "stdout",
     "output_type": "stream",
     "text": [
      "Epoch [31/10], Loss: 0.9787425031587481, IoU: 0.03956472083398502\n"
     ]
    },
    {
     "name": "stderr",
     "output_type": "stream",
     "text": [
      "100%|██████████| 12000/12000 [02:05<00:00, 95.62it/s]\n"
     ]
    },
    {
     "name": "stdout",
     "output_type": "stream",
     "text": [
      "Epoch [32/10], Loss: 0.9761365733196338, IoU: 0.03970505273707612\n"
     ]
    },
    {
     "name": "stderr",
     "output_type": "stream",
     "text": [
      "100%|██████████| 12000/12000 [02:05<00:00, 95.44it/s]\n"
     ]
    },
    {
     "name": "stdout",
     "output_type": "stream",
     "text": [
      "Epoch [33/10], Loss: 0.9726179000760118, IoU: 0.03974486798799209\n"
     ]
    },
    {
     "name": "stderr",
     "output_type": "stream",
     "text": [
      "100%|██████████| 12000/12000 [02:06<00:00, 94.95it/s]\n"
     ]
    },
    {
     "name": "stdout",
     "output_type": "stream",
     "text": [
      "Epoch [34/10], Loss: 0.9703631036331256, IoU: 0.039852052732683024\n"
     ]
    },
    {
     "name": "stderr",
     "output_type": "stream",
     "text": [
      "100%|██████████| 12000/12000 [02:05<00:00, 95.58it/s]\n"
     ]
    },
    {
     "name": "stdout",
     "output_type": "stream",
     "text": [
      "Epoch [35/10], Loss: 0.965816083283474, IoU: 0.039826292600596676\n"
     ]
    },
    {
     "name": "stderr",
     "output_type": "stream",
     "text": [
      "100%|██████████| 12000/12000 [02:05<00:00, 95.35it/s]\n"
     ]
    },
    {
     "name": "stdout",
     "output_type": "stream",
     "text": [
      "Epoch [36/10], Loss: 0.9638969959542155, IoU: 0.039794685541363395\n"
     ]
    },
    {
     "name": "stderr",
     "output_type": "stream",
     "text": [
      "100%|██████████| 12000/12000 [02:06<00:00, 94.68it/s]\n"
     ]
    },
    {
     "name": "stdout",
     "output_type": "stream",
     "text": [
      "Epoch [37/10], Loss: 0.9609225575166443, IoU: 0.039815402896005915\n"
     ]
    },
    {
     "name": "stderr",
     "output_type": "stream",
     "text": [
      "100%|██████████| 12000/12000 [02:05<00:00, 95.72it/s]\n"
     ]
    },
    {
     "name": "stdout",
     "output_type": "stream",
     "text": [
      "Epoch [38/10], Loss: 0.9566649080949525, IoU: 0.03963684262874946\n"
     ]
    },
    {
     "name": "stderr",
     "output_type": "stream",
     "text": [
      "100%|██████████| 12000/12000 [02:05<00:00, 95.57it/s]\n"
     ]
    },
    {
     "name": "stdout",
     "output_type": "stream",
     "text": [
      "Epoch [39/10], Loss: 0.9556293452245493, IoU: 0.03959711381086925\n"
     ]
    },
    {
     "name": "stderr",
     "output_type": "stream",
     "text": [
      "100%|██████████| 12000/12000 [02:05<00:00, 95.47it/s]\n"
     ]
    },
    {
     "name": "stdout",
     "output_type": "stream",
     "text": [
      "Epoch [40/10], Loss: 0.9530335382396976, IoU: 0.04003670721588671\n"
     ]
    },
    {
     "name": "stderr",
     "output_type": "stream",
     "text": [
      "100%|██████████| 12000/12000 [02:05<00:00, 95.41it/s]\n"
     ]
    },
    {
     "name": "stdout",
     "output_type": "stream",
     "text": [
      "Epoch [41/10], Loss: 0.9530344536105791, IoU: 0.039836851412295\n"
     ]
    },
    {
     "name": "stderr",
     "output_type": "stream",
     "text": [
      "100%|██████████| 12000/12000 [02:05<00:00, 95.57it/s]\n"
     ]
    },
    {
     "name": "stdout",
     "output_type": "stream",
     "text": [
      "Epoch [42/10], Loss: 0.9489800704096755, IoU: 0.0396474272261798\n"
     ]
    },
    {
     "name": "stderr",
     "output_type": "stream",
     "text": [
      "100%|██████████| 12000/12000 [02:05<00:00, 95.29it/s]\n"
     ]
    },
    {
     "name": "stdout",
     "output_type": "stream",
     "text": [
      "Epoch [43/10], Loss: 0.9458491693263252, IoU: 0.03985711059844457\n"
     ]
    },
    {
     "name": "stderr",
     "output_type": "stream",
     "text": [
      "100%|██████████| 12000/12000 [02:05<00:00, 95.75it/s]\n"
     ]
    },
    {
     "name": "stdout",
     "output_type": "stream",
     "text": [
      "Epoch [44/10], Loss: 0.9457764487937093, IoU: 0.03983853478668339\n"
     ]
    },
    {
     "name": "stderr",
     "output_type": "stream",
     "text": [
      "100%|██████████| 12000/12000 [02:05<00:00, 95.51it/s]\n"
     ]
    },
    {
     "name": "stdout",
     "output_type": "stream",
     "text": [
      "Epoch [45/10], Loss: 0.9425242930576205, IoU: 0.039688181926114625\n"
     ]
    },
    {
     "name": "stderr",
     "output_type": "stream",
     "text": [
      "100%|██████████| 12000/12000 [02:05<00:00, 95.48it/s]\n"
     ]
    },
    {
     "name": "stdout",
     "output_type": "stream",
     "text": [
      "Epoch [46/10], Loss: 0.9395211367582281, IoU: 0.039564198141716606\n"
     ]
    },
    {
     "name": "stderr",
     "output_type": "stream",
     "text": [
      "100%|██████████| 12000/12000 [02:05<00:00, 95.71it/s]\n"
     ]
    },
    {
     "name": "stdout",
     "output_type": "stream",
     "text": [
      "Epoch [47/10], Loss: 0.9377385825117429, IoU: 0.03961413180880911\n"
     ]
    },
    {
     "name": "stderr",
     "output_type": "stream",
     "text": [
      "100%|██████████| 12000/12000 [02:06<00:00, 94.98it/s]\n"
     ]
    },
    {
     "name": "stdout",
     "output_type": "stream",
     "text": [
      "Epoch [48/10], Loss: 0.9363575537701447, IoU: 0.03984766486148349\n"
     ]
    },
    {
     "name": "stderr",
     "output_type": "stream",
     "text": [
      "100%|██████████| 12000/12000 [02:04<00:00, 96.00it/s]\n"
     ]
    },
    {
     "name": "stdout",
     "output_type": "stream",
     "text": [
      "Epoch [49/10], Loss: 0.9312759667883317, IoU: 0.04014781755571382\n"
     ]
    },
    {
     "name": "stderr",
     "output_type": "stream",
     "text": [
      "100%|██████████| 12000/12000 [02:05<00:00, 95.31it/s]"
     ]
    },
    {
     "name": "stdout",
     "output_type": "stream",
     "text": [
      "Epoch [50/10], Loss: 0.9286434333895643, IoU: 0.03997366222576095\n"
     ]
    },
    {
     "name": "stderr",
     "output_type": "stream",
     "text": [
      "\n"
     ]
    }
   ],
   "source": [
    "\n",
    "criterion = nn.MSELoss()\n",
    "optimizer = optim.Adam(model.parameters(), lr=0.001)\n",
    "\n",
    "device = torch.device(\"cuda\" if torch.cuda.is_available() else \"cpu\")\n",
    "model.to(device)\n",
    "\n",
    "for epoch in range(50):\n",
    "    model.train()\n",
    "    running_loss = 0.0\n",
    "    running_iou = 0.0\n",
    "    count = 0\n",
    "    all_preds = []\n",
    "    all_labels = []\n",
    "    for images, labels in tqdm(train_loader):\n",
    "        images = images.to(device)\n",
    "        labels = labels.to(device)\n",
    "\n",
    "        optimizer.zero_grad()\n",
    "        outputs = model(images)\n",
    "\n",
    "        # Ensure outputs and labels are of the same shape\n",
    "        loss = criterion(outputs, labels)\n",
    "        \n",
    "        loss.backward()\n",
    "        optimizer.step()\n",
    "        \n",
    "        running_loss += loss.item()\n",
    "        # Collect all predictions and labels for mAP calculation\n",
    "        for i in range(len(outputs)):\n",
    "            preds = outputs[i].cpu().detach().numpy()\n",
    "            labs = labels[i].cpu().detach().numpy()\n",
    "            for j in range(4):\n",
    "                if labs[j][0] != -1:  # Ignore padding labels\n",
    "                    all_preds.append([labs[j][0], preds[j][0], preds[j][1:]])\n",
    "                    all_labels.append([labs[j][0]] + labs[j][1:])\n",
    "        iou = batch_iou(outputs.cpu().detach().numpy(), labels.cpu().detach().numpy())\n",
    "        running_iou += iou\n",
    "\n",
    "        # count += 1\n",
    "        # if count > 100:\n",
    "        #     break\n",
    "    # map_score = calculate_map(all_preds, all_labels)\n",
    "    print(f'Epoch [{epoch+1}/10], Loss: {running_loss/len(train_loader)}, IoU: {running_iou/len(train_loader)}')\n",
    "\n"
   ]
  },
  {
   "cell_type": "code",
   "execution_count": 38,
   "metadata": {},
   "outputs": [],
   "source": [
    "model_scripted = torch.jit.script(model.cpu()) # Export to TorchScript\n",
    "model_scripted.save('model_0605_1745.pt') # Save"
   ]
  },
  {
   "cell_type": "code",
   "execution_count": 39,
   "metadata": {},
   "outputs": [],
   "source": [
    "def draw_bboxes(image, outputs):\n",
    "    fig, ax = plt.subplots(1)\n",
    "    ax.imshow(image, cmap='gray')\n",
    "    image_size = image.shape\n",
    "    height, width = image_size\n",
    "    for i in range(outputs.shape[0]):\n",
    "        # Extract the bounding box and class information\n",
    "        conf = outputs[i, 0]\n",
    "        if conf >= 0.0:  # Only consider boxes with confidence greater than a threshold\n",
    "            class_id = outputs[i, 0]\n",
    "            bbox = outputs[i, 1:]\n",
    "            \n",
    "            # Convert center coordinates to top-left corner coordinates\n",
    "            x, y, w, h = bbox * np.array([width, height, width, height])\n",
    "            x = abs(x)\n",
    "            y = abs(y)\n",
    "            w = abs(w)\n",
    "            h = abs(h)\n",
    "            \n",
    "            # Create a Rectangle patch\n",
    "            rect = patches.Rectangle((x, y), w, h, linewidth=2, edgecolor='r', facecolor='none')\n",
    "            ax.add_patch(rect)\n",
    "            \n",
    "            # Add class label\n",
    "            plt.text(x, y, f'{int(class_id)}', color='red', fontsize=12, bbox=dict(facecolor='white', alpha=0.5))\n",
    "    \n",
    "    plt.show()"
   ]
  },
  {
   "cell_type": "code",
   "execution_count": 40,
   "metadata": {},
   "outputs": [
    {
     "data": {
      "image/png": "[encoded data removed]",
      "text/plain": [
       "<Figure size 640x480 with 1 Axes>"
      ]
     },
     "metadata": {},
     "output_type": "display_data"
    }
   ],
   "source": [
    "\n",
    "model.eval()\n",
    "model.cuda()\n",
    "with torch.no_grad():\n",
    "    for images, _ in train_loader:\n",
    "        images = images.to(device)\n",
    "        outputs = model(images)\n",
    "        output = _[0].cpu().numpy()  # Take the first image in the batch\n",
    "        output = outputs[0].cpu().numpy()  # Take the first image in the batch\n",
    "        # print(_[0])\n",
    "        # Draw bounding boxes on the image\n",
    "        image_np = images[0].cpu().squeeze().numpy()\n",
    "        # draw_bboxes(image_np, output)\n",
    "        draw_bboxes(image_np, output)\n",
    "        break"
   ]
  },
  {
   "cell_type": "code",
   "execution_count": 41,
   "metadata": {},
   "outputs": [
    {
     "name": "stdout",
     "output_type": "stream",
     "text": [
      "[[ 3.4162002   0.36751717  0.371573    0.21932657  0.21732289]\n",
      " [ 3.611568    0.39497152  0.4177311   0.21995865  0.22279875]\n",
      " [ 2.8855443   0.21766749  0.1872739   0.06849106  0.06849109]\n",
      " [ 0.15671033 -0.4904275  -0.48816112 -0.5397589  -0.5397589 ]]\n"
     ]
    },
    {
     "data": {
      "image/png": "[encoded data removed]",
      "text/plain": [
       "<Figure size 640x480 with 1 Axes>"
      ]
     },
     "metadata": {},
     "output_type": "display_data"
    }
   ],
   "source": [
    "model.eval()\n",
    "with torch.no_grad():\n",
    "    for images, _ in train_loader:\n",
    "        images = images.to(device)\n",
    "        outputs = model(images)\n",
    "        print(outputs[0].cpu().numpy())\n",
    "        image_np = images[0].cpu().squeeze().numpy()  \n",
    "        plt.imshow(image_np, cmap='gray')\n",
    "        plt.show()\n",
    "        break"
   ]
  },
  {
   "cell_type": "code",
   "execution_count": 43,
   "metadata": {},
   "outputs": [
    {
     "data": {
      "text/plain": [
       "RecursiveScriptModule(\n",
       "  original_name=ImprovedCNN\n",
       "  (conv1): RecursiveScriptModule(original_name=Conv2d)\n",
       "  (bn1): RecursiveScriptModule(original_name=BatchNorm2d)\n",
       "  (conv2): RecursiveScriptModule(original_name=Conv2d)\n",
       "  (bn2): RecursiveScriptModule(original_name=BatchNorm2d)\n",
       "  (conv3): RecursiveScriptModule(original_name=Conv2d)\n",
       "  (bn3): RecursiveScriptModule(original_name=BatchNorm2d)\n",
       "  (conv4): RecursiveScriptModule(original_name=Conv2d)\n",
       "  (bn4): RecursiveScriptModule(original_name=BatchNorm2d)\n",
       "  (pool): RecursiveScriptModule(original_name=MaxPool2d)\n",
       "  (dropout): RecursiveScriptModule(original_name=Dropout)\n",
       "  (fc1): RecursiveScriptModule(original_name=Linear)\n",
       "  (fc2): RecursiveScriptModule(original_name=Linear)\n",
       ")"
      ]
     },
     "execution_count": 43,
     "metadata": {},
     "output_type": "execute_result"
    }
   ],
   "source": [
    "model = torch.jit.load('model_0605_1745.pt').cuda()\n",
    "device = torch.device(\"cuda\" if torch.cuda.is_available() else \"cpu\")\n",
    "# print(model)\n",
    "model.eval()"
   ]
  },
  {
   "cell_type": "code",
   "execution_count": 47,
   "metadata": {},
   "outputs": [
    {
     "name": "stdout",
     "output_type": "stream",
     "text": [
      "24000\n"
     ]
    }
   ],
   "source": [
    "class TEST_HandwrittenDigitsDataset(Dataset):\n",
    "    def __init__(self, images_folder, transform=None):\n",
    "        self.images_folder = images_folder\n",
    "        self.transform = transform\n",
    "        self.image_files = [f for f in os.listdir(images_folder) if f.endswith('.png')]\n",
    "        \n",
    "    def __len__(self):\n",
    "        return len(self.image_files)\n",
    "    \n",
    "    def __getitem__(self, idx):\n",
    "        img_path = self.image_files[idx]\n",
    "        image = cv2.imread(os.path.join(self.images_folder, img_path), cv2.IMREAD_GRAYSCALE)\n",
    "        if self.transform:\n",
    "            image = self.transform(image)\n",
    "        return image, img_path[:-4]\n",
    "path = \"D:\\Casper\\OTHER\\Data\\\\aML\\hw6\\HW6_test\\\\\"\n",
    "test_dataset = TEST_HandwrittenDigitsDataset(path, transform)\n",
    "print(len(test_dataset))"
   ]
  },
  {
   "cell_type": "code",
   "execution_count": 48,
   "metadata": {},
   "outputs": [
    {
     "data": {
      "text/plain": [
       "(tensor([[[-1., -1., -1.,  ..., -1., -1., -1.],\n",
       "          [-1., -1., -1.,  ..., -1., -1., -1.],\n",
       "          [-1., -1., -1.,  ..., -1., -1., -1.],\n",
       "          ...,\n",
       "          [-1., -1., -1.,  ..., -1., -1., -1.],\n",
       "          [-1., -1., -1.,  ..., -1., -1., -1.],\n",
       "          [-1., -1., -1.,  ..., -1., -1., -1.]]]),\n",
       " '0000003')"
      ]
     },
     "execution_count": 48,
     "metadata": {},
     "output_type": "execute_result"
    }
   ],
   "source": [
    "test_dataset[0]"
   ]
  },
  {
   "cell_type": "code",
   "execution_count": 49,
   "metadata": {},
   "outputs": [],
   "source": [
    "def TEST_custom_collate_fn(batch):\n",
    "    images = []\n",
    "    for image, img_path in batch:\n",
    "        images.append(image)\n",
    "        \n",
    "    images = torch.stack(images, 0)\n",
    "\n",
    "    return images, img_path"
   ]
  },
  {
   "cell_type": "code",
   "execution_count": 55,
   "metadata": {},
   "outputs": [],
   "source": [
    "test_loader = DataLoader(test_dataset, batch_size=1,shuffle=True, collate_fn=TEST_custom_collate_fn)\n",
    "# display_image_and_tensor(test_dataset, 1)\n"
   ]
  },
  {
   "cell_type": "code",
   "execution_count": 51,
   "metadata": {},
   "outputs": [],
   "source": [
    "import csv\n",
    "with open('model_output.csv', mode='w', newline='') as file:\n",
    "    writer = csv.writer(file)\n",
    "    writer.writerow(['IMAGE_index', 'class', 'x', 'y', 'w', 'h'])  # 写入CSV标题行\n",
    "    \n",
    "    model.eval()\n",
    "\n",
    "    with torch.no_grad():\n",
    "        for images, img_name in test_loader:\n",
    "            images = images.to(device)\n",
    "            outputs = model(images)\n",
    "            # print(outputs[0].cpu().numpy())\n",
    "            # print(img_name)\n",
    "            \n",
    "            # image_np = images[0].cpu().squeeze().numpy()  \n",
    "            # plt.imshow(image_np, cmap='gray')\n",
    "            # plt.show()\n",
    "            output = outputs[0].cpu().numpy()  # Take the first image in the batch\n",
    "            # print(output)\n",
    "            # draw_bboxes(image_np, output)\n",
    "            for item in output:\n",
    "                # print(item)\n",
    "                class_id, x_center, y_center, width, height = item\n",
    "                class_id = int(np.floor(class_id))  # 将类标签取整\n",
    "                if class_id < 0 or x_center < 0 or y_center < 0 or width < 0 or height < 0:\n",
    "                    continue  # 跳过包含负值的条目\n",
    "                writer.writerow([img_name, class_id, x_center, y_center, width, height])\n",
    "            # break"
   ]
  },
  {
   "cell_type": "code",
   "execution_count": 88,
   "metadata": {},
   "outputs": [
    {
     "name": "stdout",
     "output_type": "stream",
     "text": [
      "[[ 1.2475443   0.3419472   0.35080594  0.21918906  0.21748056]\n",
      " [ 1.7066779   0.37358767  0.37708813  0.21937525  0.22063571]\n",
      " [-1.0218015  -0.81351304 -0.80972016 -0.8117822  -0.81178224]\n",
      " [-0.9191141  -0.85289884 -0.86346817 -0.8634635  -0.8634635 ]]\n"
     ]
    },
    {
     "data": {
      "image/png": "[encoded data removed]",
      "text/plain": [
       "<Figure size 640x480 with 1 Axes>"
      ]
     },
     "metadata": {},
     "output_type": "display_data"
    }
   ],
   "source": [
    "    \n",
    "model.eval()\n",
    "\n",
    "with torch.no_grad():\n",
    "    for images, img_name in test_loader:\n",
    "        images = images.to(device)\n",
    "        outputs = model(images)\n",
    "        # print(outputs[0].cpu().numpy())\n",
    "        # print(img_name)\n",
    "        \n",
    "        image_np = images[0].cpu().squeeze().numpy()  \n",
    "        # plt.imshow(image_np, cmap='gray')\n",
    "        # plt.show()\n",
    "        output = outputs[0].cpu().numpy()  # Take the first image in the batch\n",
    "        print(output)\n",
    "        draw_bboxes(image_np, output)\n",
    "        \n",
    "        break"
   ]
  },
  {
   "cell_type": "code",
   "execution_count": null,
   "metadata": {},
   "outputs": [],
   "source": []
  }
 ],
 "metadata": {
  "kernelspec": {
   "display_name": "GPU",
   "language": "python",
   "name": "python3"
  },
  "language_info": {
   "codemirror_mode": {
    "name": "ipython",
    "version": 3
   },
   "file_extension": ".py",
   "mimetype": "text/x-python",
   "name": "python",
   "nbconvert_exporter": "python",
   "pygments_lexer": "ipython3",
   "version": "3.10.12"
  }
 },
 "nbformat": 4,
 "nbformat_minor": 2
}
